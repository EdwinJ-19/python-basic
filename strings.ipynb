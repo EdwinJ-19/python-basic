{
 "cells": [
  {
   "cell_type": "code",
   "execution_count": 1,
   "id": "c5e7cd8e-fdb7-44dd-8295-6caaccc67afb",
   "metadata": {},
   "outputs": [
    {
     "data": {
      "text/plain": [
       "str"
      ]
     },
     "execution_count": 1,
     "metadata": {},
     "output_type": "execute_result"
    }
   ],
   "source": [
    "name=\"Hello Everyone\"\n",
    "name\n",
    "type(name)"
   ]
  },
  {
   "cell_type": "code",
   "execution_count": 2,
   "id": "0906002c-2153-4a46-8525-bdf7e18e6243",
   "metadata": {},
   "outputs": [
    {
     "name": "stdout",
     "output_type": "stream",
     "text": [
      "<class 'str'>\n",
      "<class 'str'>\n"
     ]
    }
   ],
   "source": [
    "name1='Hello Everyone!'\n",
    "name2='''name=\"HEllo Everyone\"'''\n",
    "print(type(name1))\n",
    "print(type(name2))"
   ]
  },
  {
   "cell_type": "code",
   "execution_count": 3,
   "id": "322409a9-46bf-4628-b703-9538b64c20e2",
   "metadata": {},
   "outputs": [
    {
     "data": {
      "text/plain": [
       "14"
      ]
     },
     "execution_count": 3,
     "metadata": {},
     "output_type": "execute_result"
    }
   ],
   "source": [
    "len(name)"
   ]
  },
  {
   "cell_type": "code",
   "execution_count": 6,
   "id": "caa97c98-ceb2-452d-a67c-3ab3c0fd003f",
   "metadata": {},
   "outputs": [
    {
     "data": {
      "text/plain": [
       "'l'"
      ]
     },
     "execution_count": 6,
     "metadata": {},
     "output_type": "execute_result"
    }
   ],
   "source": [
    "name[0] #print particular word "
   ]
  },
  {
   "cell_type": "code",
   "execution_count": 7,
   "id": "96c3c44e-b606-43bc-8ac8-e0c638b5e978",
   "metadata": {},
   "outputs": [
    {
     "data": {
      "text/plain": [
       "'Hello'"
      ]
     },
     "execution_count": 7,
     "metadata": {},
     "output_type": "execute_result"
    }
   ],
   "source": [
    "name[0:5] #str[start:stop:step(n-1)]\n"
   ]
  },
  {
   "cell_type": "code",
   "execution_count": 8,
   "id": "40169784-7cc9-4e1d-a796-0b8d03b1e65d",
   "metadata": {},
   "outputs": [
    {
     "data": {
      "text/plain": [
       "'HloEe'"
      ]
     },
     "execution_count": 8,
     "metadata": {},
     "output_type": "execute_result"
    }
   ],
   "source": [
    "name[0:10:2]"
   ]
  },
  {
   "cell_type": "code",
   "execution_count": 14,
   "id": "3a84659e-beb3-43fa-ba12-d777509cc3b1",
   "metadata": {},
   "outputs": [
    {
     "data": {
      "text/plain": [
       "'enoyrevE olleH'"
      ]
     },
     "execution_count": 14,
     "metadata": {},
     "output_type": "execute_result"
    }
   ],
   "source": [
    "name[::-1]"
   ]
  },
  {
   "cell_type": "code",
   "execution_count": 10,
   "id": "b2de28ad-5a21-4741-adbf-343f2e8ab8a0",
   "metadata": {},
   "outputs": [
    {
     "data": {
      "text/plain": [
       "'Hoe'"
      ]
     },
     "execution_count": 10,
     "metadata": {},
     "output_type": "execute_result"
    }
   ],
   "source": [
    "name[0:10:4]"
   ]
  },
  {
   "cell_type": "code",
   "execution_count": 19,
   "id": "f0847444-85dc-49f2-9476-d6738e511132",
   "metadata": {},
   "outputs": [
    {
     "name": "stdout",
     "output_type": "stream",
     "text": [
      "Good Afternoon\n"
     ]
    }
   ],
   "source": [
    "#concatenation (merging words)\n",
    "a=\"Good\"\n",
    "b=\"Afternoon\"\n",
    "d=\"yoga\"\n",
    "c=a+\" \"+b\n",
    "print(c)"
   ]
  },
  {
   "cell_type": "code",
   "execution_count": 15,
   "id": "cbc34733-043a-4ce0-9e04-80ed5e026597",
   "metadata": {},
   "outputs": [
    {
     "data": {
      "text/plain": [
       "'GoodGoodGoodGoodGood'"
      ]
     },
     "execution_count": 15,
     "metadata": {},
     "output_type": "execute_result"
    }
   ],
   "source": [
    "a*5"
   ]
  },
  {
   "cell_type": "code",
   "execution_count": 17,
   "id": "3b0671fb-fd9d-4779-9fc3-de10bfcea637",
   "metadata": {},
   "outputs": [
    {
     "data": {
      "text/plain": [
       "'GOOD'"
      ]
     },
     "execution_count": 17,
     "metadata": {},
     "output_type": "execute_result"
    }
   ],
   "source": [
    "#does the work that puts big/capital in all sentence or word\n",
    "a.upper()"
   ]
  },
  {
   "cell_type": "code",
   "execution_count": 18,
   "id": "378a043b-f363-406e-a312-88d0bdd2c316",
   "metadata": {},
   "outputs": [
    {
     "data": {
      "text/plain": [
       "'good'"
      ]
     },
     "execution_count": 18,
     "metadata": {},
     "output_type": "execute_result"
    }
   ],
   "source": [
    "#does the work that puts small in all sentence or word\n",
    "a.lower()"
   ]
  },
  {
   "cell_type": "code",
   "execution_count": 20,
   "id": "5ae4b4f8-5276-4691-98cd-209cb5839437",
   "metadata": {},
   "outputs": [
    {
     "data": {
      "text/plain": [
       "'Yoga'"
      ]
     },
     "execution_count": 20,
     "metadata": {},
     "output_type": "execute_result"
    }
   ],
   "source": [
    "#does the work of capital in the sentence or particular word\n",
    "d.capitalize()"
   ]
  },
  {
   "cell_type": "code",
   "execution_count": 21,
   "id": "0ee59b3b-a818-4a4a-a882-d3b6f896139c",
   "metadata": {},
   "outputs": [
    {
     "data": {
      "text/plain": [
       "False"
      ]
     },
     "execution_count": 21,
     "metadata": {},
     "output_type": "execute_result"
    }
   ],
   "source": [
    "#check whether the word is in the stored values\n",
    "\"Afternoon\" in a "
   ]
  },
  {
   "cell_type": "code",
   "execution_count": 27,
   "id": "ffc16e2f-564b-490a-8ddd-ee51b8f0bccd",
   "metadata": {},
   "outputs": [
    {
     "data": {
      "text/plain": [
       "'Hey there. Edwin here    '"
      ]
     },
     "execution_count": 27,
     "metadata": {},
     "output_type": "execute_result"
    }
   ],
   "source": [
    "a=\"    Hey there. Edwin here    \"\n",
    "a.lstrip()"
   ]
  },
  {
   "cell_type": "code",
   "execution_count": 28,
   "id": "fb13266b-5b3b-4d53-ac33-7400b0ad7cd7",
   "metadata": {},
   "outputs": [
    {
     "data": {
      "text/plain": [
       "'    Hey there. Edwin here'"
      ]
     },
     "execution_count": 28,
     "metadata": {},
     "output_type": "execute_result"
    }
   ],
   "source": [
    "a.rstrip()"
   ]
  },
  {
   "cell_type": "code",
   "execution_count": 29,
   "id": "9b51e38d-9d16-475d-adc7-9adc99651647",
   "metadata": {},
   "outputs": [
    {
     "data": {
      "text/plain": [
       "'Hey there. Edwin here'"
      ]
     },
     "execution_count": 29,
     "metadata": {},
     "output_type": "execute_result"
    }
   ],
   "source": [
    "a.strip()"
   ]
  },
  {
   "cell_type": "code",
   "execution_count": 30,
   "id": "41c5a2ca-4ebe-4102-be79-e84adc8f2751",
   "metadata": {},
   "outputs": [
    {
     "data": {
      "text/plain": [
       "['Hey', 'there.', 'Edwin', 'here']"
      ]
     },
     "execution_count": 30,
     "metadata": {},
     "output_type": "execute_result"
    }
   ],
   "source": [
    "a.split()"
   ]
  },
  {
   "cell_type": "code",
   "execution_count": 31,
   "id": "95f11fb7-9147-4e6b-8212-8f24cb2a5489",
   "metadata": {},
   "outputs": [
    {
     "data": {
      "text/plain": [
       "False"
      ]
     },
     "execution_count": 31,
     "metadata": {},
     "output_type": "execute_result"
    }
   ],
   "source": [
    "a.isalnum()"
   ]
  },
  {
   "cell_type": "code",
   "execution_count": 32,
   "id": "a960d0dd-91f0-44fa-9c2c-f99e98361fec",
   "metadata": {},
   "outputs": [
    {
     "data": {
      "text/plain": [
       "False"
      ]
     },
     "execution_count": 32,
     "metadata": {},
     "output_type": "execute_result"
    }
   ],
   "source": [
    "a.isalpha()"
   ]
  },
  {
   "cell_type": "code",
   "execution_count": 1,
   "id": "de203c10-022b-479d-b9a2-6331855497fc",
   "metadata": {},
   "outputs": [
    {
     "data": {
      "text/plain": [
       "'This your LIFE, accept your LIFE ok!'"
      ]
     },
     "execution_count": 1,
     "metadata": {},
     "output_type": "execute_result"
    }
   ],
   "source": [
    "soja = \"This your life, accept your life ok!\"\n",
    "soja.replace(\"life\",\"LIFE\")"
   ]
  },
  {
   "cell_type": "code",
   "execution_count": 2,
   "id": "3f6beee0-471e-4d8f-814b-feaa26f3e052",
   "metadata": {},
   "outputs": [
    {
     "data": {
      "text/plain": [
       "'This Your Life, Accept Your Life Ok!'"
      ]
     },
     "execution_count": 2,
     "metadata": {},
     "output_type": "execute_result"
    }
   ],
   "source": [
    "soja.title()   #converts the string into title case"
   ]
  },
  {
   "cell_type": "code",
   "execution_count": 4,
   "id": "a5f494e0-cd8f-4ee4-bb00-7e668e4571ab",
   "metadata": {},
   "outputs": [
    {
     "data": {
      "text/plain": [
       "3"
      ]
     },
     "execution_count": 4,
     "metadata": {},
     "output_type": "execute_result"
    }
   ],
   "source": [
    "soja.find(\"s\")  #returns the first occurence index of the given character as parameter"
   ]
  },
  {
   "cell_type": "code",
   "execution_count": 5,
   "id": "4fc36e1c-aa9e-4c93-af44-65467fd23213",
   "metadata": {},
   "outputs": [
    {
     "data": {
      "text/plain": [
       "10"
      ]
     },
     "execution_count": 5,
     "metadata": {},
     "output_type": "execute_result"
    }
   ],
   "source": [
    "soja.index(\"life\")"
   ]
  },
  {
   "cell_type": "code",
   "execution_count": 7,
   "id": "5197c573-a2ae-4f61-94f0-7ef401ffaf26",
   "metadata": {},
   "outputs": [
    {
     "name": "stdout",
     "output_type": "stream",
     "text": [
      "Hello Python Developers! Welcome to, ITVedant!\n",
      "Hello Python Developers! Welcome to, 45!\n",
      "Hello Python Developers! Welcome to, 1.2!\n"
     ]
    }
   ],
   "source": [
    "str=\"ITVedant\"\n",
    "b=45\n",
    "c=1.2\n",
    "#using %s to appending string\n",
    "print(\"Hello Python Developers! Welcome to, %s!\" %str)\n",
    "print(\"Hello Python Developers! Welcome to, %s!\" %b)\n",
    "print(\"Hello Python Developers! Welcome to, %s!\" %c)"
   ]
  },
  {
   "cell_type": "code",
   "execution_count": null,
   "id": "89312897-4f69-479a-aede-4110847cc108",
   "metadata": {},
   "outputs": [],
   "source": [
    "mkr1 = \"Hey\"\n",
    "mkr2 = \"\""
   ]
  }
 ],
 "metadata": {
  "kernelspec": {
   "display_name": "Python 3 (ipykernel)",
   "language": "python",
   "name": "python3"
  },
  "language_info": {
   "codemirror_mode": {
    "name": "ipython",
    "version": 3
   },
   "file_extension": ".py",
   "mimetype": "text/x-python",
   "name": "python",
   "nbconvert_exporter": "python",
   "pygments_lexer": "ipython3",
   "version": "3.11.5"
  }
 },
 "nbformat": 4,
 "nbformat_minor": 5
}
