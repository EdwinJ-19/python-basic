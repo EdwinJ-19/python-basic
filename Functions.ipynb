{
 "cells": [
  {
   "cell_type": "code",
   "execution_count": 3,
   "id": "dae56e76-115e-447a-8cb7-9a323dd907a6",
   "metadata": {},
   "outputs": [
    {
     "name": "stdout",
     "output_type": "stream",
     "text": [
      "Say Good Afternoon!\n"
     ]
    }
   ],
   "source": [
    "def speak():    #method declaration\n",
    "    print(\"Say Good Afternoon!\")   #functions statement created\n",
    "speak()   #method call"
   ]
  },
  {
   "cell_type": "code",
   "execution_count": 5,
   "id": "4393fc36-ffb9-46cf-bbc4-13c80652bc7c",
   "metadata": {},
   "outputs": [
    {
     "name": "stdin",
     "output_type": "stream",
     "text": [
      "Enter the value to add with: 5\n",
      "Enter the value to add with: 5\n"
     ]
    },
    {
     "name": "stdout",
     "output_type": "stream",
     "text": [
      "Addition of two number is:  10\n"
     ]
    }
   ],
   "source": [
    "#no parameter no return values\n",
    "def add():\n",
    "    a = int(input(\"Enter the value to add with:\"))\n",
    "    b = int(input(\"Enter the value to add with:\"))\n",
    "    c = a+b\n",
    "    print(\"Addition of two number is: \", c)\n",
    "add()"
   ]
  },
  {
   "cell_type": "code",
   "execution_count": 11,
   "id": "930852d2-b520-43ba-97e1-41def4de88a4",
   "metadata": {},
   "outputs": [
    {
     "name": "stdin",
     "output_type": "stream",
     "text": [
      "Enter the value to reverse it:  1234\n"
     ]
    },
    {
     "name": "stdout",
     "output_type": "stream",
     "text": [
      "4321\n"
     ]
    }
   ],
   "source": [
    "def rev():\n",
    "    num = int(input(\"Enter the value to reverse it: \"))\n",
    "    rev = 0\n",
    "    while(num!=0):\n",
    "        r = num%10\n",
    "        rev = rev*10+r\n",
    "        num = num//10\n",
    "    print(rev)\n",
    "rev()"
   ]
  },
  {
   "cell_type": "code",
   "execution_count": 22,
   "id": "bbe817c7-006e-4f06-ab00-c719917cd9ae",
   "metadata": {},
   "outputs": [
    {
     "name": "stdout",
     "output_type": "stream",
     "text": [
      "\n",
      "*\n",
      "**\n",
      "***\n",
      "****\n",
      "*****\n",
      "******\n",
      "*******\n",
      "********\n",
      "*********\n"
     ]
    }
   ],
   "source": [
    "def star():\n",
    "    for i in range(0,10,1):\n",
    "        for j in range(0,i,1):\n",
    "            print(end=\"*\")\n",
    "        print()\n",
    "star()"
   ]
  },
  {
   "cell_type": "code",
   "execution_count": 44,
   "id": "5eeb8cfb-b7d9-491e-9246-eab2dccffe78",
   "metadata": {},
   "outputs": [
    {
     "name": "stdin",
     "output_type": "stream",
     "text": [
      "Enter the value: 12345\n"
     ]
    },
    {
     "name": "stdout",
     "output_type": "stream",
     "text": [
      "5\n",
      "54\n",
      "543\n",
      "5432\n",
      "54321\n",
      "Not a Palindrome\n"
     ]
    }
   ],
   "source": [
    "def palindrome():\n",
    "    num = int(input(\"Enter the value:\"))\n",
    "    rev = 0\n",
    "    prnum = num\n",
    "    while(num!=0):\n",
    "        r = num % 10\n",
    "        rev = rev*10 + r\n",
    "        num = num // 10\n",
    "        print(rev)\n",
    "    if prnum == rev:\n",
    "        print(\"Palindrome\")\n",
    "    else:\n",
    "        print(\"Not a Palindrome\")\n",
    "palindrome()"
   ]
  },
  {
   "cell_type": "code",
   "execution_count": 28,
   "id": "8d91cac6-15c9-4484-94ff-1738105d594c",
   "metadata": {},
   "outputs": [
    {
     "name": "stdout",
     "output_type": "stream",
     "text": [
      "15\n"
     ]
    }
   ],
   "source": [
    "#parameter but no return values\n",
    "def add(a,b):\n",
    "    c = a+b\n",
    "    print(c)\n",
    "add(5,10)"
   ]
  },
  {
   "cell_type": "code",
   "execution_count": 30,
   "id": "3e2ab668-e1cf-4330-99b6-9ce00a08c781",
   "metadata": {},
   "outputs": [
    {
     "data": {
      "text/plain": [
       "30"
      ]
     },
     "execution_count": 30,
     "metadata": {},
     "output_type": "execute_result"
    }
   ],
   "source": [
    "#parameter but return values\n",
    "def add(a,b):\n",
    "    c = a + b \n",
    "    return c     #it is a last statement of values and it will execute only on this given block of statement.\n",
    "add(10,20)"
   ]
  },
  {
   "cell_type": "code",
   "execution_count": 38,
   "id": "b2e13635-b1c0-4479-8c8f-451c231c1c90",
   "metadata": {},
   "outputs": [
    {
     "name": "stdin",
     "output_type": "stream",
     "text": [
      "Enter the values:  30\n",
      "Enter the values:  20\n"
     ]
    },
    {
     "name": "stdout",
     "output_type": "stream",
     "text": [
      "Addition: 50\n"
     ]
    },
    {
     "data": {
      "text/plain": [
       "10"
      ]
     },
     "execution_count": 38,
     "metadata": {},
     "output_type": "execute_result"
    }
   ],
   "source": [
    "#no parameter but return values\n",
    "def add():\n",
    "    a = int(input(\"Enter the values: \"))    #local variable\n",
    "    b = int(input(\"Enter the values: \"))\n",
    "    c = a+b\n",
    "    print(\"Addition:\",c)\n",
    "    d = a-b\n",
    "    return d\n",
    "add()"
   ]
  },
  {
   "cell_type": "code",
   "execution_count": 45,
   "id": "f8ad289a-1ee4-4af9-ade6-4e10fdf4f7b2",
   "metadata": {},
   "outputs": [
    {
     "name": "stdout",
     "output_type": "stream",
     "text": [
      "Power: 100\n"
     ]
    }
   ],
   "source": [
    "def power(a):\n",
    "    c = a ** 2\n",
    "    print(\"Power:\",c)\n",
    "power(10)"
   ]
  },
  {
   "cell_type": "code",
   "execution_count": 58,
   "id": "432b4d24-93de-4708-bf17-9cd6ab2e67c6",
   "metadata": {},
   "outputs": [
    {
     "name": "stdout",
     "output_type": "stream",
     "text": [
      "*********\n",
      "********\n",
      "*******\n",
      "******\n",
      "*****\n",
      "****\n",
      "***\n",
      "**\n",
      "*\n"
     ]
    }
   ],
   "source": [
    "def star():\n",
    "    for i in range(10,1,-1):\n",
    "        for j in range(i,1,-1):\n",
    "            print(end=\"*\")\n",
    "        print()\n",
    "star()"
   ]
  },
  {
   "cell_type": "code",
   "execution_count": null,
   "id": "068dfbd0-154a-4bf5-ba3b-bad7dfe39a91",
   "metadata": {},
   "outputs": [],
   "source": [
    "def even():\n",
    "    a = int(input(\"enter the values: \"))\n",
    "    while(a<6):\n",
    "        if(a%2==0):\n",
    "            print(\"Even Number is: \", a)\n",
    "        else:\n",
    "            print(\"Odd Number\")\n",
    "even()"
   ]
  },
  {
   "cell_type": "code",
   "execution_count": 17,
   "id": "a318ffe5-9c4b-4e1a-997c-3587c9ea9bf4",
   "metadata": {},
   "outputs": [
    {
     "name": "stdout",
     "output_type": "stream",
     "text": [
      "<class 'tuple'>\n"
     ]
    }
   ],
   "source": [
    "def display():    #returning a list\n",
    "    return 1,2,3,4\n",
    "display()\n",
    "print(type(display()))"
   ]
  },
  {
   "cell_type": "code",
   "execution_count": 2,
   "id": "38d0b224-cc05-4b9f-9ce2-60f629806998",
   "metadata": {},
   "outputs": [
    {
     "name": "stdout",
     "output_type": "stream",
     "text": [
      "(1, 2, 3, 4)\n"
     ]
    }
   ],
   "source": [
    "def display():    #returning a list\n",
    "    return 1,2,3,4\n",
    "data1=display()\n",
    "print(data1)"
   ]
  },
  {
   "cell_type": "code",
   "execution_count": 16,
   "id": "4f44418c-b50f-44c5-8ae4-6eb093c42739",
   "metadata": {},
   "outputs": [
    {
     "name": "stdout",
     "output_type": "stream",
     "text": [
      "<class 'list'>\n"
     ]
    }
   ],
   "source": [
    "def display():     #returning a list\n",
    "    str=\"Hello World\"\n",
    "    x=20\n",
    "    return [str,x]\n",
    "display()\n",
    "print(type(display()))"
   ]
  },
  {
   "cell_type": "code",
   "execution_count": 5,
   "id": "61c55509-ee00-453c-bdc7-87abe1cccf08",
   "metadata": {},
   "outputs": [
    {
     "name": "stdout",
     "output_type": "stream",
     "text": [
      "{1: 'Hola mi Quesa', 2: 25}\n"
     ]
    }
   ],
   "source": [
    "def display():\n",
    "    demo = dict()\n",
    "    demo[1] = \"Hola mi Quesa\"\n",
    "    demo[2] = 25\n",
    "    return demo\n",
    "data1=display()\n",
    "print(data1)"
   ]
  },
  {
   "cell_type": "code",
   "execution_count": 11,
   "id": "63ffcba7-d329-4ae7-a53f-e50941a7a150",
   "metadata": {},
   "outputs": [
    {
     "name": "stdout",
     "output_type": "stream",
     "text": [
      "{1: 'Edwin', 'Last Name': 'John'}\n"
     ]
    }
   ],
   "source": [
    "def dis():\n",
    "    demo = {1:'Edwin','Last Name':'John'}\n",
    "    return demo\n",
    "demo=dis()\n",
    "print(demo)"
   ]
  },
  {
   "cell_type": "code",
   "execution_count": 13,
   "id": "096a2296-3de7-4395-ab05-d38b025635b9",
   "metadata": {},
   "outputs": [
    {
     "data": {
      "text/plain": [
       "{'First Name': 'Edwin', 'Last Name': 'John'}"
      ]
     },
     "execution_count": 13,
     "metadata": {},
     "output_type": "execute_result"
    }
   ],
   "source": [
    "def dey():\n",
    "    demo = {'First Name':'Edwin','Last Name':'John'}\n",
    "    return demo\n",
    "dey()"
   ]
  },
  {
   "cell_type": "code",
   "execution_count": 15,
   "id": "2dce6007-0a5b-4d9c-a87b-037f3dea6076",
   "metadata": {},
   "outputs": [
    {
     "name": "stdout",
     "output_type": "stream",
     "text": [
      "<class 'dict'>\n"
     ]
    }
   ],
   "source": [
    "print(type(dey()))"
   ]
  },
  {
   "cell_type": "code",
   "execution_count": 18,
   "id": "cac52241-1483-4461-a54b-471f8c0cdb99",
   "metadata": {},
   "outputs": [
    {
     "name": "stdout",
     "output_type": "stream",
     "text": [
      "200\n"
     ]
    }
   ],
   "source": [
    "#reuired argumenst\n",
    "def mul(a,b):\n",
    "    c=a*b\n",
    "    print(c)\n",
    "mul(10,20)"
   ]
  },
  {
   "cell_type": "code",
   "execution_count": 21,
   "id": "8d854628-c388-4e41-ac8f-27efa0432541",
   "metadata": {},
   "outputs": [
    {
     "data": {
      "text/plain": [
       "625"
      ]
     },
     "execution_count": 21,
     "metadata": {},
     "output_type": "execute_result"
    }
   ],
   "source": [
    "#default argument\n",
    "def sq(n=25):\n",
    "    return n**2\n",
    "sq()"
   ]
  },
  {
   "cell_type": "code",
   "execution_count": 37,
   "id": "2cdde0b2-f416-47e6-9f7b-664e51ecd5ef",
   "metadata": {},
   "outputs": [
    {
     "name": "stdout",
     "output_type": "stream",
     "text": [
      "1\n",
      "10\n",
      "102\n",
      "1020\n",
      "10201\n",
      "It is a Palindrome\n"
     ]
    }
   ],
   "source": [
    "def reverse(n=10201):\n",
    "    rev=0\n",
    "    pr=n\n",
    "    while(n!=0):\n",
    "        r = n%10\n",
    "        rev = rev*10 + r\n",
    "        n = n//10\n",
    "        print(rev)\n",
    "    if(pr == rev):\n",
    "        print(\"It is a Palindrome\")\n",
    "    else:\n",
    "        print(\"NOt a palindrome\")\n",
    "reverse()"
   ]
  },
  {
   "cell_type": "code",
   "execution_count": 62,
   "id": "570df0c1-c9f2-4031-bd35-c809fc956ac6",
   "metadata": {},
   "outputs": [
    {
     "name": "stdout",
     "output_type": "stream",
     "text": [
      "64\n"
     ]
    }
   ],
   "source": [
    "def arm(n=4):\n",
    "    sum=0\n",
    "    temp=n\n",
    "    if(n!=0):\n",
    "        d = temp % 10\n",
    "        sum = sum + d**3\n",
    "        temp = temp/10\n",
    "    print(sum)\n",
    "        if()\n",
    "arm()"
   ]
  },
  {
   "cell_type": "code",
   "execution_count": 42,
   "id": "4fc35161-bd55-49a1-a22d-f8880ea55b85",
   "metadata": {},
   "outputs": [
    {
     "name": "stdout",
     "output_type": "stream",
     "text": [
      "radius is 10\n",
      "height is 5\n",
      "1570.0\n",
      "Sequence changed\n",
      "radius is 10\n",
      "height is 5\n",
      "1570.0\n"
     ]
    }
   ],
   "source": [
    "#Keyword\n",
    "def volume(r,h):\n",
    "    print(\"radius is\", r)\n",
    "    print(\"height is\",h)\n",
    "    vol=3.14*r*r*h\n",
    "    print(vol)\n",
    "volume(r=10,h=5)\n",
    "print(\"Sequence changed\")\n",
    "volume(h=5,r=10)"
   ]
  },
  {
   "cell_type": "code",
   "execution_count": 44,
   "id": "8de3c17f-9396-4f80-a0fe-67e5890ba17c",
   "metadata": {},
   "outputs": [
    {
     "name": "stdout",
     "output_type": "stream",
     "text": [
      "<class 'tuple'>\n"
     ]
    }
   ],
   "source": [
    "def tuple():\n",
    "    m = 1,2,3,4,5\n",
    "    return m\n",
    "tuple()\n",
    "print(type(tuple()))"
   ]
  },
  {
   "cell_type": "code",
   "execution_count": 45,
   "id": "35c2b4ca-e0bb-4ae4-8ac8-aeddad7e4b24",
   "metadata": {},
   "outputs": [
    {
     "name": "stdout",
     "output_type": "stream",
     "text": [
      "(1, 5, 6, 7, 9, 10)\n",
      "<class 'tuple'>\n",
      "Addition 38\n"
     ]
    }
   ],
   "source": [
    "#variable length\n",
    "def add(*x):    # * means it is a tuple of variable length of the values that you can put\n",
    "    print(x)\n",
    "    print(type(x))\n",
    "    sum=0\n",
    "    for i in x:\n",
    "        sum=sum+i\n",
    "    print(\"Addition\",sum)\n",
    "add(1,5,6,7,9,10)"
   ]
  },
  {
   "cell_type": "code",
   "execution_count": 52,
   "id": "94d09901-f369-48ea-a6ee-c3304977544c",
   "metadata": {},
   "outputs": [
    {
     "name": "stdout",
     "output_type": "stream",
     "text": [
      "{'fi': 1, 's': 2, 't': 3, 'fr': 5, 'f': 6}\n",
      "<class 'dict'>\n",
      "Addition 17\n"
     ]
    }
   ],
   "source": [
    "def add(**x):   # ** means it is a dictionary of variable length of the values that ou can put\n",
    "    print(x)\n",
    "    print(type(x))\n",
    "    sum=0\n",
    "    for i in x:\n",
    "        sum = sum + x[i]\n",
    "    print(\"Addition\", sum)\n",
    "add(fi=1,s=2,t=3,fr=5,f=6)"
   ]
  },
  {
   "cell_type": "code",
   "execution_count": 53,
   "id": "434c32d3-7d4c-4828-8a0d-fefce71d5629",
   "metadata": {},
   "outputs": [
    {
     "name": "stdout",
     "output_type": "stream",
     "text": [
      "15\n",
      "Global inside the statement 10\n",
      "local 5\n",
      "Global outside the statement 10\n"
     ]
    }
   ],
   "source": [
    "#scope of the variable\n",
    "a = 10 #global variable\n",
    "def add():\n",
    "    b = 5  #local variable\n",
    "    c = a+b\n",
    "    print(c)\n",
    "    print(\"Global inside the statement\",a)\n",
    "    print(\"local\",b)\n",
    "add()\n",
    "print(\"Global outside the statement\",a)  #but local variable cannot be executed outside the parameter"
   ]
  },
  {
   "cell_type": "code",
   "execution_count": 64,
   "id": "9c694e4d-27ef-4c61-a026-82c093a34b68",
   "metadata": {},
   "outputs": [
    {
     "name": "stdout",
     "output_type": "stream",
     "text": [
      "30\n",
      "<class 'int'>\n"
     ]
    }
   ],
   "source": [
    "#if we need to define the global varible inside the statement as \"global a\"\n",
    "a=30\n",
    "def fun():\n",
    "    b=9\n",
    "    global a \n",
    "    print(a)\n",
    "    print(type(a))\n",
    "fun()"
   ]
  },
  {
   "cell_type": "code",
   "execution_count": null,
   "id": "5d3d7be0-8e4d-46b7-9f85-49aa1ec68056",
   "metadata": {},
   "outputs": [],
   "source": []
  }
 ],
 "metadata": {
  "kernelspec": {
   "display_name": "Python 3 (ipykernel)",
   "language": "python",
   "name": "python3"
  },
  "language_info": {
   "codemirror_mode": {
    "name": "ipython",
    "version": 3
   },
   "file_extension": ".py",
   "mimetype": "text/x-python",
   "name": "python",
   "nbconvert_exporter": "python",
   "pygments_lexer": "ipython3",
   "version": "3.11.5"
  }
 },
 "nbformat": 4,
 "nbformat_minor": 5
}
