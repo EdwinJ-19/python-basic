{
 "cells": [
  {
   "cell_type": "code",
   "execution_count": 11,
   "id": "ee657139-cac0-49a1-abb9-17d4f4a798a4",
   "metadata": {},
   "outputs": [
    {
     "name": "stdout",
     "output_type": "stream",
     "text": [
      "5 , Tuchiya , True\n",
      "<class 'int'> <class 'str'> <class 'bool'>\n"
     ]
    }
   ],
   "source": [
    "a=5\n",
    "name=\"Tuchiya\"\n",
    "b=True\n",
    "print(a,\",\",name,\",\",b)\n",
    "print(type(a),type(name),type(b))"
   ]
  },
  {
   "cell_type": "code",
   "execution_count": 12,
   "id": "12a56d70-b77c-45a0-a4b9-5bb3cab2f2de",
   "metadata": {},
   "outputs": [
    {
     "name": "stdout",
     "output_type": "stream",
     "text": [
      "(2+3j)\n",
      "<class 'complex'>\n"
     ]
    }
   ],
   "source": [
    "d=2+3j\n",
    "print(d)\n",
    "print(type(d))"
   ]
  },
  {
   "cell_type": "code",
   "execution_count": 15,
   "id": "f5538adc-fcf9-4a90-9857-9d0c0d15aae3",
   "metadata": {},
   "outputs": [
    {
     "name": "stdout",
     "output_type": "stream",
     "text": [
      "Guten Tag!\n",
      "<class 'str'>\n"
     ]
    }
   ],
   "source": [
    "name=\"Guten Tag!\"\n",
    "print(name)\n",
    "print(type(name))"
   ]
  },
  {
   "cell_type": "code",
   "execution_count": 1,
   "id": "a0d6153b-ff0b-4eab-8ad7-8a2a2d557fcc",
   "metadata": {},
   "outputs": [
    {
     "name": "stdin",
     "output_type": "stream",
     "text": [
      "Enter the value of A 20\n",
      "Enter the value of B 20\n"
     ]
    },
    {
     "name": "stdout",
     "output_type": "stream",
     "text": [
      "40\n"
     ]
    }
   ],
   "source": [
    "a=int(input(\"Enter the value of A\"))  #user to put the value\n",
    "b=int(input(\"Enter the value of B\"))\n",
    "c=a+b\n",
    "print(c)"
   ]
  },
  {
   "cell_type": "code",
   "execution_count": 3,
   "id": "a63d9b91-3bb7-4327-9397-0856e6824f25",
   "metadata": {},
   "outputs": [
    {
     "name": "stdin",
     "output_type": "stream",
     "text": [
      "Enter the value of A 20\n",
      "Enter the value of B 20\n"
     ]
    },
    {
     "name": "stdout",
     "output_type": "stream",
     "text": [
      "400\n"
     ]
    }
   ],
   "source": [
    "a=int(input(\"Enter the value of A\"))  #user to put the value\n",
    "b=int(input(\"Enter the value of B\"))\n",
    "c=a*b\n",
    "print(c)"
   ]
  },
  {
   "cell_type": "code",
   "execution_count": 4,
   "id": "27da677a-513d-4fec-b53f-55a1fb8a5b8e",
   "metadata": {},
   "outputs": [
    {
     "name": "stdin",
     "output_type": "stream",
     "text": [
      "Enter the value of A 200\n",
      "Enter the value of B 5\n"
     ]
    },
    {
     "name": "stdout",
     "output_type": "stream",
     "text": [
      "40.0\n"
     ]
    }
   ],
   "source": [
    "a=int(input(\"Enter the value of A\"))  #user to put the value\n",
    "b=int(input(\"Enter the value of B\"))\n",
    "c=a/b\n",
    "print(c)"
   ]
  },
  {
   "cell_type": "code",
   "execution_count": 2,
   "id": "106b3edc-11b4-47dd-80b1-b68afc58bc41",
   "metadata": {},
   "outputs": [
    {
     "name": "stdin",
     "output_type": "stream",
     "text": [
      "Enter the value of A 20\n",
      "Enter the value of B 20\n"
     ]
    },
    {
     "name": "stdout",
     "output_type": "stream",
     "text": [
      "0 400 0 1.0\n"
     ]
    }
   ],
   "source": [
    "a=int(input(\"Enter the value of A\"))  #arithmetic operator\n",
    "b=int(input(\"Enter the value of B\"))\n",
    "c=a%b\n",
    "z=a*b\n",
    "x=a-b\n",
    "y=a/b\n",
    "print(c,z,x,y)"
   ]
  },
  {
   "cell_type": "code",
   "execution_count": 4,
   "id": "22c42b28-9faa-4ed2-93cd-592ba617b304",
   "metadata": {},
   "outputs": [
    {
     "name": "stdin",
     "output_type": "stream",
     "text": [
      "Enter the value of A 20\n",
      "Enter the value of B 3\n"
     ]
    },
    {
     "name": "stdout",
     "output_type": "stream",
     "text": [
      "6.666666666666667 , 2 , 6 , 8000\n"
     ]
    }
   ],
   "source": [
    "a = int(input(\"Enter the value of A\"))\n",
    "b = int(input(\"Enter the value of B\"))\n",
    "c = a / b    #division operator\n",
    "z = a % b    #remainder operator\n",
    "y = a // b   #float operator\n",
    "m = a ** b   #power of operator\n",
    "print(c,\",\",z,\",\",y,\",\",m)"
   ]
  },
  {
   "cell_type": "code",
   "execution_count": 14,
   "id": "e2c4f9b6-0f4c-49ba-a502-5caba0b1e55e",
   "metadata": {},
   "outputs": [
    {
     "name": "stdin",
     "output_type": "stream",
     "text": [
      "Enter the value of A 20\n",
      "Enter the value of B 10\n"
     ]
    },
    {
     "name": "stdout",
     "output_type": "stream",
     "text": [
      "False\n",
      "True\n",
      "True\n",
      "False\n"
     ]
    }
   ],
   "source": [
    "a = int(input(\"Enter the value of A\")) #comparison operator\n",
    "b = int(input(\"Enter the value of B\"))\n",
    "c= a == b  #compare whether the number is same or not\n",
    "print(c)\n",
    "z= a != b  #compare whether the number is same or not\n",
    "print(z)\n",
    "y= a > b  #greater than or not\n",
    "print(y)\n",
    "x= a < b  #less than or not\n",
    "print(x)"
   ]
  },
  {
   "cell_type": "code",
   "execution_count": 19,
   "id": "d1bd0359-a375-47b0-a09e-b0c94b984947",
   "metadata": {},
   "outputs": [
    {
     "name": "stdin",
     "output_type": "stream",
     "text": [
      "Enter the value of A 200\n",
      "Enter the value of B 10\n"
     ]
    },
    {
     "name": "stdout",
     "output_type": "stream",
     "text": [
      "210\n"
     ]
    }
   ],
   "source": [
    "a = int(input(\"Enter the value of A\")) #assignment operator (augmented and short operator)\n",
    "b = int(input(\"Enter the value of B\"))\n",
    "a+=b\n",
    "print(a)"
   ]
  },
  {
   "cell_type": "code",
   "execution_count": 20,
   "id": "6a5acabe-5359-45a6-b183-1d6a8d0e8355",
   "metadata": {},
   "outputs": [
    {
     "name": "stdin",
     "output_type": "stream",
     "text": [
      "Enter the value of A 20\n",
      "Enter the value of B 10\n"
     ]
    },
    {
     "name": "stdout",
     "output_type": "stream",
     "text": [
      "10\n"
     ]
    }
   ],
   "source": [
    "a = int(input(\"Enter the value of A\")) #assignment operator (augmented and short operator)\n",
    "b = int(input(\"Enter the value of B\"))\n",
    "a-=b\n",
    "print(a)"
   ]
  },
  {
   "cell_type": "code",
   "execution_count": 21,
   "id": "fad6229f-baa8-4223-8af9-7f52ec121811",
   "metadata": {},
   "outputs": [
    {
     "name": "stdin",
     "output_type": "stream",
     "text": [
      "Enter the value of A 20\n",
      "Enter the value of B 10\n"
     ]
    },
    {
     "name": "stdout",
     "output_type": "stream",
     "text": [
      "200\n"
     ]
    }
   ],
   "source": [
    "a = int(input(\"Enter the value of A\")) #assignment operator (augmented and short operator)\n",
    "b = int(input(\"Enter the value of B\"))\n",
    "a*=b\n",
    "print(a)"
   ]
  },
  {
   "cell_type": "code",
   "execution_count": 22,
   "id": "0eec5472-651b-474a-84d0-bbe2e77146eb",
   "metadata": {},
   "outputs": [
    {
     "name": "stdin",
     "output_type": "stream",
     "text": [
      "Enter the value of A 20\n",
      "Enter the value of B 10\n"
     ]
    },
    {
     "name": "stdout",
     "output_type": "stream",
     "text": [
      "2.0\n"
     ]
    }
   ],
   "source": [
    "a = int(input(\"Enter the value of A\")) #assignment operator (augmented and short operator)\n",
    "b = int(input(\"Enter the value of B\"))\n",
    "a/=b\n",
    "print(a)"
   ]
  },
  {
   "cell_type": "code",
   "execution_count": 23,
   "id": "d64b7e0b-524e-4df0-81b0-792707711388",
   "metadata": {},
   "outputs": [
    {
     "name": "stdin",
     "output_type": "stream",
     "text": [
      "Enter the value of A 20\n",
      "Enter the value of B 10\n"
     ]
    },
    {
     "name": "stdout",
     "output_type": "stream",
     "text": [
      "0\n"
     ]
    }
   ],
   "source": [
    "a = int(input(\"Enter the value of A\")) #assignment operator (augmented and short operator)\n",
    "b = int(input(\"Enter the value of B\"))\n",
    "a%=b\n",
    "print(a)"
   ]
  },
  {
   "cell_type": "code",
   "execution_count": 24,
   "id": "d7b0bedb-7ef2-4f0f-8ba5-b3ab5ec0388f",
   "metadata": {},
   "outputs": [
    {
     "name": "stdin",
     "output_type": "stream",
     "text": [
      "Enter the value of A 30\n",
      "Enter the value of B 2\n"
     ]
    },
    {
     "name": "stdout",
     "output_type": "stream",
     "text": [
      "15\n"
     ]
    }
   ],
   "source": [
    "a = int(input(\"Enter the value of A\")) #assignment operator (augmented and short operator)\n",
    "b = int(input(\"Enter the value of B\"))\n",
    "a//=b  #\n",
    "print(a)"
   ]
  },
  {
   "cell_type": "code",
   "execution_count": 25,
   "id": "33cf7688-0a28-46be-9a1d-c6b1a876d481",
   "metadata": {},
   "outputs": [
    {
     "name": "stdin",
     "output_type": "stream",
     "text": [
      "Enter the value of A 20\n",
      "Enter the value of B 10\n"
     ]
    },
    {
     "name": "stdout",
     "output_type": "stream",
     "text": [
      "10240000000000\n"
     ]
    }
   ],
   "source": [
    "a = int(input(\"Enter the value of A\")) #assignment operator (augmented and short operator)\n",
    "b = int(input(\"Enter the value of B\"))\n",
    "a**=b\n",
    "print(a)"
   ]
  },
  {
   "cell_type": "code",
   "execution_count": 27,
   "id": "092a37de-f1c3-4827-9bce-8299839186d3",
   "metadata": {},
   "outputs": [
    {
     "name": "stdin",
     "output_type": "stream",
     "text": [
      "Enter the value of A 20\n",
      "Enter the value of B 10\n"
     ]
    },
    {
     "name": "stdout",
     "output_type": "stream",
     "text": [
      "0\n"
     ]
    }
   ],
   "source": [
    "a = int(input(\"Enter the value of A\")) #assignment operator (augmented and short operator)\n",
    "b = int(input(\"Enter the value of B\"))\n",
    "a&=b    #bitwise and operator\n",
    "print(a)"
   ]
  },
  {
   "cell_type": "code",
   "execution_count": 29,
   "id": "9de816f7-746a-4be8-8816-ddb9de0d4a14",
   "metadata": {},
   "outputs": [
    {
     "name": "stdin",
     "output_type": "stream",
     "text": [
      "Enter the value of A 3\n",
      "Enter the value of B 20\n"
     ]
    },
    {
     "name": "stdout",
     "output_type": "stream",
     "text": [
      "23\n"
     ]
    }
   ],
   "source": [
    "a = int(input(\"Enter the value of A\")) #assignment operator (augmented and short operator)\n",
    "b = int(input(\"Enter the value of B\"))\n",
    "a^=b    \n",
    "print(a)"
   ]
  },
  {
   "cell_type": "code",
   "execution_count": 30,
   "id": "e729d459-ef7f-497b-a091-0b60c6329f11",
   "metadata": {},
   "outputs": [
    {
     "name": "stdin",
     "output_type": "stream",
     "text": [
      "Enter the required length 10\n",
      "Enter the required width 10\n"
     ]
    },
    {
     "name": "stdout",
     "output_type": "stream",
     "text": [
      "100\n"
     ]
    }
   ],
   "source": [
    "l = int(input(\"Enter the required length\"))  #area of rectangle\n",
    "w = int(input(\"Enter the required width\"))\n",
    "area= l*w\n",
    "print(area)"
   ]
  },
  {
   "cell_type": "code",
   "execution_count": null,
   "id": "573952c8-6a57-4dd2-ac9a-d85ac19e0f61",
   "metadata": {},
   "outputs": [],
   "source": []
  }
 ],
 "metadata": {
  "kernelspec": {
   "display_name": "Python 3 (ipykernel)",
   "language": "python",
   "name": "python3"
  },
  "language_info": {
   "codemirror_mode": {
    "name": "ipython",
    "version": 3
   },
   "file_extension": ".py",
   "mimetype": "text/x-python",
   "name": "python",
   "nbconvert_exporter": "python",
   "pygments_lexer": "ipython3",
   "version": "3.11.5"
  }
 },
 "nbformat": 4,
 "nbformat_minor": 5
}
