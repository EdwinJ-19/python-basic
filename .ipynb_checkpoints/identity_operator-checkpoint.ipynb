{
 "cells": [
  {
   "cell_type": "code",
   "execution_count": 1,
   "id": "ebaf58c6-c175-406a-b6d4-400c0fbaf7d0",
   "metadata": {},
   "outputs": [
    {
     "name": "stdout",
     "output_type": "stream",
     "text": [
      "140713913345096\n",
      "140713913345160\n"
     ]
    }
   ],
   "source": [
    "a=10\n",
    "b=12\n",
    "print(id(a))\n",
    "print(id(b))"
   ]
  },
  {
   "cell_type": "code",
   "execution_count": 3,
   "id": "6884a5c4-1fd6-4235-a592-8dc1e2915cda",
   "metadata": {},
   "outputs": [
    {
     "name": "stdout",
     "output_type": "stream",
     "text": [
      "Equal by Equal\n"
     ]
    }
   ],
   "source": [
    "s1=['a','b','c']\n",
    "s2=list(\"abc\")\n",
    "\n",
    "if s1 == s2:\n",
    "    print(\"Equal by Equal\")\n",
    "else:\n",
    "    print(\"Not equal\")"
   ]
  },
  {
   "cell_type": "code",
   "execution_count": 5,
   "id": "59a76f2f-47c1-46c2-a0bb-35772504008a",
   "metadata": {},
   "outputs": [
    {
     "data": {
      "text/plain": [
       "['a', 'b', 'c']"
      ]
     },
     "execution_count": 5,
     "metadata": {},
     "output_type": "execute_result"
    }
   ],
   "source": [
    "s1"
   ]
  },
  {
   "cell_type": "code",
   "execution_count": 6,
   "id": "6ab2717c-9af6-4756-b97c-8503946cdeb2",
   "metadata": {},
   "outputs": [
    {
     "data": {
      "text/plain": [
       "['a', 'b', 'c']"
      ]
     },
     "execution_count": 6,
     "metadata": {},
     "output_type": "execute_result"
    }
   ],
   "source": [
    "s2"
   ]
  },
  {
   "cell_type": "code",
   "execution_count": 7,
   "id": "f8883beb-5956-4075-8bfa-f2a4b13ce375",
   "metadata": {},
   "outputs": [
    {
     "data": {
      "text/plain": [
       "2409341825280"
      ]
     },
     "execution_count": 7,
     "metadata": {},
     "output_type": "execute_result"
    }
   ],
   "source": [
    "id(s1)"
   ]
  },
  {
   "cell_type": "code",
   "execution_count": 8,
   "id": "c681fdc4-6b00-44b8-aeda-058f329a489a",
   "metadata": {},
   "outputs": [
    {
     "data": {
      "text/plain": [
       "2409341707456"
      ]
     },
     "execution_count": 8,
     "metadata": {},
     "output_type": "execute_result"
    }
   ],
   "source": [
    "id(s2)"
   ]
  },
  {
   "cell_type": "code",
   "execution_count": 11,
   "id": "ceccbe23-5f6f-4ca9-966f-b74c969eb974",
   "metadata": {},
   "outputs": [
    {
     "name": "stdout",
     "output_type": "stream",
     "text": [
      "Not equal\n"
     ]
    }
   ],
   "source": [
    "s1=['a','b','c']  #id we use the identity operator, it will be fixed on memory allocation\n",
    "s2=list(\"abc\")\n",
    "\n",
    "if s1 is s2:\n",
    "    print(\"Equal by memory allocation\")\n",
    "else:\n",
    "    print(\"Not equal by memory allocation\")"
   ]
  },
  {
   "cell_type": "code",
   "execution_count": null,
   "id": "75135721-5360-43f1-ba36-720b98af91b5",
   "metadata": {},
   "outputs": [],
   "source": [
    "s1=['a','b','c']  #id we use the identity operator, it will be fixed on memory allocation\n",
    "s2=list(\"abc\")\n",
    "\n",
    "if s1 is s2:\n",
    "    print(\"Equal by memory allocation\")\n",
    "else:\n",
    "    print(\"Not equal by memory allocation\")"
   ]
  }
 ],
 "metadata": {
  "kernelspec": {
   "display_name": "Python 3 (ipykernel)",
   "language": "python",
   "name": "python3"
  },
  "language_info": {
   "codemirror_mode": {
    "name": "ipython",
    "version": 3
   },
   "file_extension": ".py",
   "mimetype": "text/x-python",
   "name": "python",
   "nbconvert_exporter": "python",
   "pygments_lexer": "ipython3",
   "version": "3.11.5"
  }
 },
 "nbformat": 4,
 "nbformat_minor": 5
}
