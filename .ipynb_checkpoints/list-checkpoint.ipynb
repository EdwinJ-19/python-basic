{
 "cells": [
  {
   "cell_type": "code",
   "execution_count": 2,
   "id": "e7db3b8f-db84-4ee8-9b7e-9dca43f88be7",
   "metadata": {},
   "outputs": [],
   "source": [
    "a=['A',1.2,4,7.9,\"Edwin\",True,False]"
   ]
  },
  {
   "cell_type": "code",
   "execution_count": 3,
   "id": "79ee587d-f797-4ccb-a901-ba3e51269460",
   "metadata": {},
   "outputs": [
    {
     "data": {
      "text/plain": [
       "['A', 1.2, 4, 7.9, 'Edwin', True, False]"
      ]
     },
     "execution_count": 3,
     "metadata": {},
     "output_type": "execute_result"
    }
   ],
   "source": [
    "list(a)"
   ]
  },
  {
   "cell_type": "code",
   "execution_count": 4,
   "id": "115e4618-ae3e-40d1-96fc-efb3b355becf",
   "metadata": {},
   "outputs": [
    {
     "name": "stdout",
     "output_type": "stream",
     "text": [
      "A\n",
      "1.2\n",
      "4\n",
      "7.9\n",
      "Edwin\n",
      "True\n",
      "False\n"
     ]
    }
   ],
   "source": [
    "print(a[0]) #positive indexes\n",
    "print(a[1])\n",
    "print(a[2])\n",
    "print(a[3])\n",
    "print(a[4])\n",
    "print(a[5])\n",
    "print(a[6])"
   ]
  },
  {
   "cell_type": "code",
   "execution_count": 6,
   "id": "612f0fb6-d2b1-4ad5-acad-07e83840b6a1",
   "metadata": {},
   "outputs": [
    {
     "name": "stdout",
     "output_type": "stream",
     "text": [
      "False\n",
      "True\n",
      "Edwin\n",
      "7.9\n",
      "4\n",
      "1.2\n",
      "A\n"
     ]
    }
   ],
   "source": [
    "print(a[-1]) #negative indexes\n",
    "print(a[-2])\n",
    "print(a[-3])\n",
    "print(a[-4])\n",
    "print(a[-5])\n",
    "print(a[-6])\n",
    "print(a[0])"
   ]
  },
  {
   "cell_type": "code",
   "execution_count": 8,
   "id": "c6dfa544-eb54-42ce-a779-d5be4393bf6d",
   "metadata": {},
   "outputs": [],
   "source": [
    "list=[0,[1,2,3,[4,5,6],[7,8,9]],10]"
   ]
  },
  {
   "cell_type": "code",
   "execution_count": 14,
   "id": "0a170542-147d-4862-979e-b69ad844d389",
   "metadata": {},
   "outputs": [
    {
     "name": "stdout",
     "output_type": "stream",
     "text": [
      "0\n",
      "[1, 2, 3, [4, 5, 6], [7, 8, 9]]\n",
      "1\n",
      "2\n",
      "3\n",
      "4\n"
     ]
    }
   ],
   "source": [
    "print(list[0])\n",
    "print(list[1])\n",
    "print(list[1][0])\n",
    "print(list[1][1])\n",
    "print(list[1][2])\n",
    "print(list[1][3][0])\n",
    "print(list)"
   ]
  },
  {
   "cell_type": "code",
   "execution_count": 16,
   "id": "776392e8-ce78-49cb-81da-6900001f6544",
   "metadata": {},
   "outputs": [
    {
     "name": "stdout",
     "output_type": "stream",
     "text": [
      "[1, 3, 5, 9, 7, 5]\n",
      "['re', 2, 're', 2, 're', 2]\n"
     ]
    }
   ],
   "source": [
    "odd = [1,3,5]\n",
    "print(odd + [9,7,5])\n",
    "print([\"re\",2]*3)"
   ]
  },
  {
   "cell_type": "code",
   "execution_count": 21,
   "id": "f94b5dc3-7e2a-4559-b83f-51a2027aac57",
   "metadata": {},
   "outputs": [
    {
     "name": "stdout",
     "output_type": "stream",
     "text": [
      "[[1, 2], 1, 9]\n",
      "[[1, 2], 1, 2, 3, 9]\n",
      "[[1, 2], 7, 8, 0, 3, 9]\n",
      "[[1, 2], 7, 8, 1, 0, 0, 3, 9]\n",
      "[[1, 2], 7, 9, 1, 8, 1, 0, 0, 3, 9]\n"
     ]
    }
   ],
   "source": [
    "odd = [1,9]        #desired location to insert the values\n",
    "odd.insert(0,[1,2])\n",
    "print(odd)\n",
    "\n",
    "odd[2:2] = [2,3]\n",
    "print(odd)\n",
    "\n",
    "odd[1:3] = [7,8,0]\n",
    "print(odd)\n",
    "\n",
    "odd[3:1] = [1,0]\n",
    "print(odd)\n",
    "\n",
    "odd[2:1] = [9,1]\n",
    "print(odd)"
   ]
  },
  {
   "cell_type": "code",
   "execution_count": 38,
   "id": "cb7857ce-537d-449d-bdfa-7320bb9fe4af",
   "metadata": {},
   "outputs": [],
   "source": [
    "soja = ['e','d','w','i','n']"
   ]
  },
  {
   "cell_type": "code",
   "execution_count": 34,
   "id": "f650ed47-c62c-4822-8032-3a81cc1ba4c8",
   "metadata": {},
   "outputs": [
    {
     "name": "stdout",
     "output_type": "stream",
     "text": [
      "n\n",
      "['e']\n"
     ]
    }
   ],
   "source": [
    "print(soja.pop(1))   #pop the indexes, pop only allows indexes\n",
    "print(soja)"
   ]
  },
  {
   "cell_type": "code",
   "execution_count": 39,
   "id": "b574f90e-94ef-4d3c-b63e-427a380345ca",
   "metadata": {},
   "outputs": [
    {
     "name": "stdout",
     "output_type": "stream",
     "text": [
      "['e', 'w', 'i', 'n']\n"
     ]
    }
   ],
   "source": [
    "del soja[1]    #pop is similarity of delete, celete allows indexes, range slicing\n",
    "print(soja)\n",
    "del soja[1:2]"
   ]
  },
  {
   "cell_type": "code",
   "execution_count": 41,
   "id": "257b7a81-f9a3-4620-a9b0-376d2f4d6624",
   "metadata": {},
   "outputs": [
    {
     "name": "stdout",
     "output_type": "stream",
     "text": [
      "['e', 'd', 'w', 'n']\n"
     ]
    }
   ],
   "source": [
    "soja = ['e','d','w','i','n']    #remove allows to only inside the content to remove it \n",
    "soja.remove('i')\n",
    "print(soja)"
   ]
  },
  {
   "cell_type": "code",
   "execution_count": 45,
   "id": "e625198f-9158-4266-87d4-db08209f7e5c",
   "metadata": {},
   "outputs": [
    {
     "name": "stdout",
     "output_type": "stream",
     "text": [
      "[6, 19, 20]\n"
     ]
    }
   ],
   "source": [
    "soja = [19,6,20]    #prints ascending order\n",
    "soja.sort()\n",
    "print(soja)"
   ]
  },
  {
   "cell_type": "code",
   "execution_count": null,
   "id": "192456cc-7c01-4af6-b184-589d670cd573",
   "metadata": {},
   "outputs": [],
   "source": [
    "soja = [19,6,20]     #prints descending order\n",
    "soja.sort(reverse=True)\n",
    "print(soja)"
   ]
  }
 ],
 "metadata": {
  "kernelspec": {
   "display_name": "Python 3 (ipykernel)",
   "language": "python",
   "name": "python3"
  },
  "language_info": {
   "codemirror_mode": {
    "name": "ipython",
    "version": 3
   },
   "file_extension": ".py",
   "mimetype": "text/x-python",
   "name": "python",
   "nbconvert_exporter": "python",
   "pygments_lexer": "ipython3",
   "version": "3.11.5"
  }
 },
 "nbformat": 4,
 "nbformat_minor": 5
}
