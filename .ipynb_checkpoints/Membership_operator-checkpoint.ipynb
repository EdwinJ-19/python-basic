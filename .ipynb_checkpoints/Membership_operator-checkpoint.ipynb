{
 "cells": [
  {
   "cell_type": "code",
   "execution_count": 1,
   "id": "6b0412e9-34cd-429a-9a30-f7bd664b8876",
   "metadata": {},
   "outputs": [
    {
     "name": "stdout",
     "output_type": "stream",
     "text": [
      "True\n",
      "False\n",
      "False\n",
      "True\n"
     ]
    }
   ],
   "source": [
    "my_tuple = ('a','e','i','o','u')\n",
    "\n",
    "#in operator\n",
    "print('a' in my_tuple)\n",
    "print('v' in my_tuple)\n",
    "\n",
    "#not in operator\n",
    "print('a' not in my_tuple)\n",
    "print('d' not in my_tuple)"
   ]
  },
  {
   "cell_type": "code",
   "execution_count": 2,
   "id": "4035b6c6-7d2b-4c24-b60d-e147ac75974a",
   "metadata": {},
   "outputs": [
    {
     "data": {
      "text/plain": [
       "{}"
      ]
     },
     "execution_count": 2,
     "metadata": {},
     "output_type": "execute_result"
    }
   ],
   "source": [
    "#Dictionary\n",
    "#Dictionaries are used to store data values in key value pairs\n",
    "#a dicitionary is a collection which is unordered, changeable and do not allow duplicates\n",
    "#an item has a key and a corresponding value that is expressed as a pair (key:value)\n",
    "\n",
    "my_dict = {}\n",
    "my_dict"
   ]
  },
  {
   "cell_type": "code",
   "execution_count": 4,
   "id": "b65bc150-c35c-46c6-ae25-16476047bcb9",
   "metadata": {},
   "outputs": [
    {
     "name": "stdout",
     "output_type": "stream",
     "text": [
      "{1: 'a', 2: 'b', 3: 'c'}\n",
      "<class 'dict'>\n"
     ]
    }
   ],
   "source": [
    "d = {1:\"a\",2:\"b\",3:\"c\"}\n",
    "print(d)\n",
    "print(type(d))"
   ]
  },
  {
   "cell_type": "code",
   "execution_count": 5,
   "id": "3a33d717-cb2f-49cc-b7c7-d0f6739b88a7",
   "metadata": {},
   "outputs": [
    {
     "name": "stdout",
     "output_type": "stream",
     "text": [
      "{1: 'Edwin', 'lastNAme': 'John'}\n"
     ]
    }
   ],
   "source": [
    "#dictionary with mixed keys\n",
    "my_dict1 = dict({1:'Edwin','lastNAme':'John'})\n",
    "print(my_dict1)"
   ]
  },
  {
   "cell_type": "code",
   "execution_count": 6,
   "id": "4b7e82d8-2619-4fd3-aaf6-f4ac9a37d0e4",
   "metadata": {},
   "outputs": [
    {
     "data": {
      "text/plain": [
       "2"
      ]
     },
     "execution_count": 6,
     "metadata": {},
     "output_type": "execute_result"
    }
   ],
   "source": [
    "len(my_dict1)"
   ]
  },
  {
   "cell_type": "code",
   "execution_count": 8,
   "id": "a01b1ce9-3e6d-4494-89db-bccb733cc60a",
   "metadata": {},
   "outputs": [
    {
     "data": {
      "text/plain": [
       "{'Name': 'Akash', 'Roll No.': 21, 'Age': 22, 'Course': 'Data Science'}"
      ]
     },
     "execution_count": 8,
     "metadata": {},
     "output_type": "execute_result"
    }
   ],
   "source": [
    "mydict={\n",
    "    \"Name\":\"Akash\",\n",
    "    \"Roll No.\":21,\n",
    "    \"Age\":22,\n",
    "    \"Course\":\"Data Science\"\n",
    "}\n",
    "mydict"
   ]
  },
  {
   "cell_type": "code",
   "execution_count": 10,
   "id": "b29d08e5-35ff-4cd5-8d28-1974e2ffb198",
   "metadata": {},
   "outputs": [
    {
     "name": "stdout",
     "output_type": "stream",
     "text": [
      "Akash\n"
     ]
    }
   ],
   "source": [
    "x1=mydict[\"Name\"]\n",
    "print(x1)"
   ]
  },
  {
   "cell_type": "code",
   "execution_count": 12,
   "id": "371a31c9-4f47-41bc-adf0-92aab82389de",
   "metadata": {},
   "outputs": [
    {
     "data": {
      "text/plain": [
       "22"
      ]
     },
     "execution_count": 12,
     "metadata": {},
     "output_type": "execute_result"
    }
   ],
   "source": [
    "#method function method.get()\n",
    "y = mydict.get(\"Age\")\n",
    "y"
   ]
  },
  {
   "cell_type": "code",
   "execution_count": 15,
   "id": "58241e22-d350-474a-9ce0-a8cbff0fdeb6",
   "metadata": {},
   "outputs": [
    {
     "data": {
      "text/plain": [
       "dict_keys(['Name', 'Roll No.', 'Age', 'Course'])"
      ]
     },
     "execution_count": 15,
     "metadata": {},
     "output_type": "execute_result"
    }
   ],
   "source": [
    "mydict.keys()  #to find out the elements"
   ]
  },
  {
   "cell_type": "code",
   "execution_count": 16,
   "id": "11be1565-00e4-4cf5-9910-2ed468cab07d",
   "metadata": {},
   "outputs": [
    {
     "data": {
      "text/plain": [
       "dict_values(['Akash', 21, 22, 'Data Science'])"
      ]
     },
     "execution_count": 16,
     "metadata": {},
     "output_type": "execute_result"
    }
   ],
   "source": [
    "mydict.values()   #to find out which elements has the value in it"
   ]
  },
  {
   "cell_type": "code",
   "execution_count": 13,
   "id": "76996a52-fdf1-4771-9f39-26228411d053",
   "metadata": {},
   "outputs": [
    {
     "name": "stdout",
     "output_type": "stream",
     "text": [
      "dict_keys(['brand', 'model', 'year'])\n"
     ]
    }
   ],
   "source": [
    "car = {                 #before\n",
    "    \"brand\": \"Ford\",\n",
    "    \"model\": \"Mustang\",\n",
    "    \"year\": 1964\n",
    "}\n",
    "\n",
    "x = car.keys()\n",
    "print(x)"
   ]
  },
  {
   "cell_type": "code",
   "execution_count": 21,
   "id": "66715395-fa1f-494b-821a-d5d2a4cbd5c5",
   "metadata": {},
   "outputs": [
    {
     "name": "stdout",
     "output_type": "stream",
     "text": [
      "dict_keys(['brand', 'model', 'year', 'color'])\n"
     ]
    },
    {
     "data": {
      "text/plain": [
       "{'brand': 'Ford', 'model': 'Mustang', 'year': 1964, 'color': 'white'}"
      ]
     },
     "execution_count": 21,
     "metadata": {},
     "output_type": "execute_result"
    }
   ],
   "source": [
    "car[\"color\"] = \"white\"  #after adding the elements\n",
    "print(x)\n",
    "car"
   ]
  },
  {
   "cell_type": "code",
   "execution_count": 23,
   "id": "6868a138-e3d7-4591-8557-37005dfa1ae0",
   "metadata": {},
   "outputs": [
    {
     "name": "stdout",
     "output_type": "stream",
     "text": [
      "dict_keys(['brand', 'model', 'year', 'color', ('service', 'price')])\n"
     ]
    },
    {
     "data": {
      "text/plain": [
       "{'brand': 'Ford',\n",
       " 'model': 'Mustang',\n",
       " 'year': 1964,\n",
       " 'color': 'white',\n",
       " ('service', 'price'): (1970, '$19999')}"
      ]
     },
     "execution_count": 23,
     "metadata": {},
     "output_type": "execute_result"
    }
   ],
   "source": [
    "car[\"service\",\"price\"] = 1970,\"$19999\"\n",
    "print(x)\n",
    "car"
   ]
  },
  {
   "cell_type": "code",
   "execution_count": 30,
   "id": "bbc76e94-891c-4337-b4b7-3ec9ffa49ea7",
   "metadata": {},
   "outputs": [
    {
     "name": "stdout",
     "output_type": "stream",
     "text": [
      "NOPE,TRY AGAIN!\n"
     ]
    }
   ],
   "source": [
    "if car == {\"color\":\"white\"} in car:\n",
    "    print(\"Yes, there is a color on the car\")\n",
    "else:\n",
    "    print(\"NOPE,TRY AGAIN!\")"
   ]
  },
  {
   "cell_type": "code",
   "execution_count": 14,
   "id": "427e918d-fd8a-4b6d-a276-af18c5253020",
   "metadata": {},
   "outputs": [],
   "source": [
    "car.update({\"price\": 20000})    #method update() will update the dictionary with the items from the given argument"
   ]
  },
  {
   "cell_type": "code",
   "execution_count": 3,
   "id": "0050950e-5b92-4fd6-bbf6-7bace0a6342a",
   "metadata": {},
   "outputs": [
    {
     "data": {
      "text/plain": [
       "{'brand': 'Ford', 'model': 'Mustang', 'year': 1964, 'price': 20000}"
      ]
     },
     "execution_count": 3,
     "metadata": {},
     "output_type": "execute_result"
    }
   ],
   "source": [
    "car"
   ]
  },
  {
   "cell_type": "code",
   "execution_count": 15,
   "id": "ccf79b06-d3d6-4ae5-8786-5cfdd2262c69",
   "metadata": {},
   "outputs": [
    {
     "data": {
      "text/plain": [
       "20000"
      ]
     },
     "execution_count": 15,
     "metadata": {},
     "output_type": "execute_result"
    }
   ],
   "source": [
    "car.pop(\"price\") # or car.popitem()   #pop method removes the item with specified name"
   ]
  },
  {
   "cell_type": "code",
   "execution_count": 6,
   "id": "fae45cc1-1e34-46b8-a9ec-ef0ee539bb41",
   "metadata": {},
   "outputs": [
    {
     "data": {
      "text/plain": [
       "{'brand': 'Ford', 'model': 'Mustang', 'year': 1964}"
      ]
     },
     "execution_count": 6,
     "metadata": {},
     "output_type": "execute_result"
    }
   ],
   "source": [
    "car"
   ]
  },
  {
   "cell_type": "code",
   "execution_count": 16,
   "id": "f533195b-42f8-480b-9ae2-38cd25b23381",
   "metadata": {},
   "outputs": [],
   "source": [
    "del car[\"model\"]   #del method removes the item with specified name"
   ]
  },
  {
   "cell_type": "code",
   "execution_count": 8,
   "id": "4bf84746-5a89-4f99-9d7b-092bff350ea4",
   "metadata": {},
   "outputs": [
    {
     "data": {
      "text/plain": [
       "{'brand': 'Ford', 'year': 1964}"
      ]
     },
     "execution_count": 8,
     "metadata": {},
     "output_type": "execute_result"
    }
   ],
   "source": [
    "car"
   ]
  },
  {
   "cell_type": "code",
   "execution_count": 17,
   "id": "3fb38d06-c821-445d-800c-469b401c22a0",
   "metadata": {},
   "outputs": [
    {
     "data": {
      "text/plain": [
       "('year', 1964)"
      ]
     },
     "execution_count": 17,
     "metadata": {},
     "output_type": "execute_result"
    }
   ],
   "source": [
    "car.popitem()  #popitem() method removes the item at last item"
   ]
  },
  {
   "cell_type": "code",
   "execution_count": 18,
   "id": "2ea52f70-7e35-47e5-9ffa-29b0e305257f",
   "metadata": {},
   "outputs": [
    {
     "data": {
      "text/plain": [
       "{'brand': 'Ford'}"
      ]
     },
     "execution_count": 18,
     "metadata": {},
     "output_type": "execute_result"
    }
   ],
   "source": [
    "car"
   ]
  },
  {
   "cell_type": "code",
   "execution_count": 19,
   "id": "872f5d7b-7be7-470e-a5f4-f4713e230c85",
   "metadata": {},
   "outputs": [
    {
     "data": {
      "text/plain": [
       "{}"
      ]
     },
     "execution_count": 19,
     "metadata": {},
     "output_type": "execute_result"
    }
   ],
   "source": [
    "car.clear() #clear() method does clear all the values inside the dictionary\n",
    "car"
   ]
  },
  {
   "cell_type": "code",
   "execution_count": null,
   "id": "4ecc3b0f-ec3a-4816-ba98-fbae50bb44d6",
   "metadata": {},
   "outputs": [],
   "source": []
  }
 ],
 "metadata": {
  "kernelspec": {
   "display_name": "Python 3 (ipykernel)",
   "language": "python",
   "name": "python3"
  },
  "language_info": {
   "codemirror_mode": {
    "name": "ipython",
    "version": 3
   },
   "file_extension": ".py",
   "mimetype": "text/x-python",
   "name": "python",
   "nbconvert_exporter": "python",
   "pygments_lexer": "ipython3",
   "version": "3.11.5"
  }
 },
 "nbformat": 4,
 "nbformat_minor": 5
}
