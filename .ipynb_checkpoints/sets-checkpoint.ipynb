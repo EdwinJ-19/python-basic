{
 "cells": [
  {
   "cell_type": "code",
   "execution_count": 1,
   "id": "8a9bef72-8ec3-4e96-a05b-d50c82bcde29",
   "metadata": {},
   "outputs": [
    {
     "data": {
      "text/plain": [
       "set"
      ]
     },
     "execution_count": 1,
     "metadata": {},
     "output_type": "execute_result"
    }
   ],
   "source": [
    "st={1,2,3,5,8,4,2}\n",
    "type(st)"
   ]
  },
  {
   "cell_type": "code",
   "execution_count": 4,
   "id": "45097a6f-5b24-45e0-a81d-c918b4ec4892",
   "metadata": {},
   "outputs": [
    {
     "name": "stdout",
     "output_type": "stream",
     "text": [
      "{'c', 'w', 'd', 'b', 'a'}\n"
     ]
    }
   ],
   "source": [
    "st=set(\"abcdwd\")\n",
    "print(st)"
   ]
  },
  {
   "cell_type": "code",
   "execution_count": 5,
   "id": "34d85a70-a521-496b-aaac-c03800a19f8f",
   "metadata": {},
   "outputs": [
    {
     "name": "stdout",
     "output_type": "stream",
     "text": [
      "{1.0, (1, 2, 3), 'Hello'}\n"
     ]
    }
   ],
   "source": [
    "#set of mixed datatypes\n",
    "st={1.0,\"Hello\",(1,2,3)}\n",
    "print(st)"
   ]
  },
  {
   "cell_type": "code",
   "execution_count": 8,
   "id": "86b1a3dc-b2a0-4279-9ef5-3ace1e137442",
   "metadata": {},
   "outputs": [
    {
     "name": "stdout",
     "output_type": "stream",
     "text": [
      "{1, 2, 3, 4}\n"
     ]
    }
   ],
   "source": [
    "#set cannnot have duplicate value\n",
    "st={1,2,3,4,3,2}\n",
    "print(st)"
   ]
  },
  {
   "cell_type": "code",
   "execution_count": 7,
   "id": "0b064d01-dd3a-479e-9ed0-50691aa8afe7",
   "metadata": {},
   "outputs": [
    {
     "ename": "TypeError",
     "evalue": "unhashable type: 'list'",
     "output_type": "error",
     "traceback": [
      "\u001b[1;31m---------------------------------------------------------------------------\u001b[0m",
      "\u001b[1;31mTypeError\u001b[0m                                 Traceback (most recent call last)",
      "Cell \u001b[1;32mIn[7], line 2\u001b[0m\n\u001b[0;32m      1\u001b[0m \u001b[38;5;66;03m#set cannot have mutable items like [1,2,3]\u001b[39;00m\n\u001b[1;32m----> 2\u001b[0m st\u001b[38;5;241m=\u001b[39m{\u001b[38;5;241m1\u001b[39m,\u001b[38;5;241m2\u001b[39m,[\u001b[38;5;241m3\u001b[39m,\u001b[38;5;241m4\u001b[39m]}\n\u001b[0;32m      3\u001b[0m st\n",
      "\u001b[1;31mTypeError\u001b[0m: unhashable type: 'list'"
     ]
    }
   ],
   "source": [
    "#set cannot have mutable items like [1,2,3]\n",
    "st={1,2,[3,4]}\n",
    "st"
   ]
  },
  {
   "cell_type": "code",
   "execution_count": 9,
   "id": "4188c5da-a9cb-4516-a800-90eadc5d8249",
   "metadata": {},
   "outputs": [
    {
     "data": {
      "text/plain": [
       "{1, 2, 3, 6, 8}"
      ]
     },
     "execution_count": 9,
     "metadata": {},
     "output_type": "execute_result"
    }
   ],
   "source": [
    "#set cannot be print in list way\n",
    "st={1,2,3,6,8}\n",
    "st"
   ]
  },
  {
   "cell_type": "code",
   "execution_count": 10,
   "id": "089f85db-4361-4028-a850-699e8b1f4a6a",
   "metadata": {},
   "outputs": [
    {
     "ename": "TypeError",
     "evalue": "'set' object is not subscriptable",
     "output_type": "error",
     "traceback": [
      "\u001b[1;31m---------------------------------------------------------------------------\u001b[0m",
      "\u001b[1;31mTypeError\u001b[0m                                 Traceback (most recent call last)",
      "Cell \u001b[1;32mIn[10], line 1\u001b[0m\n\u001b[1;32m----> 1\u001b[0m \u001b[43mst\u001b[49m\u001b[43m[\u001b[49m\u001b[38;5;241;43m1\u001b[39;49m\u001b[43m]\u001b[49m\n",
      "\u001b[1;31mTypeError\u001b[0m: 'set' object is not subscriptable"
     ]
    }
   ],
   "source": [
    "st[1]"
   ]
  },
  {
   "cell_type": "code",
   "execution_count": 11,
   "id": "92df34e0-0564-4e14-b9d5-f57fb7386b1e",
   "metadata": {},
   "outputs": [
    {
     "data": {
      "text/plain": [
       "{1, 2, 3, 6, 8, 9}"
      ]
     },
     "execution_count": 11,
     "metadata": {},
     "output_type": "execute_result"
    }
   ],
   "source": [
    "st.add(9)\n",
    "st"
   ]
  },
  {
   "cell_type": "code",
   "execution_count": 13,
   "id": "d5cd59b6-6637-46b7-9034-e6855d54efba",
   "metadata": {},
   "outputs": [
    {
     "data": {
      "text/plain": [
       "{-1, 1, 2, 3, 6, 8, 9}"
      ]
     },
     "execution_count": 13,
     "metadata": {},
     "output_type": "execute_result"
    }
   ],
   "source": [
    "st.add(-1)\n",
    "st"
   ]
  },
  {
   "cell_type": "code",
   "execution_count": 15,
   "id": "d6813d60-b43f-4ec5-839c-07d14be7fa30",
   "metadata": {},
   "outputs": [
    {
     "data": {
      "text/plain": [
       "{-1, 1, 2, 3, 4, 6, 8, 9}"
      ]
     },
     "execution_count": 15,
     "metadata": {},
     "output_type": "execute_result"
    }
   ],
   "source": [
    "st.add(4)\n",
    "st"
   ]
  },
  {
   "cell_type": "code",
   "execution_count": 16,
   "id": "bafa264a-052e-428b-beee-91d304e9f59a",
   "metadata": {},
   "outputs": [
    {
     "data": {
      "text/plain": [
       "{-1, 1, 2, 3, 4, 5, 6, 8, 9}"
      ]
     },
     "execution_count": 16,
     "metadata": {},
     "output_type": "execute_result"
    }
   ],
   "source": [
    "st.add(5)\n",
    "st"
   ]
  },
  {
   "cell_type": "code",
   "execution_count": 22,
   "id": "a8303fb4-f90e-485e-ac9a-40381d5c2712",
   "metadata": {},
   "outputs": [
    {
     "data": {
      "text/plain": [
       "{-1, 5, 6, 8, 9}"
      ]
     },
     "execution_count": 22,
     "metadata": {},
     "output_type": "execute_result"
    }
   ],
   "source": [
    "st.pop()\n",
    "st"
   ]
  },
  {
   "cell_type": "code",
   "execution_count": 26,
   "id": "2aaed5e5-a172-4b32-a964-5c36d3be8119",
   "metadata": {},
   "outputs": [
    {
     "data": {
      "text/plain": [
       "{-1, 1, 2, 3, 5, 6, 8, 9}"
      ]
     },
     "execution_count": 26,
     "metadata": {},
     "output_type": "execute_result"
    }
   ],
   "source": [
    "st.add(3)\n",
    "st"
   ]
  },
  {
   "cell_type": "code",
   "execution_count": 27,
   "id": "594230c0-5cca-4fb4-a617-fed7011e59b3",
   "metadata": {},
   "outputs": [
    {
     "data": {
      "text/plain": [
       "{-1, 1, 2, 3, 5, 6, 8, 9, 10, 11}"
      ]
     },
     "execution_count": 27,
     "metadata": {},
     "output_type": "execute_result"
    }
   ],
   "source": [
    "st.update([9,10,11])\n",
    "st"
   ]
  },
  {
   "cell_type": "code",
   "execution_count": 28,
   "id": "d0a273ca-47ff-455b-8145-c488cd3ec3a4",
   "metadata": {},
   "outputs": [
    {
     "data": {
      "text/plain": [
       "{-2, -1, 1, 2, 3, 4, 5, 6, 7, 8, 9, 10, 11}"
      ]
     },
     "execution_count": 28,
     "metadata": {},
     "output_type": "execute_result"
    }
   ],
   "source": [
    "st.update([4,5],{-2,7})\n",
    "st"
   ]
  },
  {
   "cell_type": "code",
   "execution_count": 29,
   "id": "643153c9-9def-4948-a1ba-eac8df25bc03",
   "metadata": {},
   "outputs": [
    {
     "data": {
      "text/plain": [
       "{-1, -2, 1, 10, 11, 2, 3, 4, 5, 6, 7, 8, 9, 'H', 'e', 'l', 'o'}"
      ]
     },
     "execution_count": 29,
     "metadata": {},
     "output_type": "execute_result"
    }
   ],
   "source": [
    "st.update(\"Hello\")\n",
    "st"
   ]
  },
  {
   "cell_type": "code",
   "execution_count": 2,
   "id": "727f0d8b-2d15-484a-b792-63fa72f3a81d",
   "metadata": {},
   "outputs": [
    {
     "data": {
      "text/plain": [
       "{1, 2, 4, 5, 6}"
      ]
     },
     "execution_count": 2,
     "metadata": {},
     "output_type": "execute_result"
    }
   ],
   "source": [
    "#difference between discard() and remove()\n",
    "#the only difference is that the discard() function leaves a set unchanged if the element is not present in the set. on the other hand,\n",
    "#the remove() function will raise an error in such a condition(if element is not present in the set)\n",
    "st={1,2,3,4,5,6}\n",
    "st.discard(3)\n",
    "st"
   ]
  },
  {
   "cell_type": "code",
   "execution_count": 3,
   "id": "68325ff0-2897-4344-97fc-fedf2f485dfd",
   "metadata": {},
   "outputs": [
    {
     "data": {
      "text/plain": [
       "{1, 4, 5, 6}"
      ]
     },
     "execution_count": 3,
     "metadata": {},
     "output_type": "execute_result"
    }
   ],
   "source": [
    "st.remove(2)\n",
    "st"
   ]
  },
  {
   "cell_type": "code",
   "execution_count": 32,
   "id": "b120398a-b56e-46dc-b4e2-d10896d529be",
   "metadata": {},
   "outputs": [
    {
     "name": "stdout",
     "output_type": "stream",
     "text": [
      "{1, 2, 3, 4, 5, 6, 7, 8, 9, 10}\n"
     ]
    }
   ],
   "source": [
    "#python set operators\n",
    "#set can be used to carry out mathematical set operations like union,intersection, difference and symmetric difference\n",
    "\n",
    "a = {1,2,3,4,5}\n",
    "b = {6,7,8,9,10}\n",
    "print(a | b)   #union set"
   ]
  },
  {
   "cell_type": "code",
   "execution_count": 33,
   "id": "8fa82198-96a4-4edb-b41c-43ec778aba27",
   "metadata": {},
   "outputs": [
    {
     "data": {
      "text/plain": [
       "{1, 2, 3, 4, 5, 6, 7, 8, 9, 10}"
      ]
     },
     "execution_count": 33,
     "metadata": {},
     "output_type": "execute_result"
    }
   ],
   "source": [
    "a.union(b)"
   ]
  },
  {
   "cell_type": "code",
   "execution_count": 34,
   "id": "c8b242e4-eea0-4a39-86b8-c35e0843c437",
   "metadata": {},
   "outputs": [
    {
     "data": {
      "text/plain": [
       "{1, 2, 3, 4, 5, 6, 7, 8, 9, 10}"
      ]
     },
     "execution_count": 34,
     "metadata": {},
     "output_type": "execute_result"
    }
   ],
   "source": [
    "b.union(a)"
   ]
  },
  {
   "cell_type": "code",
   "execution_count": 36,
   "id": "64b5c51b-2043-4372-b1dd-2ab09a9d7076",
   "metadata": {},
   "outputs": [
    {
     "name": "stdout",
     "output_type": "stream",
     "text": [
      "{4, 6}\n"
     ]
    }
   ],
   "source": [
    "a = {4,5,6}   #intersection\n",
    "b = {1,3,4,6}\n",
    "print(a & b)"
   ]
  },
  {
   "cell_type": "code",
   "execution_count": 37,
   "id": "6be239ce-50ee-4b78-ba23-36618f8aca9f",
   "metadata": {},
   "outputs": [
    {
     "data": {
      "text/plain": [
       "{4, 6}"
      ]
     },
     "execution_count": 37,
     "metadata": {},
     "output_type": "execute_result"
    }
   ],
   "source": [
    "a.intersection(b)"
   ]
  },
  {
   "cell_type": "code",
   "execution_count": 38,
   "id": "6a9797f3-03ef-4bea-8ce9-1afb5f7e8153",
   "metadata": {},
   "outputs": [
    {
     "data": {
      "text/plain": [
       "{4, 6}"
      ]
     },
     "execution_count": 38,
     "metadata": {},
     "output_type": "execute_result"
    }
   ],
   "source": [
    "b.intersection(a)"
   ]
  },
  {
   "cell_type": "code",
   "execution_count": 39,
   "id": "49cea4b8-8c46-4e30-8744-975d4594cb55",
   "metadata": {},
   "outputs": [
    {
     "name": "stdout",
     "output_type": "stream",
     "text": [
      "{5}\n"
     ]
    }
   ],
   "source": [
    "print(a - b)   #difference"
   ]
  },
  {
   "cell_type": "code",
   "execution_count": 40,
   "id": "4ca9d0ec-4c8d-4a9e-b07c-76580dcc53f3",
   "metadata": {},
   "outputs": [
    {
     "name": "stdout",
     "output_type": "stream",
     "text": [
      "{1, 3, 5}\n"
     ]
    }
   ],
   "source": [
    "print(a ^ b)  #symmetric difference"
   ]
  },
  {
   "cell_type": "code",
   "execution_count": null,
   "id": "8036ee56-6a4d-4f2b-a19e-e6535405fa95",
   "metadata": {},
   "outputs": [],
   "source": []
  }
 ],
 "metadata": {
  "kernelspec": {
   "display_name": "Python 3 (ipykernel)",
   "language": "python",
   "name": "python3"
  },
  "language_info": {
   "codemirror_mode": {
    "name": "ipython",
    "version": 3
   },
   "file_extension": ".py",
   "mimetype": "text/x-python",
   "name": "python",
   "nbconvert_exporter": "python",
   "pygments_lexer": "ipython3",
   "version": "3.11.5"
  }
 },
 "nbformat": 4,
 "nbformat_minor": 5
}
