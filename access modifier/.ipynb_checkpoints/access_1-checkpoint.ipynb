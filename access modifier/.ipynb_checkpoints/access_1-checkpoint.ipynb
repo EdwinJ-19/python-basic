{
 "cells": [
  {
   "cell_type": "code",
   "execution_count": 2,
   "id": "5864ef47-f877-4f26-a59c-a453e4c356f4",
   "metadata": {},
   "outputs": [
    {
     "name": "stdout",
     "output_type": "stream",
     "text": [
      "Raj\n",
      "age 21\n"
     ]
    }
   ],
   "source": [
    "class happy():\n",
    "    #constructor\n",
    "    def __init__(self,name,age):\n",
    "        self.name=name\n",
    "        self.age=age\n",
    "    #public method\n",
    "    def display(self):\n",
    "        #accessing public data member\n",
    "        print(\"age\",self.age)\n",
    "\n",
    "ob = happy(\"Raj\",21)\n",
    "print(ob.name)\n",
    "ob.display()"
   ]
  },
  {
   "cell_type": "code",
   "execution_count": 6,
   "id": "359c6a26-0f07-4f2d-82d0-b027f40c5da9",
   "metadata": {},
   "outputs": [
    {
     "name": "stdout",
     "output_type": "stream",
     "text": [
      "name Edwin\n",
      "Age 22\n",
      "Branch Kharghar\n"
     ]
    }
   ],
   "source": [
    "#protected method\n",
    "class student:\n",
    "    _name=None\n",
    "    _age=None\n",
    "    _branch=None\n",
    "\n",
    "    def __init__(self,name,age,branch):\n",
    "        self._name=name\n",
    "        self._age=age\n",
    "        self._branch=branch\n",
    "    def display(self):\n",
    "        print(\"Age\",self._age)\n",
    "        print(\"Branch\",self._branch)\n",
    "\n",
    "class info(student):\n",
    "    def __init__(self,name,age,branch):\n",
    "        super().__init__(name,age,branch)\n",
    "    def disdetails(self):\n",
    "        print(\"name\",self._name)\n",
    "        \n",
    "\n",
    "ob=info(\"Edwin\",22,\"Kharghar\")\n",
    "ob.disdetails()\n",
    "ob.display()"
   ]
  },
  {
   "cell_type": "code",
   "execution_count": 7,
   "id": "43bc75e8-9779-4c54-82a0-346c2b384284",
   "metadata": {},
   "outputs": [
    {
     "name": "stdout",
     "output_type": "stream",
     "text": [
      "name Edwin\n",
      "Age 22\n",
      "Branch Kharghar\n"
     ]
    }
   ],
   "source": [
    "#private method\n",
    "class student:\n",
    "    #protected method\n",
    "    _name=None\n",
    "    _age=None\n",
    "    _branch=None\n",
    "\n",
    "    def __init__(self,name,age,branch):\n",
    "        self._name=name\n",
    "        self._age=age\n",
    "        self._branch=branch\n",
    "    def display(self):\n",
    "        print(\"Age\",self._age)\n",
    "        print(\"Branch\",self._branch)\n",
    "\n",
    "class info(student):\n",
    "    def __init__(self,name,age,branch):\n",
    "        super().__init__(name,age,branch)\n",
    "    def disdetails(self):\n",
    "        print(\"name\",self._name)\n",
    "\n",
    "ob=info(\"Edwin\",22,\"Kharghar\")\n",
    "ob.disdetails()\n",
    "ob.display()"
   ]
  },
  {
   "cell_type": "code",
   "execution_count": 10,
   "id": "7550650e-b164-4c12-9430-b7a358c9d584",
   "metadata": {},
   "outputs": [
    {
     "name": "stdin",
     "output_type": "stream",
     "text": [
      "Enter num1 20\n",
      "Enter num2 0\n"
     ]
    },
    {
     "name": "stdout",
     "output_type": "stream",
     "text": [
      "Number cannot divide by zero\n"
     ]
    }
   ],
   "source": [
    "#handling the error using try and except and finally.\n",
    "num1 = int(input(\"Enter num1\"))\n",
    "num2 = int(input(\"Enter num2\"))\n",
    "try: \n",
    "    y = num1/num2\n",
    "    print(\"the result is\",y)\n",
    "except:\n",
    "    if num2==0:\n",
    "        print(\"Number cannot divide by zero\")"
   ]
  },
  {
   "cell_type": "code",
   "execution_count": 11,
   "id": "453f87c8-a9a6-4f9c-89be-75edac4c37bf",
   "metadata": {},
   "outputs": [
    {
     "name": "stdout",
     "output_type": "stream",
     "text": [
      "the index and the element from the array is 0 java\n",
      "the index and the element from the array is 1 python\n",
      "the index and the element from the array is 2 c\n",
      "the index and the element from the array is 3 c++\n",
      "Yo Stupid ass out of range\n"
     ]
    }
   ],
   "source": [
    "a=[\"java\",'python','c','c++']\n",
    "try:\n",
    "    for i in range(5):\n",
    "        print(\"the index and the element from the array is\",i,a[i])\n",
    "except:\n",
    "    print(\"Yo Stupid ass out of range\")"
   ]
  },
  {
   "cell_type": "code",
   "execution_count": 49,
   "id": "e57f026b-cc6f-4bb4-a7fe-125bea0bd988",
   "metadata": {},
   "outputs": [
    {
     "name": "stdin",
     "output_type": "stream",
     "text": [
      "Enter the num: 3\n"
     ]
    },
    {
     "name": "stdout",
     "output_type": "stream",
     "text": [
      "False\n"
     ]
    }
   ],
   "source": [
    "num=int(input(\"Enter the num:\"))\n",
    "try:\n",
    "    print(num%2==0)\n",
    "except:\n",
    "    print(num%2!=0)"
   ]
  },
  {
   "cell_type": "code",
   "execution_count": 15,
   "id": "8b44b6c2-9802-4033-a201-575f14d78ffd",
   "metadata": {},
   "outputs": [
    {
     "name": "stdout",
     "output_type": "stream",
     "text": [
      "1.6666666666666667\n",
      "Program Successfully Executed\n"
     ]
    }
   ],
   "source": [
    "try:\n",
    "    print(5/0)\n",
    "except ZeroDivisionError:\n",
    "    print(5/3)\n",
    "    print(\"Program Successfully Executed\")"
   ]
  },
  {
   "cell_type": "code",
   "execution_count": 46,
   "id": "778c1919-5cc1-4e7f-b252-86f530be198f",
   "metadata": {},
   "outputs": [
    {
     "name": "stdout",
     "output_type": "stream",
     "text": [
      "Welcome\n",
      "else\n",
      "Finally\n"
     ]
    }
   ],
   "source": [
    "try:\n",
    "    print(\"Welcome\")\n",
    "except:\n",
    "    print(\"except\")\n",
    "else:\n",
    "    print(\"else\")\n",
    "finally:\n",
    "    print(\"Finally\")"
   ]
  },
  {
   "cell_type": "code",
   "execution_count": 51,
   "id": "2f48ff22-da31-4484-8547-084aec7d1f07",
   "metadata": {},
   "outputs": [
    {
     "name": "stdin",
     "output_type": "stream",
     "text": [
      "Enter the num: 2\n",
      "Enter the num: 0\n"
     ]
    },
    {
     "name": "stdout",
     "output_type": "stream",
     "text": [
      "cannot divide number by 0\n"
     ]
    }
   ],
   "source": [
    "num=int(input(\"Enter the num:\"))\n",
    "m=int(input(\"Enter the num:\"))\n",
    "try:\n",
    "    c=num/m\n",
    "    print(\"The division is\", c)\n",
    "except ZeroDivisionError:\n",
    "    print(\"cannot divide number by 0\")\n",
    "except NameError:\n",
    "    print(\"one of the variables are not defined\")"
   ]
  },
  {
   "cell_type": "code",
   "execution_count": 53,
   "id": "b2128a01-7b16-438f-ab72-e760af5d9043",
   "metadata": {},
   "outputs": [
    {
     "name": "stdin",
     "output_type": "stream",
     "text": [
      "Enter the numbers: 5\n"
     ]
    },
    {
     "name": "stdout",
     "output_type": "stream",
     "text": [
      "Name Error Occured\n"
     ]
    }
   ],
   "source": [
    "try:\n",
    "    def fun(a):\n",
    "        if a<4:\n",
    "            b=a/(a-3)\n",
    "        print(\"Value of b:\",b)\n",
    "\n",
    "    c=int(input(\"Enter the numbers:\"))\n",
    "    fun(c)\n",
    "\n",
    "except ZeroDivisionError:\n",
    "    print(\"Zero Division Error Occured\")\n",
    "except NameError:\n",
    "    print(\"Name Error Occured\")"
   ]
  },
  {
   "cell_type": "code",
   "execution_count": 62,
   "id": "453d8847-fd16-4f9f-bef2-19f579401c86",
   "metadata": {},
   "outputs": [
    {
     "name": "stdin",
     "output_type": "stream",
     "text": [
      "Enter your age: 3\n"
     ]
    },
    {
     "name": "stdout",
     "output_type": "stream",
     "text": [
      "Not Eligible 3\n",
      "Not Eligible 3\n",
      "None\n"
     ]
    }
   ],
   "source": [
    "age = int(input(\"Enter your age:\"))\n",
    "\n",
    "def function():\n",
    "    if(age>18):\n",
    "        print(\"You are Eligible\",age)\n",
    "    else:\n",
    "        print(\"Not Eligible\",age)\n",
    "# function()\n",
    "try:\n",
    "    print(function())\n",
    "except AgeError:\n",
    "    print(\"Error you have put the age wrong\",function())"
   ]
  },
  {
   "cell_type": "code",
   "execution_count": null,
   "id": "d6aee7f2-b3ec-44d0-8045-2e256f72c9ab",
   "metadata": {},
   "outputs": [],
   "source": []
  }
 ],
 "metadata": {
  "kernelspec": {
   "display_name": "Python 3 (ipykernel)",
   "language": "python",
   "name": "python3"
  },
  "language_info": {
   "codemirror_mode": {
    "name": "ipython",
    "version": 3
   },
   "file_extension": ".py",
   "mimetype": "text/x-python",
   "name": "python",
   "nbconvert_exporter": "python",
   "pygments_lexer": "ipython3",
   "version": "3.11.5"
  }
 },
 "nbformat": 4,
 "nbformat_minor": 5
}
