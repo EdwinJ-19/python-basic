{
 "cells": [
  {
   "cell_type": "code",
   "execution_count": 2,
   "id": "5864ef47-f877-4f26-a59c-a453e4c356f4",
   "metadata": {},
   "outputs": [
    {
     "name": "stdout",
     "output_type": "stream",
     "text": [
      "Raj\n",
      "age 21\n"
     ]
    }
   ],
   "source": [
    "class happy():\n",
    "    #constructor\n",
    "    def __init__(self,name,age):\n",
    "        self.name=name\n",
    "        self.age=age\n",
    "    #public method\n",
    "    def display(self):\n",
    "        #accessing public data member\n",
    "        print(\"age\",self.age)\n",
    "\n",
    "ob = happy(\"Raj\",21)\n",
    "print(ob.name)\n",
    "ob.display()"
   ]
  },
  {
   "cell_type": "code",
   "execution_count": 6,
   "id": "359c6a26-0f07-4f2d-82d0-b027f40c5da9",
   "metadata": {},
   "outputs": [
    {
     "name": "stdout",
     "output_type": "stream",
     "text": [
      "name Edwin\n",
      "Age 22\n",
      "Branch Kharghar\n"
     ]
    }
   ],
   "source": [
    "#protected method\n",
    "class student:\n",
    "    _name=None\n",
    "    _age=None\n",
    "    _branch=None\n",
    "\n",
    "    def __init__(self,name,age,branch):\n",
    "        self._name=name\n",
    "        self._age=age\n",
    "        self._branch=branch\n",
    "    def display(self):\n",
    "        print(\"Age\",self._age)\n",
    "        print(\"Branch\",self._branch)\n",
    "\n",
    "class info(student):\n",
    "    def __init__(self,name,age,branch):\n",
    "        super().__init__(name,age,branch)\n",
    "    def disdetails(self):\n",
    "        print(\"name\",self._name)\n",
    "        \n",
    "\n",
    "ob=info(\"Edwin\",22,\"Kharghar\")\n",
    "ob.disdetails()\n",
    "ob.display()"
   ]
  },
  {
   "cell_type": "code",
   "execution_count": 7,
   "id": "43bc75e8-9779-4c54-82a0-346c2b384284",
   "metadata": {},
   "outputs": [
    {
     "name": "stdout",
     "output_type": "stream",
     "text": [
      "name Edwin\n",
      "Age 22\n",
      "Branch Kharghar\n"
     ]
    }
   ],
   "source": [
    "#private method\n",
    "class student:\n",
    "    #protected method\n",
    "    _name=None\n",
    "    _age=None\n",
    "    _branch=None\n",
    "\n",
    "    def __init__(self,name,age,branch):\n",
    "        self._name=name\n",
    "        self._age=age\n",
    "        self._branch=branch\n",
    "    def display(self):\n",
    "        print(\"Age\",self._age)\n",
    "        print(\"Branch\",self._branch)\n",
    "\n",
    "class info(student):\n",
    "    def __init__(self,name,age,branch):\n",
    "        super().__init__(name,age,branch)\n",
    "    def disdetails(self):\n",
    "        print(\"name\",self._name)\n",
    "\n",
    "ob=info(\"Edwin\",22,\"Kharghar\")\n",
    "ob.disdetails()\n",
    "ob.display()"
   ]
  },
  {
   "cell_type": "code",
   "execution_count": 10,
   "id": "7550650e-b164-4c12-9430-b7a358c9d584",
   "metadata": {},
   "outputs": [
    {
     "name": "stdin",
     "output_type": "stream",
     "text": [
      "Enter num1 20\n",
      "Enter num2 0\n"
     ]
    },
    {
     "name": "stdout",
     "output_type": "stream",
     "text": [
      "Number cannot divide by zero\n"
     ]
    }
   ],
   "source": [
    "#handling the error using try and except and finally.\n",
    "num1 = int(input(\"Enter num1\"))\n",
    "num2 = int(input(\"Enter num2\"))\n",
    "try: \n",
    "    y = num1/num2\n",
    "    print(\"the result is\",y)\n",
    "except:\n",
    "    if num2==0:\n",
    "        print(\"Number cannot divide by zero\")"
   ]
  },
  {
   "cell_type": "code",
   "execution_count": 11,
   "id": "453f87c8-a9a6-4f9c-89be-75edac4c37bf",
   "metadata": {},
   "outputs": [
    {
     "name": "stdout",
     "output_type": "stream",
     "text": [
      "the index and the element from the array is 0 java\n",
      "the index and the element from the array is 1 python\n",
      "the index and the element from the array is 2 c\n",
      "the index and the element from the array is 3 c++\n",
      "Yo Stupid ass out of range\n"
     ]
    }
   ],
   "source": [
    "a=[\"java\",'python','c','c++']\n",
    "try:\n",
    "    for i in range(5):\n",
    "        print(\"the index and the element from the array is\",i,a[i])\n",
    "except:\n",
    "    print(\"Yo Stupid ass out of range\")"
   ]
  },
  {
   "cell_type": "code",
   "execution_count": null,
   "id": "e57f026b-cc6f-4bb4-a7fe-125bea0bd988",
   "metadata": {},
   "outputs": [],
   "source": [
    "num=int(input(\"Enter the num:\"))\n",
    "try:\n",
    "    if num%2==0:\n",
    "        print(\"EVEN\")\n",
    "    else:\n",
    "        print(\"ODD\")\n",
    "except:\n",
    "        print(\"Your number is odd man, fix it man!\",num)"
   ]
  },
  {
   "cell_type": "code",
   "execution_count": 15,
   "id": "8b44b6c2-9802-4033-a201-575f14d78ffd",
   "metadata": {},
   "outputs": [
    {
     "name": "stdout",
     "output_type": "stream",
     "text": [
      "1.6666666666666667\n",
      "Program Successfully Executed\n"
     ]
    }
   ],
   "source": [
    "try:\n",
    "    print(5/0)\n",
    "except ZeroDivisionError:\n",
    "    print(5/3)\n",
    "    print(\"Program Successfully Executed\")"
   ]
  },
  {
   "cell_type": "code",
   "execution_count": 25,
   "id": "778c1919-5cc1-4e7f-b252-86f530be198f",
   "metadata": {},
   "outputs": [
    {
     "name": "stdout",
     "output_type": "stream",
     "text": [
      "Welcome\n",
      "else\n",
      "Finally\n"
     ]
    }
   ],
   "source": [
    "try:\n",
    "    print(\"Welcome\")\n",
    "except:\n",
    "    print(\"except\")\n",
    "else:\n",
    "    print(\"else\")\n",
    "finally:\n",
    "    print(\"Finally\")"
   ]
  },
  {
   "cell_type": "code",
   "execution_count": null,
   "id": "b2128a01-7b16-438f-ab72-e760af5d9043",
   "metadata": {},
   "outputs": [],
   "source": [
    "try:\n",
    "    def fun(a):\n",
    "        if a<4:\n",
    "            b=a/(a-3)\n",
    "        print(\"Value of b:\"b)\n",
    "\n",
    "    c=int(input(\"Enter the numbers:\"))"
   ]
  }
 ],
 "metadata": {
  "kernelspec": {
   "display_name": "Python 3 (ipykernel)",
   "language": "python",
   "name": "python3"
  },
  "language_info": {
   "codemirror_mode": {
    "name": "ipython",
    "version": 3
   },
   "file_extension": ".py",
   "mimetype": "text/x-python",
   "name": "python",
   "nbconvert_exporter": "python",
   "pygments_lexer": "ipython3",
   "version": "3.11.5"
  }
 },
 "nbformat": 4,
 "nbformat_minor": 5
}
