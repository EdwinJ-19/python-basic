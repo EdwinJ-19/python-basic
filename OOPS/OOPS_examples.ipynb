{
 "cells": [
  {
   "cell_type": "code",
   "execution_count": 2,
   "id": "32097c29-b43c-4db7-b8f4-cb42578dc43f",
   "metadata": {},
   "outputs": [
    {
     "name": "stdout",
     "output_type": "stream",
     "text": [
      "Hello How are you Edwin What is your age? 20 You born in? 19-06-2023\n"
     ]
    }
   ],
   "source": [
    "class student:\n",
    "    name=\"Edwin\"\n",
    "    age=20\n",
    "    dob=\"19-06-2023\"\n",
    "    def display(self):\n",
    "        print(\"Hello How are you\",student.name,\"What is your age?\",student.age,\"You born in?\",student.dob)\n",
    "ob = student()\n",
    "ob.display()"
   ]
  },
  {
   "cell_type": "code",
   "execution_count": 15,
   "id": "225fe5f6-7991-419c-9e0e-f7130caca2a0",
   "metadata": {},
   "outputs": [
    {
     "name": "stdin",
     "output_type": "stream",
     "text": [
      "Enter the value: 10\n",
      "Enter the value of b:  20\n"
     ]
    },
    {
     "name": "stdout",
     "output_type": "stream",
     "text": [
      "Addition of: 30\n"
     ]
    }
   ],
   "source": [
    "class bruh:\n",
    "    a = int(input(\"Enter the value:\"))    #global variable\n",
    "    b = int(input(\"Enter the value of b: \"))\n",
    "    c = a - b\n",
    "    def add(addition):\n",
    "        c = bruh.a+bruh.b         #local variable\n",
    "        print(\"Addition of:\",c)\n",
    "ob = bruh()\n",
    "ob.add()"
   ]
  },
  {
   "cell_type": "code",
   "execution_count": null,
   "id": "54ba4455-622c-4432-9817-4f2b80fcf3db",
   "metadata": {},
   "outputs": [],
   "source": []
  }
 ],
 "metadata": {
  "kernelspec": {
   "display_name": "Python 3 (ipykernel)",
   "language": "python",
   "name": "python3"
  },
  "language_info": {
   "codemirror_mode": {
    "name": "ipython",
    "version": 3
   },
   "file_extension": ".py",
   "mimetype": "text/x-python",
   "name": "python",
   "nbconvert_exporter": "python",
   "pygments_lexer": "ipython3",
   "version": "3.11.5"
  }
 },
 "nbformat": 4,
 "nbformat_minor": 5
}
