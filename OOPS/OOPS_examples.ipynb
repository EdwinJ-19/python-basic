{
 "cells": [
  {
   "cell_type": "code",
   "execution_count": 1,
   "id": "32097c29-b43c-4db7-b8f4-cb42578dc43f",
   "metadata": {},
   "outputs": [
    {
     "ename": "SyntaxError",
     "evalue": "leading zeros in decimal integer literals are not permitted; use an 0o prefix for octal integers (2648796690.py, line 4)",
     "output_type": "error",
     "traceback": [
      "\u001b[1;36m  Cell \u001b[1;32mIn[1], line 4\u001b[1;36m\u001b[0m\n\u001b[1;33m    dob=19-06-2023\u001b[0m\n\u001b[1;37m           ^\u001b[0m\n\u001b[1;31mSyntaxError\u001b[0m\u001b[1;31m:\u001b[0m leading zeros in decimal integer literals are not permitted; use an 0o prefix for octal integers\n"
     ]
    }
   ],
   "source": [
    "class student:\n",
    "    name=\"Edwin\"\n",
    "    age=20\n",
    "    dob=\"19-06-2023\"\n",
    "    def display():\n",
    "        print(\"Hello How are you\",name,\"What is your age?\",age,\"You born in?\",dob)\n",
    "ob = student()\n",
    "ob.display"
   ]
  },
  {
   "cell_type": "code",
   "execution_count": null,
   "id": "225fe5f6-7991-419c-9e0e-f7130caca2a0",
   "metadata": {},
   "outputs": [],
   "source": []
  }
 ],
 "metadata": {
  "kernelspec": {
   "display_name": "Python 3 (ipykernel)",
   "language": "python",
   "name": "python3"
  },
  "language_info": {
   "codemirror_mode": {
    "name": "ipython",
    "version": 3
   },
   "file_extension": ".py",
   "mimetype": "text/x-python",
   "name": "python",
   "nbconvert_exporter": "python",
   "pygments_lexer": "ipython3",
   "version": "3.11.5"
  }
 },
 "nbformat": 4,
 "nbformat_minor": 5
}
