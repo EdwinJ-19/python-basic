{
 "cells": [
  {
   "cell_type": "code",
   "execution_count": 3,
   "id": "b8d9ed9b-1528-437f-a3eb-0a5e6987266c",
   "metadata": {},
   "outputs": [
    {
     "name": "stdout",
     "output_type": "stream",
     "text": [
      "3\n",
      "ab\n",
      "12\n",
      "sss\n"
     ]
    }
   ],
   "source": [
    "print(1+2)\n",
    "print(\"a\"+\"b\")\n",
    "print(3*4)\n",
    "print(\"s\"*3)"
   ]
  },
  {
   "cell_type": "code",
   "execution_count": 18,
   "id": "2ed5e7a8-be6b-4dd0-b28f-14a0197abec4",
   "metadata": {},
   "outputs": [
    {
     "name": "stdout",
     "output_type": "stream",
     "text": [
      "3\n",
      "HolaHey\n",
      "3\n",
      "HolaHey\n"
     ]
    }
   ],
   "source": [
    "class A:\n",
    "    def __init__(self,a):\n",
    "        self.a=a\n",
    "    def __add__(self,h):\n",
    "        return self.a+h.a\n",
    "\n",
    "# class B(A):\n",
    "#     def __init__(self,total):\n",
    "#         self.total=total\n",
    "#         super().__add__(a,b)\n",
    "#         return self.total \n",
    "        \n",
    "ob1=A(1)\n",
    "ob2=A(2)\n",
    "ob3=A(\"Hola\")\n",
    "ob4=A(\"Hey\")\n",
    "\n",
    "print(ob1 + ob2)\n",
    "print(ob3 + ob4)\n",
    "\n",
    "print(A.__add__(ob1,ob2))  #use of class operator\n",
    "print(A.__add__(ob3,ob4))"
   ]
  },
  {
   "cell_type": "code",
   "execution_count": 25,
   "id": "0aa21e4e-7aca-4c18-a16f-58a4ac39e93b",
   "metadata": {},
   "outputs": [
    {
     "name": "stdout",
     "output_type": "stream",
     "text": [
      "0\n"
     ]
    }
   ],
   "source": [
    "class B:\n",
    "    def __init__(self,a):\n",
    "        self.a=a\n",
    "    def __sub__(self,h):\n",
    "        return self.a - h.a\n",
    "\n",
    "ob1=B(10)\n",
    "ob2=B(10)\n",
    "\n",
    "print(ob1 - ob2)"
   ]
  },
  {
   "cell_type": "code",
   "execution_count": 30,
   "id": "8413e5a4-9a54-4c42-bfe2-b23534968b60",
   "metadata": {},
   "outputs": [
    {
     "name": "stdout",
     "output_type": "stream",
     "text": [
      "(15, 15)\n"
     ]
    }
   ],
   "source": [
    "class add:\n",
    "    def __init__(self,a,b):\n",
    "        self.a=a\n",
    "        self.b=b\n",
    "    def __add__(self,other):\n",
    "        return self.a + other.a, self.b + other.b\n",
    "\n",
    "ob = add(5,10)\n",
    "ob1 = add(10,5)\n",
    "ob2 = ob1 + ob\n",
    "print(ob2)"
   ]
  },
  {
   "cell_type": "code",
   "execution_count": 34,
   "id": "1a18a7b0-92cd-4886-b314-b328305019e7",
   "metadata": {},
   "outputs": [
    {
     "name": "stdout",
     "output_type": "stream",
     "text": [
      "OB1 is greater\n"
     ]
    }
   ],
   "source": [
    "class A:\n",
    "    def __init__(self,a):\n",
    "        self.a=a\n",
    "    def __gt__(self,other):\n",
    "        if(self.a>other.a):\n",
    "            return True\n",
    "        else:\n",
    "            return False\n",
    "\n",
    "ob1=A(10)\n",
    "ob2=A(5)\n",
    "\n",
    "if(ob1 > ob2):\n",
    "    print(\"OB1 is greater\")\n",
    "else:\n",
    "    print(\"OB2 is greater\")"
   ]
  },
  {
   "cell_type": "code",
   "execution_count": 42,
   "id": "a24a2c7e-ceef-4ce1-967a-353236a6d86c",
   "metadata": {},
   "outputs": [
    {
     "name": "stdout",
     "output_type": "stream",
     "text": [
      "True\n"
     ]
    }
   ],
   "source": [
    "class A:\n",
    "    def __init__(self,a):\n",
    "        self.a=a\n",
    "    def __le__(self,other):\n",
    "        if(self.a<=other.a):\n",
    "            return True\n",
    "        else:\n",
    "            return False\n",
    "\n",
    "ob1=A(10)\n",
    "ob2=A(15)\n",
    "\n",
    "print(ob1<=ob2)"
   ]
  },
  {
   "cell_type": "code",
   "execution_count": 40,
   "id": "370bc00f-b1ba-4269-924f-1424790d5c6e",
   "metadata": {},
   "outputs": [
    {
     "name": "stdout",
     "output_type": "stream",
     "text": [
      "False\n"
     ]
    }
   ],
   "source": [
    "class A:\n",
    "    def __init__(self,a):\n",
    "        self.a=a\n",
    "    def __eq__(self,other):\n",
    "        if(self.a==other.a):\n",
    "            return True\n",
    "        else:\n",
    "            return False\n",
    "\n",
    "ob1=A(10)\n",
    "ob2=A(5)\n",
    "\n",
    "print(ob1==ob2)"
   ]
  },
  {
   "cell_type": "code",
   "execution_count": 47,
   "id": "955063a8-237e-4208-ae88-df2ebc748e06",
   "metadata": {},
   "outputs": [
    {
     "name": "stdout",
     "output_type": "stream",
     "text": [
      "ob1 is not equal to ob2\n",
      "ob1 is less than ob2\n"
     ]
    }
   ],
   "source": [
    "class A:\n",
    "    def __init__(self,a):\n",
    "        self.a=a\n",
    "    def __eq__(self,other):\n",
    "        if(self.a==other.a):\n",
    "            return \"ob1 is equal to ob2\"\n",
    "        else:\n",
    "            return \"ob1 is not equal to ob2\"\n",
    "    def __gt__(self,other):\n",
    "        if(self.a<other.a):\n",
    "            return \"ob1 is less than ob2\"\n",
    "        else:\n",
    "            return \"ob2 is greater than ob1\"\n",
    "    \n",
    "ob1=A(96)\n",
    "ob2=A(10)\n",
    "\n",
    "print(ob1==ob2)\n",
    "print(ob1<ob2)\n",
    "\n"
   ]
  },
  {
   "cell_type": "code",
   "execution_count": 48,
   "id": "1e82055e-5562-4de8-b6c1-913b5a66cfb5",
   "metadata": {},
   "outputs": [
    {
     "name": "stdout",
     "output_type": "stream",
     "text": [
      "14 10\n",
      "14 10\n"
     ]
    }
   ],
   "source": [
    "class A:\n",
    "    x = 10\n",
    "    def show(self):\n",
    "        self.x=self.x+4\n",
    "        print(self.x, A.x)\n",
    "\n",
    "ob=A()\n",
    "ob.show()\n",
    "A().show()"
   ]
  },
  {
   "cell_type": "code",
   "execution_count": null,
   "id": "0141beda-2203-4632-ac57-dd81e6c32fdf",
   "metadata": {},
   "outputs": [],
   "source": []
  }
 ],
 "metadata": {
  "kernelspec": {
   "display_name": "Python 3 (ipykernel)",
   "language": "python",
   "name": "python3"
  },
  "language_info": {
   "codemirror_mode": {
    "name": "ipython",
    "version": 3
   },
   "file_extension": ".py",
   "mimetype": "text/x-python",
   "name": "python",
   "nbconvert_exporter": "python",
   "pygments_lexer": "ipython3",
   "version": "3.11.5"
  }
 },
 "nbformat": 4,
 "nbformat_minor": 5
}
