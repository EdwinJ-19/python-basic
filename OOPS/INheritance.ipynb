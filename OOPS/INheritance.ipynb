{
 "cells": [
  {
   "cell_type": "code",
   "execution_count": 1,
   "id": "8b4ef2fa-c9eb-4ab2-aa03-5401584ffb26",
   "metadata": {},
   "outputs": [
    {
     "name": "stdout",
     "output_type": "stream",
     "text": [
      "Parent class side\n",
      "Child class side\n"
     ]
    }
   ],
   "source": [
    "#single inheritance: when a child class inherits from only one parent class, it is called single inheritance.\n",
    "\n",
    "class Parent:\n",
    "    def show1(self):\n",
    "        print(\"Parent class side\")\n",
    "class Child(Parent):\n",
    "    def show2(self):\n",
    "        print(\"Child class side\")\n",
    "\n",
    "ob = Child()\n",
    "ob.show1()\n",
    "ob.show2()"
   ]
  },
  {
   "cell_type": "code",
   "execution_count": null,
   "id": "50f33de0-855f-4576-a8d5-900eb528a77a",
   "metadata": {},
   "outputs": [],
   "source": []
  }
 ],
 "metadata": {
  "kernelspec": {
   "display_name": "Python 3 (ipykernel)",
   "language": "python",
   "name": "python3"
  },
  "language_info": {
   "codemirror_mode": {
    "name": "ipython",
    "version": 3
   },
   "file_extension": ".py",
   "mimetype": "text/x-python",
   "name": "python",
   "nbconvert_exporter": "python",
   "pygments_lexer": "ipython3",
   "version": "3.11.5"
  }
 },
 "nbformat": 4,
 "nbformat_minor": 5
}
