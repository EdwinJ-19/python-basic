{
 "cells": [
  {
   "cell_type": "code",
   "execution_count": 6,
   "id": "c0b3d9cd-fef1-42ea-aee9-c768e9d3944d",
   "metadata": {},
   "outputs": [
    {
     "name": "stdout",
     "output_type": "stream",
     "text": [
      "First number100\n",
      "Second number200\n",
      "Addition of two number:300\n"
     ]
    }
   ],
   "source": [
    "class Addition:\n",
    "    f=0\n",
    "    s=0\n",
    "    a=0\n",
    "    def __init__(self,f1,s1):\n",
    "        self.f=f1\n",
    "        self.s=s1\n",
    "    def display(self):\n",
    "        print(\"First number\"+str(self.f))\n",
    "        print(\"Second number\"+str(self.s))\n",
    "        print(\"Addition of two number:\"+str(self.a))\n",
    "    def calc(self):\n",
    "        self.a=self.f+self.s\n",
    "obj=Addition(100,200)\n",
    "obj.calc()\n",
    "obj.display()"
   ]
  },
  {
   "cell_type": "code",
   "execution_count": 7,
   "id": "695d509c-6e44-4d69-b39a-62752e296584",
   "metadata": {},
   "outputs": [
    {
     "name": "stdin",
     "output_type": "stream",
     "text": [
      "Enter your grade 90\n"
     ]
    },
    {
     "ename": "TypeError",
     "evalue": "student.__init__() missing 1 required positional argument: 'a1'",
     "output_type": "error",
     "traceback": [
      "\u001b[1;31m---------------------------------------------------------------------------\u001b[0m",
      "\u001b[1;31mTypeError\u001b[0m                                 Traceback (most recent call last)",
      "Cell \u001b[1;32mIn[7], line 10\u001b[0m\n\u001b[0;32m      8\u001b[0m         \u001b[38;5;28;01melse\u001b[39;00m:\n\u001b[0;32m      9\u001b[0m             \u001b[38;5;28mprint\u001b[39m(\u001b[38;5;124m\"\u001b[39m\u001b[38;5;124mFail\u001b[39m\u001b[38;5;124m\"\u001b[39m)\n\u001b[1;32m---> 10\u001b[0m obj\u001b[38;5;241m=\u001b[39m\u001b[43mstudent\u001b[49m\u001b[43m(\u001b[49m\u001b[43m)\u001b[49m\n\u001b[0;32m     11\u001b[0m obj\u001b[38;5;241m.\u001b[39mdisplay()\n",
      "\u001b[1;31mTypeError\u001b[0m: student.__init__() missing 1 required positional argument: 'a1'"
     ]
    }
   ],
   "source": [
    "class student:\n",
    "    def __init__(self,a1):\n",
    "        self.a=a1\n",
    "    def display(self):\n",
    "        if(self.a<90):\n",
    "            print(\"A grade\")\n",
    "        else:\n",
    "            print(\"Fail\")\n",
    "obj=student()\n",
    "obj.display()"
   ]
  },
  {
   "cell_type": "code",
   "execution_count": 8,
   "id": "e5c94bf8-32e9-45b5-90a5-01c8ff148620",
   "metadata": {},
   "outputs": [],
   "source": [
    "class emp:\n",
    "    def __init__(self,name,eid):\n",
    "        self.eid=eid\n",
    "        self.name=name\n",
    "    def disp(self):\n",
    "        print(\"ID: %d\\n name: %s\\n\"%(self.eid,self.name))\n",
    "emp1=emp(\"Edwin\",1)\n",
    "emp2=emp(\"Megha\",2)\n",
    "emp3=emp(\"Om\",3)"
   ]
  },
  {
   "cell_type": "code",
   "execution_count": 9,
   "id": "90af54f6-9979-4ef8-bd8a-e69b0242526b",
   "metadata": {},
   "outputs": [
    {
     "name": "stdout",
     "output_type": "stream",
     "text": [
      "ID: 1\n",
      " name: Edwin\n",
      "\n"
     ]
    }
   ],
   "source": [
    "emp1.disp()"
   ]
  },
  {
   "cell_type": "code",
   "execution_count": null,
   "id": "eef8617b-94b7-49ee-a724-10c5c2d64777",
   "metadata": {},
   "outputs": [],
   "source": []
  }
 ],
 "metadata": {
  "kernelspec": {
   "display_name": "Python 3 (ipykernel)",
   "language": "python",
   "name": "python3"
  },
  "language_info": {
   "codemirror_mode": {
    "name": "ipython",
    "version": 3
   },
   "file_extension": ".py",
   "mimetype": "text/x-python",
   "name": "python",
   "nbconvert_exporter": "python",
   "pygments_lexer": "ipython3",
   "version": "3.11.5"
  }
 },
 "nbformat": 4,
 "nbformat_minor": 5
}
