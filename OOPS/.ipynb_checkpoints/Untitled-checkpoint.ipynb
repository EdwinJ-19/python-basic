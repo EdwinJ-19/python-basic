{
 "cells": [
  {
   "cell_type": "code",
   "execution_count": 16,
   "id": "32097c29-b43c-4db7-b8f4-cb42578dc43f",
   "metadata": {},
   "outputs": [
    {
     "name": "stdout",
     "output_type": "stream",
     "text": [
      "Hello How are you Edwin , What is your age? 20 , You born in? 19-06-2023\n"
     ]
    },
    {
     "data": {
      "text/plain": [
       "<__main__.student at 0x2b0b3511e90>"
      ]
     },
     "execution_count": 16,
     "metadata": {},
     "output_type": "execute_result"
    }
   ],
   "source": [
    "class student:\n",
    "    name=\"Edwin\"\n",
    "    age=20\n",
    "    dob=\"19-06-2023\"\n",
    "    print(\"Hello How are you\",name,\", What is your age?\",age,\", You born in?\",dob)\n",
    "\n",
    "student()"
   ]
  },
  {
   "cell_type": "code",
   "execution_count": 17,
   "id": "225fe5f6-7991-419c-9e0e-f7130caca2a0",
   "metadata": {},
   "outputs": [
    {
     "name": "stdout",
     "output_type": "stream",
     "text": [
      "Hello How are you Edwin , What is your age? 18 , You born in? 25-06-2005\n"
     ]
    }
   ],
   "source": [
    "class student:   # \".\" referred as dot references operator\n",
    "    name=\"Edwin\"   #attributes\n",
    "    age=22\n",
    "    dob=\"19-06-2001\"\n",
    "    def display(self):    #method\n",
    "        name = \"Jackass\"\n",
    "        age = 18\n",
    "        dob = \"25-06-2005\"\n",
    "        print(\"Hello How are you\",student.name,\", What is your age?\",age,\", You born in?\",dob)  #student.name means the name belongs to student variables. \n",
    "ob = student()\n",
    "ob.display()"
   ]
  },
  {
   "cell_type": "code",
   "execution_count": 20,
   "id": "584f16b2-54ab-406e-93e3-9c095ee70c3d",
   "metadata": {},
   "outputs": [
    {
     "name": "stdout",
     "output_type": "stream",
     "text": [
      "Sum of the two values is 55\n"
     ]
    }
   ],
   "source": [
    "class add():\n",
    "    a = 20\n",
    "    b = 35\n",
    "    def sum(self):\n",
    "        c = add.a + add.b\n",
    "        print(\"Sum of the two values is\",c);\n",
    "ob = add()\n",
    "ob.sum()"
   ]
  },
  {
   "cell_type": "code",
   "execution_count": 21,
   "id": "a2eb1c59-8094-4482-8958-586621be86ca",
   "metadata": {},
   "outputs": [
    {
     "name": "stdout",
     "output_type": "stream",
     "text": [
      "Power of a values: 8000\n"
     ]
    }
   ],
   "source": [
    "class power():\n",
    "    a = 20\n",
    "    b = 3\n",
    "    def pow(self):\n",
    "        c = power.a**power.b\n",
    "        print(\"Power of a values:\",c)\n",
    "ob = power()\n",
    "ob.pow()"
   ]
  },
  {
   "cell_type": "code",
   "execution_count": 9,
   "id": "73e1b405-710e-4436-8882-04d445371cd4",
   "metadata": {},
   "outputs": [
    {
     "name": "stdout",
     "output_type": "stream",
     "text": [
      "Modulos of two values is  9.999999999647688e-06\n"
     ]
    }
   ],
   "source": [
    "class mod():\n",
    "    a = 24\n",
    "    b = 0.0000212\n",
    "    def modulo(self):\n",
    "        c = mod.a % mod.b\n",
    "        print(\"Modulos of two values is \",c)\n",
    "ob = mod()\n",
    "ob.modulo()"
   ]
  },
  {
   "cell_type": "code",
   "execution_count": 6,
   "id": "d1be31a7-793c-4193-b074-d557f123734f",
   "metadata": {},
   "outputs": [
    {
     "name": "stdout",
     "output_type": "stream",
     "text": [
      "Power of a values: 2.111111111111111e-05\n"
     ]
    }
   ],
   "source": [
    "class division():\n",
    "    a = 0.076\n",
    "    b = 3600\n",
    "    def div(self):\n",
    "        c = division.a / division.b\n",
    "        print(\"Power of a values:\",c)\n",
    "ob = division()\n",
    "ob.div()"
   ]
  },
  {
   "cell_type": "code",
   "execution_count": 14,
   "id": "0ddf2d84-fe1f-40c5-b9be-861d6372d2a1",
   "metadata": {},
   "outputs": [
    {
     "data": {
      "text/plain": [
       "'my name is Edwin and my age is 22 years old.'"
      ]
     },
     "execution_count": 14,
     "metadata": {},
     "output_type": "execute_result"
    }
   ],
   "source": [
    "class student():   # \".\" referred as dot references operator\n",
    "    name=\"Edwin\"   #attributes\n",
    "    age=22\n",
    "    dob=\"19-06-2001\"\n",
    "    def display(ob):    #method\n",
    "        name = \"Jackass\"\n",
    "        age = 18\n",
    "        dob = \"25-06-2005\"\n",
    "        return f\"my name is {ob.name} and my age is {ob.age} years old.\"  #student.name means the name belongs to student variables. \n",
    "ob=student()\n",
    "ob.display()"
   ]
  },
  {
   "cell_type": "code",
   "execution_count": 15,
   "id": "91d40a6f-fc4e-43a7-9a6b-c640a257efe1",
   "metadata": {},
   "outputs": [
    {
     "data": {
      "text/plain": [
       "'my name is Edwin and my age is 22 years old.'"
      ]
     },
     "execution_count": 15,
     "metadata": {},
     "output_type": "execute_result"
    }
   ],
   "source": [
    "ob1=student()\n",
    "ob1.display()"
   ]
  },
  {
   "cell_type": "code",
   "execution_count": 30,
   "id": "16925c4d-4f9a-4f2e-8abd-7664fbd9e5b9",
   "metadata": {},
   "outputs": [
    {
     "name": "stdout",
     "output_type": "stream",
     "text": [
      "\n",
      "*\n",
      "**\n",
      "***\n",
      "****\n",
      "*****\n"
     ]
    }
   ],
   "source": [
    "class pyramid():   #simple pyramid\n",
    "    for i in range(0,6,1):\n",
    "        for j in range(0,i,1):\n",
    "            print(end=\"*\")\n",
    "        print()"
   ]
  },
  {
   "cell_type": "code",
   "execution_count": 45,
   "id": "28e8ea53-8649-4618-9405-c84c7ad74d48",
   "metadata": {},
   "outputs": [
    {
     "name": "stdout",
     "output_type": "stream",
     "text": [
      "\n",
      "\n",
      "*\n",
      "\n",
      "*\n",
      "**\n",
      "\n",
      "*\n",
      "**\n",
      "***\n",
      "\n",
      "*\n",
      "**\n",
      "***\n",
      "****\n"
     ]
    }
   ],
   "source": [
    "class pyramid():   #inside pyramid\n",
    "    for k in range(0,6,1): \n",
    "        for i in range(0,k,1):\n",
    "            for j in range(0,i,1):\n",
    "                print(end=\"*\")\n",
    "            print()"
   ]
  },
  {
   "cell_type": "code",
   "execution_count": 3,
   "id": "3c1ebae5-c08d-4c44-b331-e7eecde78da2",
   "metadata": {},
   "outputs": [
    {
     "name": "stdout",
     "output_type": "stream",
     "text": [
      "******\n",
      "*****\n",
      "****\n",
      "***\n",
      "**\n",
      "*\n",
      "\n"
     ]
    }
   ],
   "source": [
    "class pyramid():   #inverted pyramid\n",
    "    for i in range(6,-1,-1):\n",
    "        for j in range(i,0,-1):\n",
    "            print(end=\"*\")\n",
    "        print()"
   ]
  },
  {
   "cell_type": "code",
   "execution_count": 6,
   "id": "078a01f9-f696-4a5d-b839-114948230b9c",
   "metadata": {},
   "outputs": [],
   "source": [
    "class pyramid():   #rotated simple pyramid\n",
    "    for i in range(1,6,1):\n",
    "        for j in range(0,i,-1):\n",
    "            print(end=\"*\")\n",
    "        print()"
   ]
  },
  {
   "cell_type": "code",
   "execution_count": 28,
   "id": "1e0d0504-47d0-4106-8c12-c4f32815959f",
   "metadata": {},
   "outputs": [
    {
     "name": "stdout",
     "output_type": "stream",
     "text": [
      "0\n",
      "1*1\n",
      "2*2*2\n",
      "3*3*3*3\n",
      "4*4*4*4*4\n",
      "5*5*5*5*5*5\n"
     ]
    }
   ],
   "source": [
    "class pyradmi():\n",
    "    for i in range(0,6,1):\n",
    "        for j in range(0,i,1):\n",
    "            print(i,end=\"*\")\n",
    "        print(i)"
   ]
  },
  {
   "cell_type": "code",
   "execution_count": null,
   "id": "2ed68ac4-ae6d-4109-8b64-c22d649eb1a1",
   "metadata": {},
   "outputs": [],
   "source": []
  }
 ],
 "metadata": {
  "kernelspec": {
   "display_name": "Python 3 (ipykernel)",
   "language": "python",
   "name": "python3"
  },
  "language_info": {
   "codemirror_mode": {
    "name": "ipython",
    "version": 3
   },
   "file_extension": ".py",
   "mimetype": "text/x-python",
   "name": "python",
   "nbconvert_exporter": "python",
   "pygments_lexer": "ipython3",
   "version": "3.11.5"
  }
 },
 "nbformat": 4,
 "nbformat_minor": 5
}
