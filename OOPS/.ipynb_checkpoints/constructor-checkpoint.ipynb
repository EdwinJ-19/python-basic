{
 "cells": [
  {
   "cell_type": "code",
   "execution_count": 6,
   "id": "c0b3d9cd-fef1-42ea-aee9-c768e9d3944d",
   "metadata": {},
   "outputs": [
    {
     "name": "stdout",
     "output_type": "stream",
     "text": [
      "First number100\n",
      "Second number200\n",
      "Addition of two number:300\n"
     ]
    }
   ],
   "source": [
    "class Addition:\n",
    "    f=0\n",
    "    s=0\n",
    "    a=0\n",
    "    def __init__(self,f1,s1):\n",
    "        self.f=f1\n",
    "        self.s=s1\n",
    "    def display(self):\n",
    "        print(\"First number\"+str(self.f))\n",
    "        print(\"Second number\"+str(self.s))\n",
    "        print(\"Addition of two number:\"+str(self.a))\n",
    "    def calc(self):\n",
    "        self.a=self.f+self.s\n",
    "obj=Addition(100,200)\n",
    "obj.calc()\n",
    "obj.display()"
   ]
  },
  {
   "cell_type": "code",
   "execution_count": 13,
   "id": "695d509c-6e44-4d69-b39a-62752e296584",
   "metadata": {},
   "outputs": [
    {
     "name": "stdout",
     "output_type": "stream",
     "text": [
      "A grade\n"
     ]
    }
   ],
   "source": [
    "class student:\n",
    "    def __init__(self,a1):\n",
    "        self.a=a1\n",
    "    def display(self):\n",
    "        if(self.a>90):\n",
    "            print(\"A grade\")\n",
    "        else:\n",
    "            print(\"Fail\")\n",
    "obj=student(100)\n",
    "obj.display()"
   ]
  },
  {
   "cell_type": "code",
   "execution_count": 9,
   "id": "90af54f6-9979-4ef8-bd8a-e69b0242526b",
   "metadata": {},
   "outputs": [
    {
     "name": "stdout",
     "output_type": "stream",
     "text": [
      "ID: 1\n",
      " name: Edwin\n",
      "\n"
     ]
    }
   ],
   "source": [
    "emp1.disp()"
   ]
  },
  {
   "cell_type": "code",
   "execution_count": 14,
   "id": "eef8617b-94b7-49ee-a724-10c5c2d64777",
   "metadata": {},
   "outputs": [
    {
     "name": "stdout",
     "output_type": "stream",
     "text": [
      "ID: 2\n",
      " name: Megha\n",
      "\n"
     ]
    }
   ],
   "source": [
    "emp2.disp()"
   ]
  },
  {
   "cell_type": "code",
   "execution_count": 15,
   "id": "ce04b5d5-d16d-483b-b025-264c743f18f8",
   "metadata": {},
   "outputs": [
    {
     "name": "stdout",
     "output_type": "stream",
     "text": [
      "ID: 3\n",
      " name: Om\n",
      "\n"
     ]
    }
   ],
   "source": [
    "emp3.disp()"
   ]
  },
  {
   "cell_type": "code",
   "execution_count": 18,
   "id": "f0f7c030-0ee8-4ed6-a7b4-5711a1847316",
   "metadata": {},
   "outputs": [
    {
     "name": "stdout",
     "output_type": "stream",
     "text": [
      "Total number of students: 27\n"
     ]
    }
   ],
   "source": [
    "class student:\n",
    "    count=0\n",
    "    def __init__(self):\n",
    "        student.count=student.count+1\n",
    "s1=student()\n",
    "s2=student()\n",
    "s3=student()\n",
    "s1=student()\n",
    "s2=student()\n",
    "s3=student()\n",
    "s1=student()\n",
    "s2=student()\n",
    "s3=student()\n",
    "s1=student()\n",
    "s2=student()\n",
    "s3=student()\n",
    "s1=student()\n",
    "s2=student()\n",
    "s3=student()\n",
    "s1=student()\n",
    "s2=student()\n",
    "s3=student()\n",
    "s1=student()\n",
    "s2=student()\n",
    "s3=student()\n",
    "s1=student()\n",
    "s2=student()\n",
    "s3=student()\n",
    "s1=student()\n",
    "s2=student()\n",
    "s3=student()\n",
    "print(\"Total number of students:\",student.count)"
   ]
  },
  {
   "cell_type": "code",
   "execution_count": 19,
   "id": "ef734f62-4554-4e1c-b3a8-206bfa4177fb",
   "metadata": {},
   "outputs": [
    {
     "name": "stdout",
     "output_type": "stream",
     "text": [
      "Second Constructor\n"
     ]
    }
   ],
   "source": [
    "class Student():\n",
    "    def __init__(self):\n",
    "        print(\"First Constructor\")\n",
    "    def __init__(self):\n",
    "        print(\"Second Constructor\")\n",
    "\n",
    "ob = Student()"
   ]
  },
  {
   "cell_type": "code",
   "execution_count": 1,
   "id": "e5c94bf8-32e9-45b5-90a5-01c8ff148620",
   "metadata": {},
   "outputs": [],
   "source": [
    "class emp:\n",
    "    def __init__(self,name,eid):\n",
    "        self.eid=eid\n",
    "        self.name=name\n",
    "    def disp(self):\n",
    "        print(\"ID: %d\\n name: %s\\n\"%(self.eid,self.name))\n",
    "emp1=emp(\"Edwin\",1)\n",
    "emp2=emp(\"Megha\",2)\n",
    "emp3=emp(\"Om\",3)"
   ]
  },
  {
   "cell_type": "code",
   "execution_count": 2,
   "id": "84199624-4047-4bbb-9853-f515a9ed9272",
   "metadata": {},
   "outputs": [
    {
     "name": "stdout",
     "output_type": "stream",
     "text": [
      "ID: 1\n",
      " name: Edwin\n",
      "\n"
     ]
    }
   ],
   "source": [
    "emp1.disp()"
   ]
  },
  {
   "cell_type": "code",
   "execution_count": 28,
   "id": "0777a9a0-45a3-4508-90df-ac1e2240c92c",
   "metadata": {},
   "outputs": [],
   "source": [
    "class student:\n",
    "    def __init__(self,sid,name,rollnum,add,grade):\n",
    "        self.sid=sid\n",
    "        self.name=name\n",
    "        self.rollnum=rollnum\n",
    "        self.add=add\n",
    "        self.grade=grade\n",
    "    def disp(self):\n",
    "        print(\"ID: %d\\n name: %s\\n rollnumber: %r\\n address: %a\\n grade %g\"%(self.sid,self.name,self.rollnum,self.add,self.grade))\n",
    "        \n",
    "student1=student(1,\"Edwin\",19,\"Mumbai\",55)\n",
    "student2=student(2,\"Om\",20,\"Mumbai\",80)\n",
    "student3=student(3,\"Megha\",15,\"Mumbai\",75)"
   ]
  },
  {
   "cell_type": "code",
   "execution_count": 29,
   "id": "5b49afc6-c023-41b6-a0ef-17d0d68d836c",
   "metadata": {},
   "outputs": [
    {
     "name": "stdout",
     "output_type": "stream",
     "text": [
      "ID: 1\n",
      " name: Edwin\n",
      " rollnumber: 19\n",
      " address: 'Mumbai'\n",
      " grade 55\n"
     ]
    }
   ],
   "source": [
    "student1.disp()"
   ]
  },
  {
   "cell_type": "code",
   "execution_count": 39,
   "id": "3500e8b4-6a79-4f39-8b22-289ef39c8774",
   "metadata": {},
   "outputs": [],
   "source": [
    "class bank:\n",
    "    def __init__(self,id,name,account,branch):\n",
    "        self.id=id\n",
    "        self.name=name\n",
    "        self.account=account\n",
    "        self.branch=branch\n",
    "    def disp(self):\n",
    "        print(\"ID: %d\\n name: %s\\n account: %r\\n branch: %s\\n\"%(self.id,self.name,self.account,self.branch))\n",
    "\n",
    "bank1=bank(1,\"Edwin\",876543,\"SBI Kharghar\")\n",
    "bank2=bank(2,\"Megha\",898762,\"HDFC Vashi\")\n",
    "bank3=bank(3,\"Sairaj\",345678,\"PNB Punjab\")"
   ]
  },
  {
   "cell_type": "code",
   "execution_count": 40,
   "id": "aca7736d-a24a-48b7-a94c-5eeac9045c3e",
   "metadata": {},
   "outputs": [
    {
     "name": "stdout",
     "output_type": "stream",
     "text": [
      "ID: 1\n",
      " name: Edwin\n",
      " account: 876543\n",
      " branch: SBI Kharghar\n",
      "\n"
     ]
    }
   ],
   "source": [
    "bank1.disp()"
   ]
  },
  {
   "cell_type": "code",
   "execution_count": 41,
   "id": "7199ef43-8ca9-4825-8e7b-8fe0f9507fc2",
   "metadata": {},
   "outputs": [
    {
     "name": "stdout",
     "output_type": "stream",
     "text": [
      "ID: 2\n",
      " name: Megha\n",
      " account: 898762\n",
      " branch: HDFC Vashi\n",
      "\n"
     ]
    }
   ],
   "source": [
    "bank2.disp()"
   ]
  },
  {
   "cell_type": "code",
   "execution_count": 42,
   "id": "df6802ba-c5fb-455e-80ff-e95d70795b3d",
   "metadata": {},
   "outputs": [
    {
     "name": "stdout",
     "output_type": "stream",
     "text": [
      "ID: 3\n",
      " name: Sairaj\n",
      " account: 345678\n",
      " branch: PNB Punjab\n",
      "\n"
     ]
    }
   ],
   "source": [
    "bank3.disp()"
   ]
  },
  {
   "cell_type": "code",
   "execution_count": 54,
   "id": "cce401ad-d262-43e9-9550-de79d4c3a996",
   "metadata": {},
   "outputs": [
    {
     "name": "stdout",
     "output_type": "stream",
     "text": [
      "IT\n",
      "Edwin 1 IT\n",
      "Jake 2 IT\n"
     ]
    }
   ],
   "source": [
    "#access identifier (public)\n",
    "class student:\n",
    "    stream=\"cs\"\n",
    "    def __init__(self,name,rollno):\n",
    "        self.name=name\n",
    "        self.rollno=rollno\n",
    "a=student(\"Edwin\",1)\n",
    "b=student(\"Jake\",2)\n",
    "\n",
    "# print(student.stream)\n",
    "# print(a.stream)\n",
    "\n",
    "# print(a.name)\n",
    "# print(b.name)\n",
    "\n",
    "# a.stream=\"IT\"\n",
    "# print(a.stream)\n",
    "# print(b.stream)\n",
    "\n",
    "student.stream=\"IT\"\n",
    "print(student.stream)\n",
    "print(a.name,a.rollno,a.stream)\n",
    "print(b.name,b.rollno,b.stream)"
   ]
  },
  {
   "cell_type": "code",
   "execution_count": 55,
   "id": "8f115b20-b4f5-421f-b252-84a407ee6f9f",
   "metadata": {},
   "outputs": [
    {
     "name": "stdout",
     "output_type": "stream",
     "text": [
      "999\n"
     ]
    }
   ],
   "source": [
    "class democlass:\n",
    "    num = 101\n",
    "    def __init__(self):  #non-parameterized constructor\n",
    "        self.num = 999\n",
    "    def read_num(self):   #a method\n",
    "        print(self.num)\n",
    "\n",
    "obj = democlass()\n",
    "obj.read_num()"
   ]
  },
  {
   "cell_type": "code",
   "execution_count": 56,
   "id": "482f95e3-3ab3-4f3c-ac76-535146a78543",
   "metadata": {},
   "outputs": [
    {
     "name": "stdout",
     "output_type": "stream",
     "text": [
      "101\n"
     ]
    }
   ],
   "source": [
    "class demo:\n",
    "    num = 101\n",
    "    def read_fun(self):\n",
    "        print(self.num)\n",
    "obj = demo()\n",
    "obj.read_fun()"
   ]
  },
  {
   "cell_type": "code",
   "execution_count": 57,
   "id": "61e7bf32-8f27-43a1-8817-76714393264c",
   "metadata": {},
   "outputs": [
    {
     "name": "stdout",
     "output_type": "stream",
     "text": [
      "1 Pune 1000\n",
      "2 Kerala 2500\n",
      "3 Jammu & Kashmir 3500\n"
     ]
    }
   ],
   "source": [
    "#access public identifier and constructor\n",
    "class ticket:\n",
    "    location=\"Panvel\"\n",
    "    def __init__(self,id,destination,price):\n",
    "        self.id=id\n",
    "        self.destination=destination\n",
    "        self.price=price\n",
    "a=print(1,\"Pune\",1000)\n",
    "b=print(2,\"Kerala\",2500)\n",
    "c=print(3,\"Jammu & Kashmir\",3500)"
   ]
  },
  {
   "cell_type": "code",
   "execution_count": 58,
   "id": "b7c6732a-821d-47b9-8857-3537bc06507d",
   "metadata": {},
   "outputs": [],
   "source": [
    "class ticket:\n",
    "    location=\"Panvel\"\n",
    "    def __init__(self,id,destination,price):\n",
    "        self.id=id\n",
    "        self.destination=destination\n",
    "        self.price=price\n",
    "    def disp(self):\n",
    "        print(\"ID: %d\\n, Destination: %n\\n, Price: %p\\n\"%(id,destination,price))\n",
    "a=ticket(1,\"Pune\",1000)\n",
    "b=ticket(2,\"Kerala\",2500)\n",
    "c=ticket(3,\"Jammu & Kashmir\",3500)"
   ]
  },
  {
   "cell_type": "code",
   "execution_count": 59,
   "id": "07bef98e-4175-485c-89f5-dfd29480980f",
   "metadata": {},
   "outputs": [
    {
     "ename": "NameError",
     "evalue": "name 'destination' is not defined",
     "output_type": "error",
     "traceback": [
      "\u001b[1;31m---------------------------------------------------------------------------\u001b[0m",
      "\u001b[1;31mNameError\u001b[0m                                 Traceback (most recent call last)",
      "Cell \u001b[1;32mIn[59], line 1\u001b[0m\n\u001b[1;32m----> 1\u001b[0m \u001b[43ma\u001b[49m\u001b[38;5;241;43m.\u001b[39;49m\u001b[43mdisp\u001b[49m\u001b[43m(\u001b[49m\u001b[43m)\u001b[49m\n",
      "Cell \u001b[1;32mIn[58], line 8\u001b[0m, in \u001b[0;36mticket.disp\u001b[1;34m(self)\u001b[0m\n\u001b[0;32m      7\u001b[0m \u001b[38;5;28;01mdef\u001b[39;00m \u001b[38;5;21mdisp\u001b[39m(\u001b[38;5;28mself\u001b[39m):\n\u001b[1;32m----> 8\u001b[0m     \u001b[38;5;28mprint\u001b[39m(\u001b[38;5;124m\"\u001b[39m\u001b[38;5;124mID: \u001b[39m\u001b[38;5;132;01m%d\u001b[39;00m\u001b[38;5;130;01m\\n\u001b[39;00m\u001b[38;5;124m, Destination: \u001b[39m\u001b[38;5;124m%\u001b[39m\u001b[38;5;124mn\u001b[39m\u001b[38;5;130;01m\\n\u001b[39;00m\u001b[38;5;124m, Price: \u001b[39m\u001b[38;5;124m%\u001b[39m\u001b[38;5;124mp\u001b[39m\u001b[38;5;130;01m\\n\u001b[39;00m\u001b[38;5;124m\"\u001b[39m\u001b[38;5;241m%\u001b[39m(\u001b[38;5;28mid\u001b[39m,\u001b[43mdestination\u001b[49m,price))\n",
      "\u001b[1;31mNameError\u001b[0m: name 'destination' is not defined"
     ]
    }
   ],
   "source": [
    "a.disp()"
   ]
  },
  {
   "cell_type": "code",
   "execution_count": null,
   "id": "232f9167-b7b8-4fc3-b7a6-fd2acb4bf240",
   "metadata": {},
   "outputs": [],
   "source": []
  }
 ],
 "metadata": {
  "kernelspec": {
   "display_name": "Python 3 (ipykernel)",
   "language": "python",
   "name": "python3"
  },
  "language_info": {
   "codemirror_mode": {
    "name": "ipython",
    "version": 3
   },
   "file_extension": ".py",
   "mimetype": "text/x-python",
   "name": "python",
   "nbconvert_exporter": "python",
   "pygments_lexer": "ipython3",
   "version": "3.11.5"
  }
 },
 "nbformat": 4,
 "nbformat_minor": 5
}
