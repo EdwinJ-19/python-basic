{
 "cells": [
  {
   "cell_type": "code",
   "execution_count": 1,
   "id": "8b4ef2fa-c9eb-4ab2-aa03-5401584ffb26",
   "metadata": {},
   "outputs": [
    {
     "name": "stdout",
     "output_type": "stream",
     "text": [
      "Parent class side\n",
      "Child class side\n"
     ]
    }
   ],
   "source": [
    "#single inheritance: when a child class inherits from only one parent class, it is called single inheritance.\n",
    "\n",
    "class Parent:\n",
    "    def show1(self):\n",
    "        print(\"Parent class side\")\n",
    "class Child(Parent):\n",
    "    def show2(self):\n",
    "        print(\"Child class side\")\n",
    "\n",
    "ob = Child()\n",
    "ob.show1()\n",
    "ob.show2()"
   ]
  },
  {
   "cell_type": "code",
   "execution_count": 7,
   "id": "50f33de0-855f-4576-a8d5-900eb528a77a",
   "metadata": {},
   "outputs": [
    {
     "name": "stdout",
     "output_type": "stream",
     "text": [
      "Mother of= Inka favourite bacha hu re\n",
      "Father of= Inka pata nhi \n"
     ]
    }
   ],
   "source": [
    "#multiple inheritance: when a child class inherits from multiple parent classes, it is class multiple inheritance.\n",
    "class Mother:\n",
    "    mothername=\" \"\n",
    "    def show1(self):\n",
    "        print(self.mother)\n",
    "class Father:\n",
    "    fathername=\" \"\n",
    "    def show2(self):\n",
    "        print(self.father)\n",
    "class Child(Mother,Father):\n",
    "    def show3(self):\n",
    "        print(\"Mother of=\",self.mother)\n",
    "        print(\"Father of=\",self.father)\n",
    "\n",
    "ob = Child()\n",
    "ob.mother=\"Inka favourite bacha hu re\"\n",
    "ob.father=\"Inka pata nhi \"\n",
    "ob.show3()"
   ]
  },
  {
   "cell_type": "code",
   "execution_count": 12,
   "id": "31a7530b-4190-4ade-9cf1-8576afa878e4",
   "metadata": {},
   "outputs": [
    {
     "name": "stdin",
     "output_type": "stream",
     "text": [
      "Enter the first number: 10\n",
      "Enter the second number: 20\n"
     ]
    },
    {
     "name": "stdout",
     "output_type": "stream",
     "text": [
      "Sum of two numbers: 30\n"
     ]
    }
   ],
   "source": [
    "#multilevel inheritance: features of the base class(father class) and the derived class(child class) are further inherited into the new derived class.\n",
    "class first:\n",
    "    def get(self):\n",
    "        self.a=int(input(\"Enter the first number:\"))\n",
    "        self.b=int(input(\"Enter the second number:\"))\n",
    "class second(first):\n",
    "    def add(self):\n",
    "        self.z=self.a + self.b\n",
    "class third(second):\n",
    "    def result(self):\n",
    "        print(\"Sum of two numbers:\",self.z)\n",
    "\n",
    "ob=third()\n",
    "ob.get()\n",
    "ob.add()\n",
    "ob.result()"
   ]
  },
  {
   "cell_type": "code",
   "execution_count": 18,
   "id": "c17e9cb7-26cc-4afe-bd2f-0aa898021331",
   "metadata": {},
   "outputs": [
    {
     "name": "stdin",
     "output_type": "stream",
     "text": [
      "Enter the first number: 10\n",
      "Enter the second number: 20\n"
     ]
    },
    {
     "name": "stdout",
     "output_type": "stream",
     "text": [
      "Sum of two numbers: 30\n"
     ]
    }
   ],
   "source": [
    "class first:\n",
    "    def get(self):\n",
    "        first.a=int(input(\"Enter the first number:\"))\n",
    "        first.b=int(input(\"Enter the second number:\"))\n",
    "class second(first):\n",
    "    def add(self):\n",
    "        second.z=first.a + first.b\n",
    "class third(second):\n",
    "    def result(self):\n",
    "        print(\"Sum of two numbers:\",second.z)\n",
    "\n",
    "ob=third()\n",
    "ob.get()\n",
    "ob.add()\n",
    "ob.result()"
   ]
  },
  {
   "cell_type": "code",
   "execution_count": 27,
   "id": "2f12f6eb-f9f9-4470-8afd-3e90e5e004de",
   "metadata": {},
   "outputs": [
    {
     "name": "stdin",
     "output_type": "stream",
     "text": [
      "Enter the value of first: 10\n",
      "Enter the value of second: 20\n"
     ]
    },
    {
     "name": "stdout",
     "output_type": "stream",
     "text": [
      "Addition of: 30\n",
      "Subtraction of:  -10\n",
      "Multiplication of: 200\n",
      "Modulos of: 10\n",
      "Division of: 0.5\n"
     ]
    }
   ],
   "source": [
    "#hierarchial inheritance: one common base class (parent class) and multiple derived class (child class)\n",
    "class first:\n",
    "    def get(self):\n",
    "        first.a=int(input(\"Enter the value of first:\"))\n",
    "        first.b=int(input(\"Enter the value of second:\"))\n",
    "class second(first):\n",
    "    def add(self):\n",
    "        second.c = first.a+first.b\n",
    "        print(\"Addition of:\",second.c)\n",
    "class third(first):\n",
    "    def sub(self):\n",
    "        third.c = first.a - first.b\n",
    "        print(\"Subtraction of: \",third.c)\n",
    "class fourth(first):\n",
    "    def multiply(self):\n",
    "        fourth.c= first.a * first.b\n",
    "        print(\"Multiplication of:\",fourth.c)\n",
    "class fifth(first):\n",
    "    def mod(self):\n",
    "        fifth.c= first.a % first.b\n",
    "        print(\"Modulos of:\",fifth.c)\n",
    "class sixth(first):\n",
    "    def division(self):\n",
    "        sixth.c= first.a / first.b\n",
    "        print(\"Division of:\",sixth.c)\n",
    "ob.get()\n",
    "ob1=second()\n",
    "ob1.add()\n",
    "ob2=third()\n",
    "ob2.sub()\n",
    "ob3=fourth()\n",
    "ob3.multiply()\n",
    "ob4=fifth()\n",
    "ob4.mod()\n",
    "ob5=sixth()\n",
    "ob5.division()"
   ]
  },
  {
   "cell_type": "code",
   "execution_count": 28,
   "id": "66eff47c-ad71-425d-ad0c-c976cecfcca2",
   "metadata": {},
   "outputs": [
    {
     "name": "stdout",
     "output_type": "stream",
     "text": [
      "My parent value\n",
      "My child value\n"
     ]
    }
   ],
   "source": [
    "#method overriding (polymorphism) using classname()\n",
    "class parent:\n",
    "    def __init__(self):\n",
    "        self.value = \"My parent value\"\n",
    "    def show(self):\n",
    "        print(self.value)\n",
    "class child(parent):\n",
    "    def __init__(self):\n",
    "        self.value = \"My child value\"\n",
    "    def show(self):\n",
    "        print(self.value)\n",
    "\n",
    "ob=parent()\n",
    "ob1=child()\n",
    "ob.show()\n",
    "ob1.show()"
   ]
  },
  {
   "cell_type": "code",
   "execution_count": 7,
   "id": "7eafa670-cc55-4837-a58d-4d12e3f4538a",
   "metadata": {},
   "outputs": [
    {
     "name": "stdout",
     "output_type": "stream",
     "text": [
      "The id is 1\n",
      "The name is Edwin\n",
      "The address is Navi Mumbai\n",
      "The email address is edwin@gmail.com\n"
     ]
    }
   ],
   "source": [
    "class Emp:\n",
    "    def __init__(self,id,name,add):\n",
    "        self.id = id\n",
    "        self.name = name\n",
    "        self.add = add\n",
    "class display(Emp):\n",
    "    def __init__(self,id,name,add,email):\n",
    "        super().__init__(id,name,add)     #super() keyword for method overriding\n",
    "        self.email=email\n",
    "\n",
    "ob=display(1,\"Edwin\",\"Navi Mumbai\",\"edwin@gmail.com\")\n",
    "print(\"The id is\",ob.id)\n",
    "print(\"The name is\",ob.name)\n",
    "print(\"The address is\",ob.add)\n",
    "print(\"The email address is\",ob.email)"
   ]
  },
  {
   "cell_type": "code",
   "execution_count": 41,
   "id": "c83c1270-fbdc-4efe-98a1-01ca50aab53e",
   "metadata": {},
   "outputs": [
    {
     "name": "stdout",
     "output_type": "stream",
     "text": [
      "Here is your Account Details!\n",
      "ID: 1 ,Name: Edwin ,Branch: Mumbai ,Money: 10000\n"
     ]
    }
   ],
   "source": [
    "class Bank:\n",
    "    def __init__(self,id,name,branch):\n",
    "        self.id=id\n",
    "        self.name=name\n",
    "        self.branch=branch\n",
    "class display(Bank):\n",
    "    def __init__(self,id,name,branch,money):\n",
    "        super().__init__(id,name,branch)\n",
    "        self.money=money\n",
    "        print(\"Here is your Account Details!\")\n",
    "\n",
    "ob=display(1,\"Edwin\",\"Mumbai\",10000)\n",
    "print(\"ID:\",ob.id,\",Name:\",ob.name,\",Branch:\",ob.branch,\",Money:\",ob.money)"
   ]
  },
  {
   "cell_type": "code",
   "execution_count": 22,
   "id": "b8b3ab26-29a8-4059-9126-f7ce1a95df5d",
   "metadata": {},
   "outputs": [
    {
     "name": "stdout",
     "output_type": "stream",
     "text": [
      "Type of animal: Mammal\n",
      "Mammal is a part of the animal!\n"
     ]
    }
   ],
   "source": [
    "class animal:\n",
    "    def __init__(self,animal_type):\n",
    "        print(\"Type of animal:\",animal_type)\n",
    "\n",
    "class mammal(animal):\n",
    "    def __init__(self,animal_type):\n",
    "        super().__init__(\"Mammal\")\n",
    "        print(animal_type,\"is a part of the animal!\")\n",
    "\n",
    "ob=mammal(\"Mammal\")"
   ]
  },
  {
   "cell_type": "code",
   "execution_count": 46,
   "id": "d0eec29e-278e-46ce-918a-3db776c70779",
   "metadata": {},
   "outputs": [
    {
     "ename": "TypeError",
     "evalue": "mammal.__init__() missing 1 required positional argument: 'mammalname'",
     "output_type": "error",
     "traceback": [
      "\u001b[1;31m---------------------------------------------------------------------------\u001b[0m",
      "\u001b[1;31mTypeError\u001b[0m                                 Traceback (most recent call last)",
      "Cell \u001b[1;32mIn[46], line 10\u001b[0m\n\u001b[0;32m      8\u001b[0m         \u001b[38;5;28msuper\u001b[39m()\u001b[38;5;241m.\u001b[39m\u001b[38;5;21m__init__\u001b[39m(\u001b[38;5;124m'\u001b[39m\u001b[38;5;124mdog\u001b[39m\u001b[38;5;124m'\u001b[39m)\n\u001b[0;32m      9\u001b[0m         \u001b[38;5;28mprint\u001b[39m(\u001b[38;5;124m\"\u001b[39m\u001b[38;5;124mDog has four legs\u001b[39m\u001b[38;5;124m\"\u001b[39m)\n\u001b[1;32m---> 10\u001b[0m d\u001b[38;5;241m=\u001b[39m\u001b[43mdog\u001b[49m\u001b[43m(\u001b[49m\u001b[43m)\u001b[49m\n",
      "\u001b[1;31mTypeError\u001b[0m: mammal.__init__() missing 1 required positional argument: 'mammalname'"
     ]
    }
   ],
   "source": [
    "#single inheritance\n",
    "class mammal():\n",
    "    def __init__(self,mammalname):\n",
    "        print(mammalname,\"is a worm - blood animal\")\n",
    "\n",
    "class dog(mammal):\n",
    "    def __init___(self):\n",
    "        super().__init__('dog')\n",
    "        print(\"Dog has four legs\")\n",
    "d=dog()"
   ]
  },
  {
   "cell_type": "code",
   "execution_count": 49,
   "id": "be613918-172d-4b1e-8da4-af39d7aa485a",
   "metadata": {},
   "outputs": [
    {
     "name": "stdout",
     "output_type": "stream",
     "text": [
      "b\n",
      "c\n",
      "d\n"
     ]
    }
   ],
   "source": [
    "#multiple inheritance\n",
    "class B:\n",
    "    def b(self):\n",
    "        print(\"b\")\n",
    "\n",
    "class C:\n",
    "    def c(self):\n",
    "        print(\"c\")\n",
    "\n",
    "class D(B,C):\n",
    "    def d(self):\n",
    "        print(\"d\")\n",
    "ob=D()\n",
    "ob.b()\n",
    "ob.c()\n",
    "ob.d()"
   ]
  },
  {
   "cell_type": "code",
   "execution_count": 62,
   "id": "e4098703-287d-4e32-8ab5-34ee4e80cbbb",
   "metadata": {},
   "outputs": [
    {
     "name": "stdout",
     "output_type": "stream",
     "text": [
      "Start wordcount __init__()\n",
      "Start vocab __init__()\n",
      "Start Tokenizer __init__()\n",
      "End Tokenizer __init__()\n",
      "End vocab __init__()\n",
      "End wordcount __init__()\n",
      "['Tum', 'Chutiya', 'ho.']\n",
      "3\n",
      "{'Tum', 'Chutiya', 'ho.'}\n"
     ]
    }
   ],
   "source": [
    "class Tokenizer:\n",
    "    def __init__(self,text):\n",
    "        print(\"Start Tokenizer __init__()\")\n",
    "        self.tokens=text.split()\n",
    "        print(\"End Tokenizer __init__()\")\n",
    "\n",
    "class wordcount(Tokenizer):\n",
    "    #countword in text\n",
    "    def __init__(self,text):\n",
    "        print(\"Start wordcount __init__()\")\n",
    "        super().__init__(text)\n",
    "        self.wordcount=len(self.tokens)\n",
    "        print(\"End wordcount __init__()\")\n",
    "\n",
    "class Vocab(Tokenizer):\n",
    "    def __init__(self,text):\n",
    "        print(\"Start vocab __init__()\")\n",
    "        super().__init__(text)\n",
    "        self.vocab=set(self.tokens)\n",
    "        print(\"End vocab __init__()\")\n",
    "\n",
    "class TextDescriber(wordcount,Vocab):\n",
    "    def __init(self,text):\n",
    "        print(\"Start Texting __init__()\")\n",
    "        super().__init__(text)\n",
    "        print(\"End Texting __init__()\")\n",
    "\n",
    "td=TextDescriber(\"Tum Chutiya ho.\")\n",
    "print(td.tokens)\n",
    "print(td.wordcount)\n",
    "print(td.vocab)"
   ]
  },
  {
   "cell_type": "code",
   "execution_count": 12,
   "id": "045c5795-6d40-4307-aef3-4c759a635244",
   "metadata": {},
   "outputs": [
    {
     "ename": "NameError",
     "evalue": "name 'a' is not defined",
     "output_type": "error",
     "traceback": [
      "\u001b[1;31m---------------------------------------------------------------------------\u001b[0m",
      "\u001b[1;31mNameError\u001b[0m                                 Traceback (most recent call last)",
      "Cell \u001b[1;32mIn[12], line 25\u001b[0m\n\u001b[0;32m     22\u001b[0m         \u001b[38;5;28mprint\u001b[39m(\u001b[38;5;124m\"\u001b[39m\u001b[38;5;124mAddition of two number is:\u001b[39m\u001b[38;5;124m\"\u001b[39m,\u001b[38;5;28mself\u001b[39m\u001b[38;5;241m.\u001b[39msum)\n\u001b[0;32m     23\u001b[0m         \u001b[38;5;28mprint\u001b[39m(\u001b[38;5;124m\"\u001b[39m\u001b[38;5;124mSubtraction of two number is:\u001b[39m\u001b[38;5;124m\"\u001b[39m,\u001b[38;5;28mself\u001b[39m\u001b[38;5;241m.\u001b[39mminus)\n\u001b[1;32m---> 25\u001b[0m ob\u001b[38;5;241m=\u001b[39m\u001b[43mdisplay\u001b[49m\u001b[43m(\u001b[49m\u001b[43m)\u001b[49m\n\u001b[0;32m     26\u001b[0m \u001b[38;5;28mprint\u001b[39m(ob\u001b[38;5;241m.\u001b[39mcalculator)\n\u001b[0;32m     27\u001b[0m \u001b[38;5;28mprint\u001b[39m(ob\u001b[38;5;241m.\u001b[39madd)\n",
      "Cell \u001b[1;32mIn[12], line 21\u001b[0m, in \u001b[0;36mdisplay.__init__\u001b[1;34m(self)\u001b[0m\n\u001b[0;32m     20\u001b[0m \u001b[38;5;28;01mdef\u001b[39;00m \u001b[38;5;21m__init__\u001b[39m(\u001b[38;5;28mself\u001b[39m):\n\u001b[1;32m---> 21\u001b[0m     \u001b[38;5;28msuper\u001b[39m()\u001b[38;5;241m.\u001b[39m\u001b[38;5;21m__init__\u001b[39m(\u001b[43ma\u001b[49m,b)\n\u001b[0;32m     22\u001b[0m     \u001b[38;5;28mprint\u001b[39m(\u001b[38;5;124m\"\u001b[39m\u001b[38;5;124mAddition of two number is:\u001b[39m\u001b[38;5;124m\"\u001b[39m,\u001b[38;5;28mself\u001b[39m\u001b[38;5;241m.\u001b[39msum)\n\u001b[0;32m     23\u001b[0m     \u001b[38;5;28mprint\u001b[39m(\u001b[38;5;124m\"\u001b[39m\u001b[38;5;124mSubtraction of two number is:\u001b[39m\u001b[38;5;124m\"\u001b[39m,\u001b[38;5;28mself\u001b[39m\u001b[38;5;241m.\u001b[39mminus)\n",
      "\u001b[1;31mNameError\u001b[0m: name 'a' is not defined"
     ]
    }
   ],
   "source": [
    "class calculator:\n",
    "    def __init__(self,a,b):\n",
    "        print(\"Calculator starts here:\")\n",
    "        self.a=a\n",
    "        self.b=b\n",
    "\n",
    "class add(calculator):\n",
    "    def __init__(self,sum):\n",
    "        self.sum=sum\n",
    "        super().__init__(a,b)\n",
    "        self.sum=self.a+self.b\n",
    "\n",
    "class sub(calculator):\n",
    "    def __init__(self,minus):\n",
    "        self.minus=minus\n",
    "        super().__init__(a,b)\n",
    "        self.minus=self.a-self.b\n",
    "\n",
    "class display(add,sub):\n",
    "    def __init__(self):\n",
    "        super().__init__(a,b)\n",
    "        print(\"Addition of two number is:\",self.sum)\n",
    "        print(\"Subtraction of two number is:\",self.minus)\n",
    "\n",
    "ob=display()\n",
    "print(ob.calculator)\n",
    "print(ob.add)\n",
    "print(ob.sub)"
   ]
  },
  {
   "cell_type": "code",
   "execution_count": null,
   "id": "cd7e9b06-d173-4e9d-805d-109955750bba",
   "metadata": {},
   "outputs": [],
   "source": []
  }
 ],
 "metadata": {
  "kernelspec": {
   "display_name": "Python 3 (ipykernel)",
   "language": "python",
   "name": "python3"
  },
  "language_info": {
   "codemirror_mode": {
    "name": "ipython",
    "version": 3
   },
   "file_extension": ".py",
   "mimetype": "text/x-python",
   "name": "python",
   "nbconvert_exporter": "python",
   "pygments_lexer": "ipython3",
   "version": "3.11.5"
  }
 },
 "nbformat": 4,
 "nbformat_minor": 5
}
