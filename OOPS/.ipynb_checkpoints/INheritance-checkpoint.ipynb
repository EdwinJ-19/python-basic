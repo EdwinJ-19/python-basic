{
 "cells": [
  {
   "cell_type": "code",
   "execution_count": 1,
   "id": "8b4ef2fa-c9eb-4ab2-aa03-5401584ffb26",
   "metadata": {},
   "outputs": [
    {
     "name": "stdout",
     "output_type": "stream",
     "text": [
      "Parent class side\n",
      "Child class side\n"
     ]
    }
   ],
   "source": [
    "#single inheritance: when a child class inherits from only one parent class, it is called single inheritance.\n",
    "\n",
    "class Parent:\n",
    "    def show1(self):\n",
    "        print(\"Parent class side\")\n",
    "class Child(Parent):\n",
    "    def show2(self):\n",
    "        print(\"Child class side\")\n",
    "\n",
    "ob = Child()\n",
    "ob.show1()\n",
    "ob.show2()"
   ]
  },
  {
   "cell_type": "code",
   "execution_count": 7,
   "id": "50f33de0-855f-4576-a8d5-900eb528a77a",
   "metadata": {},
   "outputs": [
    {
     "name": "stdout",
     "output_type": "stream",
     "text": [
      "Mother of= Inka favourite bacha hu re\n",
      "Father of= Inka pata nhi \n"
     ]
    }
   ],
   "source": [
    "#multiple inheritance: when a child class inherits from multiple parent classes, it is class multiple inheritance.\n",
    "class Mother:\n",
    "    mothername=\" \"\n",
    "    def show1(self):\n",
    "        print(self.mother)\n",
    "class Father:\n",
    "    fathername=\" \"\n",
    "    def show2(self):\n",
    "        print(self.father)\n",
    "class Child(Mother,Father):\n",
    "    def show3(self):\n",
    "        print(\"Mother of=\",self.mother)\n",
    "        print(\"Father of=\",self.father)\n",
    "\n",
    "ob = Child()\n",
    "ob.mother=\"Inka favourite bacha hu re\"\n",
    "ob.father=\"Inka pata nhi \"\n",
    "ob.show3()"
   ]
  },
  {
   "cell_type": "code",
   "execution_count": 12,
   "id": "31a7530b-4190-4ade-9cf1-8576afa878e4",
   "metadata": {},
   "outputs": [
    {
     "name": "stdin",
     "output_type": "stream",
     "text": [
      "Enter the first number: 10\n",
      "Enter the second number: 20\n"
     ]
    },
    {
     "name": "stdout",
     "output_type": "stream",
     "text": [
      "Sum of two numbers: 30\n"
     ]
    }
   ],
   "source": [
    "#multilevel inheritance: features of the base class(father class) and the derived class(child class) are further inherited into the new derived class.\n",
    "class first:\n",
    "    def get(self):\n",
    "        self.a=int(input(\"Enter the first number:\"))\n",
    "        self.b=int(input(\"Enter the second number:\"))\n",
    "class second(first):\n",
    "    def add(self):\n",
    "        self.z=self.a + self.b\n",
    "class third(second):\n",
    "    def result(self):\n",
    "        print(\"Sum of two numbers:\",self.z)\n",
    "\n",
    "ob=third()\n",
    "ob.get()\n",
    "ob.add()\n",
    "ob.result()"
   ]
  },
  {
   "cell_type": "code",
   "execution_count": 18,
   "id": "c17e9cb7-26cc-4afe-bd2f-0aa898021331",
   "metadata": {},
   "outputs": [
    {
     "name": "stdin",
     "output_type": "stream",
     "text": [
      "Enter the first number: 10\n",
      "Enter the second number: 20\n"
     ]
    },
    {
     "name": "stdout",
     "output_type": "stream",
     "text": [
      "Sum of two numbers: 30\n"
     ]
    }
   ],
   "source": [
    "class first:\n",
    "    def get(self):\n",
    "        first.a=int(input(\"Enter the first number:\"))\n",
    "        first.b=int(input(\"Enter the second number:\"))\n",
    "class second(first):\n",
    "    def add(self):\n",
    "        second.z=first.a + first.b\n",
    "class third(second):\n",
    "    def result(self):\n",
    "        print(\"Sum of two numbers:\",second.z)\n",
    "\n",
    "ob=third()\n",
    "ob.get()\n",
    "ob.add()\n",
    "ob.result()"
   ]
  },
  {
   "cell_type": "code",
   "execution_count": 27,
   "id": "2f12f6eb-f9f9-4470-8afd-3e90e5e004de",
   "metadata": {},
   "outputs": [
    {
     "name": "stdin",
     "output_type": "stream",
     "text": [
      "Enter the value of first: 10\n",
      "Enter the value of second: 20\n"
     ]
    },
    {
     "name": "stdout",
     "output_type": "stream",
     "text": [
      "Addition of: 30\n",
      "Subtraction of:  -10\n",
      "Multiplication of: 200\n",
      "Modulos of: 10\n",
      "Division of: 0.5\n"
     ]
    }
   ],
   "source": [
    "#hierarchial inheritance: one common base class (parent class) and multiple derived class (child class)\n",
    "class first:\n",
    "    def get(self):\n",
    "        first.a=int(input(\"Enter the value of first:\"))\n",
    "        first.b=int(input(\"Enter the value of second:\"))\n",
    "class second(first):\n",
    "    def add(self):\n",
    "        second.c = first.a+first.b\n",
    "        print(\"Addition of:\",second.c)\n",
    "class third(first):\n",
    "    def sub(self):\n",
    "        third.c = first.a - first.b\n",
    "        print(\"Subtraction of: \",third.c)\n",
    "class fourth(first):\n",
    "    def multiply(self):\n",
    "        fourth.c= first.a * first.b\n",
    "        print(\"Multiplication of:\",fourth.c)\n",
    "class fifth(first):\n",
    "    def mod(self):\n",
    "        fifth.c= first.a % first.b\n",
    "        print(\"Modulos of:\",fifth.c)\n",
    "class sixth(first):\n",
    "    def division(self):\n",
    "        sixth.c= first.a / first.b\n",
    "        print(\"Division of:\",sixth.c)\n",
    "ob.get()\n",
    "ob1=second()\n",
    "ob1.add()\n",
    "ob2=third()\n",
    "ob2.sub()\n",
    "ob3=fourth()\n",
    "ob3.multiply()\n",
    "ob4=fifth()\n",
    "ob4.mod()\n",
    "ob5=sixth()\n",
    "ob5.division()"
   ]
  },
  {
   "cell_type": "code",
   "execution_count": 28,
   "id": "66eff47c-ad71-425d-ad0c-c976cecfcca2",
   "metadata": {},
   "outputs": [
    {
     "name": "stdout",
     "output_type": "stream",
     "text": [
      "My parent value\n",
      "My child value\n"
     ]
    }
   ],
   "source": [
    "#method overriding (polymorphism)\n",
    "class parent:\n",
    "    def __init__(self):\n",
    "        self.value = \"My parent value\"\n",
    "    def show(self):\n",
    "        print(self.value)\n",
    "class child(parent):\n",
    "    def __init__(self):\n",
    "        self.value = \"My child value\"\n",
    "    def show(self):\n",
    "        print(self.value)\n",
    "\n",
    "ob=parent()\n",
    "ob1=child()\n",
    "ob.show()\n",
    "ob1.show()"
   ]
  },
  {
   "cell_type": "code",
   "execution_count": null,
   "id": "7eafa670-cc55-4837-a58d-4d12e3f4538a",
   "metadata": {},
   "outputs": [],
   "source": []
  }
 ],
 "metadata": {
  "kernelspec": {
   "display_name": "Python 3 (ipykernel)",
   "language": "python",
   "name": "python3"
  },
  "language_info": {
   "codemirror_mode": {
    "name": "ipython",
    "version": 3
   },
   "file_extension": ".py",
   "mimetype": "text/x-python",
   "name": "python",
   "nbconvert_exporter": "python",
   "pygments_lexer": "ipython3",
   "version": "3.11.5"
  }
 },
 "nbformat": 4,
 "nbformat_minor": 5
}
