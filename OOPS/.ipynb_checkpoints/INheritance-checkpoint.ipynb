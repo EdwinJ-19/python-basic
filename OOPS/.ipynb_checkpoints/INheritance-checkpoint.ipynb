{
 "cells": [
  {
   "cell_type": "code",
   "execution_count": null,
   "id": "8b4ef2fa-c9eb-4ab2-aa03-5401584ffb26",
   "metadata": {},
   "outputs": [],
   "source": [
    "#single inheritance: when a child class inherits from only one parent class, it is called single inheritance.\n",
    "\n",
    "class Parent:\n",
    "    def show(self):\n",
    "        print(\"Parent class side\")\n",
    "class Child(Parent):\n",
    "    def show(self):\n",
    "        print(\"Child class side\")"
   ]
  }
 ],
 "metadata": {
  "kernelspec": {
   "display_name": "Python 3 (ipykernel)",
   "language": "python",
   "name": "python3"
  },
  "language_info": {
   "codemirror_mode": {
    "name": "ipython",
    "version": 3
   },
   "file_extension": ".py",
   "mimetype": "text/x-python",
   "name": "python",
   "nbconvert_exporter": "python",
   "pygments_lexer": "ipython3",
   "version": "3.11.5"
  }
 },
 "nbformat": 4,
 "nbformat_minor": 5
}
