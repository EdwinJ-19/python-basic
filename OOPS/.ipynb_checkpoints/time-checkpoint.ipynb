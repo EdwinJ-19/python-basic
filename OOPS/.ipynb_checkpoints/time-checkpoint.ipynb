{
 "cells": [
  {
   "cell_type": "code",
   "execution_count": 3,
   "id": "da63ec40-9478-4648-95a5-9ad68e6afb24",
   "metadata": {},
   "outputs": [],
   "source": [
    "from datetime import datetime,timedelta"
   ]
  },
  {
   "cell_type": "code",
   "execution_count": 4,
   "id": "adf9a791-0763-456d-8406-3e01fc0dce57",
   "metadata": {},
   "outputs": [
    {
     "name": "stdout",
     "output_type": "stream",
     "text": [
      "initial_date 2023-10-17 13:21:15.546206\n"
     ]
    }
   ],
   "source": [
    "ini_time_for_now = datetime.now()\n",
    "print(\"initial_date\",str(ini_time_for_now))"
   ]
  },
  {
   "cell_type": "code",
   "execution_count": 5,
   "id": "7345c2b1-67c8-4385-8558-983159f4f3f7",
   "metadata": {},
   "outputs": [
    {
     "name": "stdout",
     "output_type": "stream",
     "text": [
      "new_final_time 2023-10-19 13:21:15.546206\n"
     ]
    }
   ],
   "source": [
    "new_final_time = ini_time_for_now + timedelta(days=2)\n",
    "print(\"new_final_time\",str(new_final_time))"
   ]
  },
  {
   "cell_type": "code",
   "execution_count": 6,
   "id": "078a47cd-d319-4062-859d-f5d97ced4ab4",
   "metadata": {},
   "outputs": [
    {
     "name": "stdout",
     "output_type": "stream",
     "text": [
      "Time Difference 2 days, 0:00:00\n"
     ]
    }
   ],
   "source": [
    "print('Time Difference',str(new_final_time - ini_time_for_now))"
   ]
  },
  {
   "cell_type": "code",
   "execution_count": null,
   "id": "e62f3b2a-cdfa-4c2c-a7b2-fe86a37c135b",
   "metadata": {},
   "outputs": [],
   "source": []
  }
 ],
 "metadata": {
  "kernelspec": {
   "display_name": "Python 3 (ipykernel)",
   "language": "python",
   "name": "python3"
  },
  "language_info": {
   "codemirror_mode": {
    "name": "ipython",
    "version": 3
   },
   "file_extension": ".py",
   "mimetype": "text/x-python",
   "name": "python",
   "nbconvert_exporter": "python",
   "pygments_lexer": "ipython3",
   "version": "3.11.5"
  }
 },
 "nbformat": 4,
 "nbformat_minor": 5
}
