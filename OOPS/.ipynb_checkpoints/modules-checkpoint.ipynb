{
 "cells": [
  {
   "cell_type": "code",
   "execution_count": 1,
   "id": "422b8655-f3cc-420b-be7c-3faeceaa8375",
   "metadata": {},
   "outputs": [],
   "source": [
    "f = open(\"try.text\",\"w\")\n",
    "f.write(\"Elvish Bhai, Down to earth banda hai, DOWN TO EARTHHH\")\n",
    "f.close()"
   ]
  },
  {
   "cell_type": "code",
   "execution_count": 23,
   "id": "a25a0905-1b83-4818-80ef-8df95020dee2",
   "metadata": {},
   "outputs": [
    {
     "data": {
      "text/plain": [
       "'Elvish Bh'"
      ]
     },
     "execution_count": 23,
     "metadata": {},
     "output_type": "execute_result"
    }
   ],
   "source": [
    "f = open(\"try.text\",\"r\")\n",
    "f.read(9)"
   ]
  },
  {
   "cell_type": "code",
   "execution_count": 24,
   "id": "f1a666f2-26c8-4001-b556-fac028009caf",
   "metadata": {},
   "outputs": [
    {
     "data": {
      "text/plain": [
       "'ai, Down to earth ba'"
      ]
     },
     "execution_count": 24,
     "metadata": {},
     "output_type": "execute_result"
    }
   ],
   "source": [
    "f.read(20)"
   ]
  },
  {
   "cell_type": "code",
   "execution_count": 25,
   "id": "eb661c38-a413-4b89-aead-5c868a3d5fab",
   "metadata": {},
   "outputs": [
    {
     "data": {
      "text/plain": [
       "'nda h'"
      ]
     },
     "execution_count": 25,
     "metadata": {},
     "output_type": "execute_result"
    }
   ],
   "source": [
    "f.read(5)"
   ]
  },
  {
   "cell_type": "code",
   "execution_count": 26,
   "id": "70f4cb6e-75b6-4279-9193-8aa2ed5c17b9",
   "metadata": {},
   "outputs": [],
   "source": [
    "f.close()"
   ]
  },
  {
   "cell_type": "code",
   "execution_count": 30,
   "id": "c45a8ac6-f3e9-4fe7-af84-710f2402c8b6",
   "metadata": {},
   "outputs": [],
   "source": [
    "f = open(\"try.text\",\"a\")\n",
    "f.write(\"Jevlis ka?\")\n",
    "f.close()"
   ]
  },
  {
   "cell_type": "code",
   "execution_count": 10,
   "id": "e9087031-4c38-4aea-a22b-b3a12906bf2b",
   "metadata": {},
   "outputs": [
    {
     "data": {
      "text/plain": [
       "'Elvish Bhai, Down to earth banda hai, DOWN TO EARTHHHJevlis ka?Jevlis ka?Jevlis ka?  Jevlis ka?Kya bolte tuKya bolte tuKya bolte tuKya bolte tu'"
      ]
     },
     "execution_count": 10,
     "metadata": {},
     "output_type": "execute_result"
    }
   ],
   "source": [
    "#write a program to read a entire text file.\n",
    "f= open(\"try.text\",\"r\")\n",
    "f.readline()"
   ]
  },
  {
   "cell_type": "code",
   "execution_count": 9,
   "id": "def1ce3a-e284-41e8-b3d7-d66e184957d2",
   "metadata": {},
   "outputs": [],
   "source": [
    "f = open(\"try.text\",\"a\")\n",
    "f.write(\"Kya bolte tu\")\n",
    "f.close()"
   ]
  },
  {
   "cell_type": "code",
   "execution_count": 18,
   "id": "d039d80e-c33a-42e6-8940-c99fe71a60ba",
   "metadata": {},
   "outputs": [
    {
     "data": {
      "text/plain": [
       "'Elvish'"
      ]
     },
     "execution_count": 18,
     "metadata": {},
     "output_type": "execute_result"
    }
   ],
   "source": [
    "#wap to read first line of the file\n",
    "f = open(\"try.text\",\"r\")\n",
    "f.read(6)"
   ]
  },
  {
   "cell_type": "code",
   "execution_count": 35,
   "id": "5209aa08-5a57-4653-b5fe-5ee1631fd42a",
   "metadata": {},
   "outputs": [],
   "source": [
    "#wap to append to the file\n",
    "f = open(\"try.txt\",\"a\")\n",
    "f.write(\",jaa re \\ntu jhatu\")\n",
    "f.close()"
   ]
  },
  {
   "cell_type": "code",
   "execution_count": 36,
   "id": "fed63576-1131-4844-a5b9-2a4770cbf46d",
   "metadata": {},
   "outputs": [
    {
     "name": "stdout",
     "output_type": "stream",
     "text": [
      ",jaa re \n",
      "\n"
     ]
    }
   ],
   "source": [
    "f = open(\"try.txt\",\"r\")\n",
    "print(f.readline())\n",
    "f.close()"
   ]
  },
  {
   "cell_type": "code",
   "execution_count": null,
   "id": "82108e8a-33af-4c19-91e1-e2cac09bdda6",
   "metadata": {},
   "outputs": [],
   "source": []
  }
 ],
 "metadata": {
  "kernelspec": {
   "display_name": "Python 3 (ipykernel)",
   "language": "python",
   "name": "python3"
  },
  "language_info": {
   "codemirror_mode": {
    "name": "ipython",
    "version": 3
   },
   "file_extension": ".py",
   "mimetype": "text/x-python",
   "name": "python",
   "nbconvert_exporter": "python",
   "pygments_lexer": "ipython3",
   "version": "3.11.5"
  }
 },
 "nbformat": 4,
 "nbformat_minor": 5
}
