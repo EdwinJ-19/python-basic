{
 "cells": [
  {
   "cell_type": "code",
   "execution_count": 1,
   "id": "422b8655-f3cc-420b-be7c-3faeceaa8375",
   "metadata": {},
   "outputs": [],
   "source": [
    "f = open(\"try.text\",\"w\")\n",
    "f.write(\"Elvish Bhai, Down to earth banda hai, DOWN TO EARTHHH\")\n",
    "f.close()"
   ]
  },
  {
   "cell_type": "code",
   "execution_count": 23,
   "id": "a25a0905-1b83-4818-80ef-8df95020dee2",
   "metadata": {},
   "outputs": [
    {
     "data": {
      "text/plain": [
       "'Elvish Bh'"
      ]
     },
     "execution_count": 23,
     "metadata": {},
     "output_type": "execute_result"
    }
   ],
   "source": [
    "f = open(\"try.text\",\"r\")\n",
    "f.read(9)"
   ]
  },
  {
   "cell_type": "code",
   "execution_count": 24,
   "id": "f1a666f2-26c8-4001-b556-fac028009caf",
   "metadata": {},
   "outputs": [
    {
     "data": {
      "text/plain": [
       "'ai, Down to earth ba'"
      ]
     },
     "execution_count": 24,
     "metadata": {},
     "output_type": "execute_result"
    }
   ],
   "source": [
    "f.read(20)"
   ]
  },
  {
   "cell_type": "code",
   "execution_count": 25,
   "id": "eb661c38-a413-4b89-aead-5c868a3d5fab",
   "metadata": {},
   "outputs": [
    {
     "data": {
      "text/plain": [
       "'nda h'"
      ]
     },
     "execution_count": 25,
     "metadata": {},
     "output_type": "execute_result"
    }
   ],
   "source": [
    "f.read(5)"
   ]
  },
  {
   "cell_type": "code",
   "execution_count": 26,
   "id": "70f4cb6e-75b6-4279-9193-8aa2ed5c17b9",
   "metadata": {},
   "outputs": [],
   "source": [
    "f.close()"
   ]
  },
  {
   "cell_type": "code",
   "execution_count": 30,
   "id": "c45a8ac6-f3e9-4fe7-af84-710f2402c8b6",
   "metadata": {},
   "outputs": [],
   "source": [
    "f = open(\"try.text\",\"a\")\n",
    "f.write(\"Jevlis ka?\")\n",
    "f.close()"
   ]
  },
  {
   "cell_type": "code",
   "execution_count": null,
   "id": "e9087031-4c38-4aea-a22b-b3a12906bf2b",
   "metadata": {},
   "outputs": [],
   "source": []
  }
 ],
 "metadata": {
  "kernelspec": {
   "display_name": "Python 3 (ipykernel)",
   "language": "python",
   "name": "python3"
  },
  "language_info": {
   "codemirror_mode": {
    "name": "ipython",
    "version": 3
   },
   "file_extension": ".py",
   "mimetype": "text/x-python",
   "name": "python",
   "nbconvert_exporter": "python",
   "pygments_lexer": "ipython3",
   "version": "3.11.5"
  }
 },
 "nbformat": 4,
 "nbformat_minor": 5
}
