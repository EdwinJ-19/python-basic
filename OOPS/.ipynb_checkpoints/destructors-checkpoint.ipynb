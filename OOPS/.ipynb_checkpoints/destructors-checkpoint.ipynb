{
 "cells": [
  {
   "cell_type": "code",
   "execution_count": 1,
   "id": "72edb0dd-3957-488a-8d13-35035e7a77d5",
   "metadata": {},
   "outputs": [],
   "source": [
    "class bank:\n",
    "    def __init__(self,id,name,account,branch):\n",
    "        self.id=id\n",
    "        self.name=name\n",
    "        self.account=account\n",
    "        self.branch=branch\n",
    "    def disp(self):\n",
    "        print(\"ID: %d\\n name: %s\\n account: %r\\n branch: %s\\n\"%(self.id,self.name,self.account,self.branch))\n",
    "\n",
    "bank1=bank(1,\"Edwin\",876543,\"SBI Kharghar\")\n",
    "bank2=bank(2,\"Megha\",898762,\"HDFC Vashi\")\n",
    "bank3=bank(3,\"Sairaj\",345678,\"PNB Punjab\")"
   ]
  },
  {
   "cell_type": "code",
   "execution_count": 2,
   "id": "162d833c-5512-46ad-92bd-c3da7481d08e",
   "metadata": {},
   "outputs": [
    {
     "name": "stdout",
     "output_type": "stream",
     "text": [
      "ID: 1\n",
      " name: Edwin\n",
      " account: 876543\n",
      " branch: SBI Kharghar\n",
      "\n"
     ]
    }
   ],
   "source": [
    "bank1.disp()"
   ]
  },
  {
   "cell_type": "code",
   "execution_count": 3,
   "id": "c3bf2928-9eff-4049-bdc6-8859e6add3c3",
   "metadata": {},
   "outputs": [],
   "source": [
    "del bank1"
   ]
  },
  {
   "cell_type": "code",
   "execution_count": 5,
   "id": "8a7d61fd-a538-4196-ae14-597c84a869e3",
   "metadata": {},
   "outputs": [
    {
     "name": "stdout",
     "output_type": "stream",
     "text": [
      "ID: 2\n",
      " name: Megha\n",
      " account: 898762\n",
      " branch: HDFC Vashi\n",
      "\n"
     ]
    }
   ],
   "source": [
    "bank2.disp()"
   ]
  },
  {
   "cell_type": "code",
   "execution_count": null,
   "id": "4e6326bd-845b-416b-b748-726a434ec655",
   "metadata": {},
   "outputs": [],
   "source": []
  }
 ],
 "metadata": {
  "kernelspec": {
   "display_name": "Python 3 (ipykernel)",
   "language": "python",
   "name": "python3"
  },
  "language_info": {
   "codemirror_mode": {
    "name": "ipython",
    "version": 3
   },
   "file_extension": ".py",
   "mimetype": "text/x-python",
   "name": "python",
   "nbconvert_exporter": "python",
   "pygments_lexer": "ipython3",
   "version": "3.11.5"
  }
 },
 "nbformat": 4,
 "nbformat_minor": 5
}
