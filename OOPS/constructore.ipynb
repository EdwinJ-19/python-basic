{
 "cells": [
  {
   "cell_type": "code",
   "execution_count": 6,
   "id": "c0b3d9cd-fef1-42ea-aee9-c768e9d3944d",
   "metadata": {},
   "outputs": [
    {
     "name": "stdout",
     "output_type": "stream",
     "text": [
      "First number100\n",
      "Second number200\n",
      "Addition of two number:300\n"
     ]
    }
   ],
   "source": [
    "class Addition:\n",
    "    f=0\n",
    "    s=0\n",
    "    a=0\n",
    "    def __init__(self,f1,s1):\n",
    "        self.f=f1\n",
    "        self.s=s1\n",
    "    def display(self):\n",
    "        print(\"First number\"+str(self.f))\n",
    "        print(\"Second number\"+str(self.s))\n",
    "        print(\"Addition of two number:\"+str(self.a))\n",
    "    def calc(self):\n",
    "        self.a=self.f+self.s\n",
    "obj=Addition(100,200)\n",
    "obj.calc()\n",
    "obj.display()"
   ]
  },
  {
   "cell_type": "code",
   "execution_count": 13,
   "id": "695d509c-6e44-4d69-b39a-62752e296584",
   "metadata": {},
   "outputs": [
    {
     "name": "stdout",
     "output_type": "stream",
     "text": [
      "A grade\n"
     ]
    }
   ],
   "source": [
    "class student:\n",
    "    def __init__(self,a1):\n",
    "        self.a=a1\n",
    "    def display(self):\n",
    "        if(self.a>90):\n",
    "            print(\"A grade\")\n",
    "        else:\n",
    "            print(\"Fail\")\n",
    "obj=student(100)\n",
    "obj.display()"
   ]
  },
  {
   "cell_type": "code",
   "execution_count": 9,
   "id": "90af54f6-9979-4ef8-bd8a-e69b0242526b",
   "metadata": {},
   "outputs": [
    {
     "name": "stdout",
     "output_type": "stream",
     "text": [
      "ID: 1\n",
      " name: Edwin\n",
      "\n"
     ]
    }
   ],
   "source": [
    "emp1.disp()"
   ]
  },
  {
   "cell_type": "code",
   "execution_count": 14,
   "id": "eef8617b-94b7-49ee-a724-10c5c2d64777",
   "metadata": {},
   "outputs": [
    {
     "name": "stdout",
     "output_type": "stream",
     "text": [
      "ID: 2\n",
      " name: Megha\n",
      "\n"
     ]
    }
   ],
   "source": [
    "emp2.disp()"
   ]
  },
  {
   "cell_type": "code",
   "execution_count": 15,
   "id": "ce04b5d5-d16d-483b-b025-264c743f18f8",
   "metadata": {},
   "outputs": [
    {
     "name": "stdout",
     "output_type": "stream",
     "text": [
      "ID: 3\n",
      " name: Om\n",
      "\n"
     ]
    }
   ],
   "source": [
    "emp3.disp()"
   ]
  },
  {
   "cell_type": "code",
   "execution_count": 18,
   "id": "f0f7c030-0ee8-4ed6-a7b4-5711a1847316",
   "metadata": {},
   "outputs": [
    {
     "name": "stdout",
     "output_type": "stream",
     "text": [
      "Total number of students: 27\n"
     ]
    }
   ],
   "source": [
    "class student:\n",
    "    count=0\n",
    "    def __init__(self):\n",
    "        student.count=student.count+1\n",
    "s1=student()\n",
    "s2=student()\n",
    "s3=student()\n",
    "s1=student()\n",
    "s2=student()\n",
    "s3=student()\n",
    "s1=student()\n",
    "s2=student()\n",
    "s3=student()\n",
    "s1=student()\n",
    "s2=student()\n",
    "s3=student()\n",
    "s1=student()\n",
    "s2=student()\n",
    "s3=student()\n",
    "s1=student()\n",
    "s2=student()\n",
    "s3=student()\n",
    "s1=student()\n",
    "s2=student()\n",
    "s3=student()\n",
    "s1=student()\n",
    "s2=student()\n",
    "s3=student()\n",
    "s1=student()\n",
    "s2=student()\n",
    "s3=student()\n",
    "print(\"Total number of students:\",student.count)"
   ]
  },
  {
   "cell_type": "code",
   "execution_count": 19,
   "id": "ef734f62-4554-4e1c-b3a8-206bfa4177fb",
   "metadata": {},
   "outputs": [
    {
     "name": "stdout",
     "output_type": "stream",
     "text": [
      "Second Constructor\n"
     ]
    }
   ],
   "source": [
    "class Student():\n",
    "    def __init__(self):\n",
    "        print(\"First Constructor\")\n",
    "    def __init__(self):\n",
    "        print(\"Second Constructor\")\n",
    "\n",
    "ob = Student()"
   ]
  },
  {
   "cell_type": "code",
   "execution_count": 8,
   "id": "e5c94bf8-32e9-45b5-90a5-01c8ff148620",
   "metadata": {},
   "outputs": [],
   "source": [
    "class emp:\n",
    "    def __init__(self,name,eid):\n",
    "        self.eid=eid\n",
    "        self.name=name\n",
    "    def disp(self):\n",
    "        print(\"ID: %d\\n name: %s\\n\"%(self.eid,self.name))\n",
    "emp1=emp(\"Edwin\",1)\n",
    "emp2=emp(\"Megha\",2)\n",
    "emp3=emp(\"Om\",3)"
   ]
  },
  {
   "cell_type": "code",
   "execution_count": 20,
   "id": "0777a9a0-45a3-4508-90df-ac1e2240c92c",
   "metadata": {},
   "outputs": [
    {
     "ename": "TypeError",
     "evalue": "emp.__init__() takes 3 positional arguments but 6 were given",
     "output_type": "error",
     "traceback": [
      "\u001b[1;31m---------------------------------------------------------------------------\u001b[0m",
      "\u001b[1;31mTypeError\u001b[0m                                 Traceback (most recent call last)",
      "Cell \u001b[1;32mIn[20], line 10\u001b[0m\n\u001b[0;32m      8\u001b[0m     \u001b[38;5;28;01mdef\u001b[39;00m \u001b[38;5;21mdisp\u001b[39m(\u001b[38;5;28mself\u001b[39m):\n\u001b[0;32m      9\u001b[0m         \u001b[38;5;28mprint\u001b[39m(\u001b[38;5;124m\"\u001b[39m\u001b[38;5;124mID: \u001b[39m\u001b[38;5;132;01m%d\u001b[39;00m\u001b[38;5;130;01m\\n\u001b[39;00m\u001b[38;5;124m name: \u001b[39m\u001b[38;5;132;01m%s\u001b[39;00m\u001b[38;5;130;01m\\n\u001b[39;00m\u001b[38;5;124m rollnumber: \u001b[39m\u001b[38;5;132;01m%r\u001b[39;00m\u001b[38;5;130;01m\\n\u001b[39;00m\u001b[38;5;124m address: \u001b[39m\u001b[38;5;132;01m%a\u001b[39;00m\u001b[38;5;130;01m\\n\u001b[39;00m\u001b[38;5;124m grade \u001b[39m\u001b[38;5;132;01m%g\u001b[39;00m\u001b[38;5;130;01m\\n\u001b[39;00m\u001b[38;5;124m\"\u001b[39m\u001b[38;5;241m%\u001b[39m(\u001b[38;5;28mself\u001b[39m\u001b[38;5;241m.\u001b[39msid,\u001b[38;5;28mself\u001b[39m\u001b[38;5;241m.\u001b[39msname,\u001b[38;5;28mself\u001b[39m\u001b[38;5;241m.\u001b[39msrollnum,\u001b[38;5;28mself\u001b[39m\u001b[38;5;241m.\u001b[39msadd,\u001b[38;5;28mself\u001b[39m\u001b[38;5;241m.\u001b[39msgrade))\n\u001b[1;32m---> 10\u001b[0m emp1\u001b[38;5;241m=\u001b[39m\u001b[43memp\u001b[49m\u001b[43m(\u001b[49m\u001b[38;5;241;43m1\u001b[39;49m\u001b[43m,\u001b[49m\u001b[38;5;124;43m\"\u001b[39;49m\u001b[38;5;124;43mEdwin\u001b[39;49m\u001b[38;5;124;43m\"\u001b[39;49m\u001b[43m,\u001b[49m\u001b[38;5;241;43m19\u001b[39;49m\u001b[43m,\u001b[49m\u001b[38;5;124;43m\"\u001b[39;49m\u001b[38;5;124;43mMumbai\u001b[39;49m\u001b[38;5;124;43m\"\u001b[39;49m\u001b[43m,\u001b[49m\u001b[38;5;124;43m\"\u001b[39;49m\u001b[38;5;124;43mC Grade\u001b[39;49m\u001b[38;5;124;43m\"\u001b[39;49m\u001b[43m)\u001b[49m\n",
      "\u001b[1;31mTypeError\u001b[0m: emp.__init__() takes 3 positional arguments but 6 were given"
     ]
    }
   ],
   "source": [
    "class student:\n",
    "    def __init__(self,sid,sname,srollnum,sadd,sgrade):\n",
    "        self.sid=sid\n",
    "        self.sname=sname\n",
    "        self.srollnum=srollnum\n",
    "        self.sadd=sadd\n",
    "        self.sgrade=sgrade\n",
    "    def disp(self):\n",
    "        print(\"ID: %d\\n name: %s\\n rollnumber: %r\\n address: %a\\n grade %g\\n\"%(self.sid,self.sname,self.srollnum,self.sadd,self.sgrade))\n",
    "emp1=emp(1,\"Edwin\",19,\"Mumbai\",\"C Grade\")"
   ]
  },
  {
   "cell_type": "code",
   "execution_count": null,
   "id": "5b49afc6-c023-41b6-a0ef-17d0d68d836c",
   "metadata": {},
   "outputs": [],
   "source": []
  }
 ],
 "metadata": {
  "kernelspec": {
   "display_name": "Python 3 (ipykernel)",
   "language": "python",
   "name": "python3"
  },
  "language_info": {
   "codemirror_mode": {
    "name": "ipython",
    "version": 3
   },
   "file_extension": ".py",
   "mimetype": "text/x-python",
   "name": "python",
   "nbconvert_exporter": "python",
   "pygments_lexer": "ipython3",
   "version": "3.11.5"
  }
 },
 "nbformat": 4,
 "nbformat_minor": 5
}
