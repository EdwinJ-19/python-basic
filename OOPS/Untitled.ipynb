{
 "cells": [
  {
   "cell_type": "code",
   "execution_count": 16,
   "id": "32097c29-b43c-4db7-b8f4-cb42578dc43f",
   "metadata": {},
   "outputs": [
    {
     "name": "stdout",
     "output_type": "stream",
     "text": [
      "Hello How are you Edwin , What is your age? 20 , You born in? 19-06-2023\n"
     ]
    },
    {
     "data": {
      "text/plain": [
       "<__main__.student at 0x2b0b3511e90>"
      ]
     },
     "execution_count": 16,
     "metadata": {},
     "output_type": "execute_result"
    }
   ],
   "source": [
    "class student:\n",
    "    name=\"Edwin\"\n",
    "    age=20\n",
    "    dob=\"19-06-2023\"\n",
    "    print(\"Hello How are you\",name,\", What is your age?\",age,\", You born in?\",dob)\n",
    "\n",
    "student()"
   ]
  },
  {
   "cell_type": "code",
   "execution_count": 17,
   "id": "225fe5f6-7991-419c-9e0e-f7130caca2a0",
   "metadata": {},
   "outputs": [
    {
     "name": "stdout",
     "output_type": "stream",
     "text": [
      "Hello How are you Edwin , What is your age? 18 , You born in? 25-06-2005\n"
     ]
    }
   ],
   "source": [
    "class student:   # \".\" referred as dot references operator\n",
    "    name=\"Edwin\"   #attributes\n",
    "    age=22\n",
    "    dob=\"19-06-2001\"\n",
    "    def display(self):    #method\n",
    "        name = \"Jackass\"\n",
    "        age = 18\n",
    "        dob = \"25-06-2005\"\n",
    "        print(\"Hello How are you\",student.name,\", What is your age?\",age,\", You born in?\",dob)  #student.name means the name belongs to student variables. \n",
    "ob = student()\n",
    "ob.display()"
   ]
  },
  {
   "cell_type": "code",
   "execution_count": 20,
   "id": "584f16b2-54ab-406e-93e3-9c095ee70c3d",
   "metadata": {},
   "outputs": [
    {
     "name": "stdout",
     "output_type": "stream",
     "text": [
      "Sum of the two values is 55\n"
     ]
    }
   ],
   "source": [
    "class add():\n",
    "    a = 20\n",
    "    b = 35\n",
    "    def sum(self):\n",
    "        c = add.a + add.b\n",
    "        print(\"Sum of the two values is\",c);\n",
    "ob = add()\n",
    "ob.sum()"
   ]
  },
  {
   "cell_type": "code",
   "execution_count": 21,
   "id": "a2eb1c59-8094-4482-8958-586621be86ca",
   "metadata": {},
   "outputs": [
    {
     "name": "stdout",
     "output_type": "stream",
     "text": [
      "Power of a values: 8000\n"
     ]
    }
   ],
   "source": [
    "class power():\n",
    "    a = 20\n",
    "    b = 3\n",
    "    def pow(self):\n",
    "        c = power.a**power.b\n",
    "        print(\"Power of a values:\",c)\n",
    "ob = power()\n",
    "ob.pow()"
   ]
  },
  {
   "cell_type": "code",
   "execution_count": 26,
   "id": "73e1b405-710e-4436-8882-04d445371cd4",
   "metadata": {},
   "outputs": [
    {
     "name": "stdout",
     "output_type": "stream",
     "text": [
      "Modulos of two values is  30\n"
     ]
    }
   ],
   "source": [
    "class mod():\n",
    "    a = 100\n",
    "    b = 35\n",
    "    def modulo(self):\n",
    "        c = mod.a % mod.b\n",
    "        print(\"Modulos of two values is \",c)\n",
    "ob = mod()\n",
    "ob.modulo()"
   ]
  },
  {
   "cell_type": "code",
   "execution_count": 29,
   "id": "0ddf2d84-fe1f-40c5-b9be-861d6372d2a1",
   "metadata": {},
   "outputs": [
    {
     "data": {
      "text/plain": [
       "'my name is Edwin and my age is 22 years old.'"
      ]
     },
     "execution_count": 29,
     "metadata": {},
     "output_type": "execute_result"
    }
   ],
   "source": [
    "class student():   # \".\" referred as dot references operator\n",
    "    name=\"Edwin\"   #attributes\n",
    "    age=22\n",
    "    dob=\"19-06-2001\"\n",
    "    def display(ob):    #method\n",
    "        name = \"Jackass\"\n",
    "        age = 18\n",
    "        dob = \"25-06-2005\"\n",
    "        return f\"my name is {ob.name} and my age is {ob.age} years old.\"  #student.name means the name belongs to student variables. \n",
    "ob=student()\n",
    "ob.display()"
   ]
  },
  {
   "cell_type": "code",
   "execution_count": 30,
   "id": "91d40a6f-fc4e-43a7-9a6b-c640a257efe1",
   "metadata": {},
   "outputs": [
    {
     "data": {
      "text/plain": [
       "'my name is Edwin and my age is 22 years old.'"
      ]
     },
     "execution_count": 30,
     "metadata": {},
     "output_type": "execute_result"
    }
   ],
   "source": [
    "ob1=student()\n",
    "ob1.display()"
   ]
  },
  {
   "cell_type": "code",
   "execution_count": null,
   "id": "d1be31a7-793c-4193-b074-d557f123734f",
   "metadata": {},
   "outputs": [],
   "source": []
  }
 ],
 "metadata": {
  "kernelspec": {
   "display_name": "Python 3 (ipykernel)",
   "language": "python",
   "name": "python3"
  },
  "language_info": {
   "codemirror_mode": {
    "name": "ipython",
    "version": 3
   },
   "file_extension": ".py",
   "mimetype": "text/x-python",
   "name": "python",
   "nbconvert_exporter": "python",
   "pygments_lexer": "ipython3",
   "version": "3.11.5"
  }
 },
 "nbformat": 4,
 "nbformat_minor": 5
}
