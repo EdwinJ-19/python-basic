{
 "cells": [
  {
   "cell_type": "code",
   "execution_count": 1,
   "id": "b4861ea6-219a-42eb-b04a-31df531139ce",
   "metadata": {},
   "outputs": [
    {
     "name": "stdout",
     "output_type": "stream",
     "text": [
      "Total Marks in Maths: 60\n",
      "Total Marks in Science: 55\n",
      "Total Marks in English: 87\n"
     ]
    }
   ],
   "source": [
    "class Marks:\n",
    "    @staticmethod\n",
    "    def Math_num(a,b):\n",
    "        return a+b\n",
    "\n",
    "    @staticmethod\n",
    "    def Sci_num(a,b):\n",
    "        return a+b\n",
    "\n",
    "    @staticmethod\n",
    "    def English_num(a,b):\n",
    "        return a+b\n",
    "\n",
    "print(\"Total Marks in Maths:\", Marks.Math_num(30,30))\n",
    "print(\"Total Marks in Science:\", Marks.Sci_num(25,30))\n",
    "print(\"Total Marks in English:\", Marks.English_num(50,37))"
   ]
  },
  {
   "cell_type": "code",
   "execution_count": null,
   "id": "8fa3d3dc-66a7-4417-8ba7-e0b4e11300d2",
   "metadata": {},
   "outputs": [],
   "source": []
  }
 ],
 "metadata": {
  "kernelspec": {
   "display_name": "Python 3 (ipykernel)",
   "language": "python",
   "name": "python3"
  },
  "language_info": {
   "codemirror_mode": {
    "name": "ipython",
    "version": 3
   },
   "file_extension": ".py",
   "mimetype": "text/x-python",
   "name": "python",
   "nbconvert_exporter": "python",
   "pygments_lexer": "ipython3",
   "version": "3.11.5"
  }
 },
 "nbformat": 4,
 "nbformat_minor": 5
}
