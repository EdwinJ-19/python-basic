{
 "cells": [
  {
   "cell_type": "code",
   "execution_count": 5,
   "id": "f6d43928-8491-4515-a418-d20441d43ff7",
   "metadata": {},
   "outputs": [
    {
     "name": "stdin",
     "output_type": "stream",
     "text": [
      "Enter the value of num1 30\n",
      "Enter the value of num2 20\n"
     ]
    },
    {
     "name": "stdout",
     "output_type": "stream",
     "text": [
      "The result is 600\n"
     ]
    }
   ],
   "source": [
    "num1 = int(input(\"Enter the value of num1\"))\n",
    "num2 = int(input(\"Enter the value of num2\"))\n",
    "sum = num1 + num2\n",
    "prod = num1 * num2\n",
    "if(prod <=1000):\n",
    "    print(\"The result is\", prod)\n",
    "else:\n",
    "    print(\"The result is\", sum)"
   ]
  },
  {
   "cell_type": "code",
   "execution_count": null,
   "id": "4c867d16-b34d-40ac-9506-fae79fdad988",
   "metadata": {},
   "outputs": [],
   "source": [
    "for sum in range(10):\n",
    "    "
   ]
  }
 ],
 "metadata": {
  "kernelspec": {
   "display_name": "Python 3 (ipykernel)",
   "language": "python",
   "name": "python3"
  },
  "language_info": {
   "codemirror_mode": {
    "name": "ipython",
    "version": 3
   },
   "file_extension": ".py",
   "mimetype": "text/x-python",
   "name": "python",
   "nbconvert_exporter": "python",
   "pygments_lexer": "ipython3",
   "version": "3.11.5"
  }
 },
 "nbformat": 4,
 "nbformat_minor": 5
}
