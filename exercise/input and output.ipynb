{
 "cells": [
  {
   "cell_type": "code",
   "execution_count": 1,
   "id": "d58642e9-717a-4568-ab3a-b067a2f931ba",
   "metadata": {},
   "outputs": [
    {
     "name": "stdin",
     "output_type": "stream",
     "text": [
      "Enter A values: 10\n",
      "Enter B values: 20\n"
     ]
    },
    {
     "name": "stdout",
     "output_type": "stream",
     "text": [
      "200\n"
     ]
    }
   ],
   "source": [
    "a = int(input(\"Enter A values:\"))\n",
    "b = int(input(\"Enter B values:\"))\n",
    "c = a*b \n",
    "print(c)"
   ]
  },
  {
   "cell_type": "code",
   "execution_count": 6,
   "id": "c092f704-9b6e-4674-b447-7fd0154facc3",
   "metadata": {},
   "outputs": [
    {
     "name": "stdout",
     "output_type": "stream",
     "text": [
      "Name**Is**James\n"
     ]
    }
   ],
   "source": [
    "print(\"Name\",\"Is\",\"James\",sep=\"**\")"
   ]
  },
  {
   "cell_type": "code",
   "execution_count": 15,
   "id": "268bf0a1-74eb-4cd7-ad39-cd5e0dccfecf",
   "metadata": {},
   "outputs": [
    {
     "name": "stdout",
     "output_type": "stream",
     "text": [
      "0o10\n"
     ]
    }
   ],
   "source": [
    "a = 8\n",
    "print(oct(a))"
   ]
  },
  {
   "cell_type": "code",
   "execution_count": 19,
   "id": "7416593c-57fa-42f9-bfcf-ed342f984e3e",
   "metadata": {},
   "outputs": [
    {
     "name": "stdout",
     "output_type": "stream",
     "text": [
      "458.54\n"
     ]
    }
   ],
   "source": [
    "num = 458.541315\n",
    "print('%.2f' %num)"
   ]
  },
  {
   "cell_type": "code",
   "execution_count": null,
   "id": "d7f45082-7a4c-47cd-8d46-df17e7f11562",
   "metadata": {},
   "outputs": [],
   "source": []
  }
 ],
 "metadata": {
  "kernelspec": {
   "display_name": "Python 3 (ipykernel)",
   "language": "python",
   "name": "python3"
  },
  "language_info": {
   "codemirror_mode": {
    "name": "ipython",
    "version": 3
   },
   "file_extension": ".py",
   "mimetype": "text/x-python",
   "name": "python",
   "nbconvert_exporter": "python",
   "pygments_lexer": "ipython3",
   "version": "3.11.5"
  }
 },
 "nbformat": 4,
 "nbformat_minor": 5
}
