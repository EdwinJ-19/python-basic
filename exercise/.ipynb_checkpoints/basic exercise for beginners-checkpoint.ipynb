{
 "cells": [
  {
   "cell_type": "code",
   "execution_count": null,
   "id": "7df71af0-0fac-4244-9c3c-a3d526f6b7fb",
   "metadata": {},
   "outputs": [],
   "source": [
    "num1 = int(input(\"Enter the value of num1\"))\n",
    "num2 = int(input(\"Enter the value of num2\"))\n",
    "if()"
   ]
  }
 ],
 "metadata": {
  "kernelspec": {
   "display_name": "Python 3 (ipykernel)",
   "language": "python",
   "name": "python3"
  },
  "language_info": {
   "codemirror_mode": {
    "name": "ipython",
    "version": 3
   },
   "file_extension": ".py",
   "mimetype": "text/x-python",
   "name": "python",
   "nbconvert_exporter": "python",
   "pygments_lexer": "ipython3",
   "version": "3.11.5"
  }
 },
 "nbformat": 4,
 "nbformat_minor": 5
}
