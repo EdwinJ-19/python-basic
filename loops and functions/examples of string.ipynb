{
 "cells": [
  {
   "cell_type": "code",
   "execution_count": 1,
   "id": "69a4f3f9-6971-49a2-b6a6-f556ff23dc25",
   "metadata": {},
   "outputs": [
    {
     "name": "stdout",
     "output_type": "stream",
     "text": [
      "Addition of  10 2 is 12\n",
      "Addition of x and y is z\n",
      "Addition of 10 and 2 is 12\n"
     ]
    }
   ],
   "source": [
    "#format()\n",
    "x=10\n",
    "y=2\n",
    "z=x+y\n",
    "print(\"Addition of \",x,y,\"is\",z)\n",
    "print(\"Addition of x and y is z\")\n",
    "str1=\"Addition of {} and {} is {}\"\n",
    "str2=str1.format(x,y,z)\n",
    "print(str2)"
   ]
  },
  {
   "cell_type": "code",
   "execution_count": 1,
   "id": "5cee0a05-bb40-4dd8-873f-4fc7a9f1e080",
   "metadata": {},
   "outputs": [
    {
     "data": {
      "text/plain": [
       "[1, 'a', 2.3, '4', True]"
      ]
     },
     "execution_count": 1,
     "metadata": {},
     "output_type": "execute_result"
    }
   ],
   "source": [
    "ls=[1,\"a\",2.3,\"4\",True]\n",
    "ls"
   ]
  },
  {
   "cell_type": "code",
   "execution_count": 2,
   "id": "5c16f8e6-a244-4cb8-8579-7d86221d2c2c",
   "metadata": {},
   "outputs": [
    {
     "name": "stdout",
     "output_type": "stream",
     "text": [
      "<class 'list'>\n"
     ]
    }
   ],
   "source": [
    "print(type(ls))"
   ]
  },
  {
   "cell_type": "code",
   "execution_count": 3,
   "id": "58cb4ede-8506-47ae-beb5-ec3f78c52ae8",
   "metadata": {},
   "outputs": [
    {
     "data": {
      "text/plain": [
       "str"
      ]
     },
     "execution_count": 3,
     "metadata": {},
     "output_type": "execute_result"
    }
   ],
   "source": [
    "type(ls[1])"
   ]
  },
  {
   "cell_type": "code",
   "execution_count": 4,
   "id": "13ff566b-27ee-4fa4-80f0-ca5212968079",
   "metadata": {},
   "outputs": [
    {
     "data": {
      "text/plain": [
       "float"
      ]
     },
     "execution_count": 4,
     "metadata": {},
     "output_type": "execute_result"
    }
   ],
   "source": [
    "type(ls[2])"
   ]
  },
  {
   "cell_type": "code",
   "execution_count": 5,
   "id": "02be6060-d9ac-461d-822f-90338d8f12ae",
   "metadata": {},
   "outputs": [
    {
     "data": {
      "text/plain": [
       "str"
      ]
     },
     "execution_count": 5,
     "metadata": {},
     "output_type": "execute_result"
    }
   ],
   "source": [
    "type(ls[3])"
   ]
  },
  {
   "cell_type": "code",
   "execution_count": 6,
   "id": "9ef2ebc3-a264-420b-b614-075f1bd29436",
   "metadata": {},
   "outputs": [
    {
     "data": {
      "text/plain": [
       "bool"
      ]
     },
     "execution_count": 6,
     "metadata": {},
     "output_type": "execute_result"
    }
   ],
   "source": [
    "type(ls[4])"
   ]
  },
  {
   "cell_type": "code",
   "execution_count": 11,
   "id": "0e100717-beea-4d84-b548-e9e2b3817729",
   "metadata": {},
   "outputs": [
    {
     "name": "stdout",
     "output_type": "stream",
     "text": [
      "[]\n",
      "[1, 'Hello', 3.4]\n"
     ]
    },
    {
     "ename": "TypeError",
     "evalue": "'int' object is not iterable",
     "output_type": "error",
     "traceback": [
      "\u001b[1;31m---------------------------------------------------------------------------\u001b[0m",
      "\u001b[1;31mTypeError\u001b[0m                                 Traceback (most recent call last)",
      "Cell \u001b[1;32mIn[11], line 7\u001b[0m\n\u001b[0;32m      4\u001b[0m \u001b[38;5;28mprint\u001b[39m(l_2)\n\u001b[0;32m      6\u001b[0m a\u001b[38;5;241m=\u001b[39m\u001b[38;5;241m34\u001b[39m\n\u001b[1;32m----> 7\u001b[0m l_3\u001b[38;5;241m=\u001b[39m\u001b[38;5;28;43mlist\u001b[39;49m\u001b[43m(\u001b[49m\u001b[43ma\u001b[49m\u001b[43m)\u001b[49m\n\u001b[0;32m      8\u001b[0m \u001b[38;5;28mprint\u001b[39m(l_3)\n",
      "\u001b[1;31mTypeError\u001b[0m: 'int' object is not iterable"
     ]
    }
   ],
   "source": [
    "l=[]\n",
    "print(l)\n",
    "l_2=[1,\"Hello\",3.4]\n",
    "print(l_2)\n",
    "\n",
    "a=34\n",
    "l_3=list(a)\n",
    "print(l_3)"
   ]
  },
  {
   "cell_type": "code",
   "execution_count": 16,
   "id": "3c2a0899-30cf-4a33-bbdd-ad33e68b2d00",
   "metadata": {},
   "outputs": [
    {
     "data": {
      "text/plain": [
       "[1, 2, 3, 3, 4, 5, 4, 5, 6, 7, 8, 9]"
      ]
     },
     "execution_count": 16,
     "metadata": {},
     "output_type": "execute_result"
    }
   ],
   "source": [
    "nl_1=[1,2,3,3,4,5,4,5,6,7,8,9]\n",
    "nl_1"
   ]
  },
  {
   "cell_type": "code",
   "execution_count": 27,
   "id": "a75fc2c1-69ba-4e8f-8627-dfaa2b92d6a6",
   "metadata": {},
   "outputs": [
    {
     "name": "stdout",
     "output_type": "stream",
     "text": [
      "mouse\n",
      "[8, 4, 6, [2, 3, [4, 5, 6]]]\n",
      "[2, 3, [4, 5, 6]]\n",
      "[4, 5, 6]\n",
      "6\n",
      "6\n",
      "['a']\n"
     ]
    }
   ],
   "source": [
    "#nested list\n",
    "l_n = [\"mouse\",[8,4,6,[2,3,[4,5,6]]],['a']]\n",
    "\n",
    "print(l_n[0])\n",
    "print(l_n[1])\n",
    "print(l_n[1][3])\n",
    "print(l_n[1][3][2])\n",
    "print(l_n[1][3][2][2])\n",
    "print(l_n[1][3][2][2])\n",
    "print(l_n[2])"
   ]
  },
  {
   "cell_type": "code",
   "execution_count": 37,
   "id": "66ad5f52-de88-44de-a91e-2e62234cf127",
   "metadata": {},
   "outputs": [
    {
     "name": "stdout",
     "output_type": "stream",
     "text": [
      "Edwin\n",
      "[1, 9, 0, [6, 2, [0, 0, 1]]]\n",
      "['James']\n",
      "0\n",
      "[6, 2, [0, 0, 1]]\n",
      "[0, 0, 1]\n",
      "1\n"
     ]
    }
   ],
   "source": [
    "l=[\"Edwin\",[1,9,0,[6,2,[0,0,1]]],['James']]\n",
    "\n",
    "print(l[0])\n",
    "print(l[1])\n",
    "print(l[2])\n",
    "print(l[1][2])\n",
    "print(l[1][3])\n",
    "print(l[1][3][2])\n",
    "print(l[1][3][2][2])"
   ]
  },
  {
   "cell_type": "code",
   "execution_count": 38,
   "id": "d89650d7-6a4b-4826-aaeb-7122c3fab5b9",
   "metadata": {},
   "outputs": [
    {
     "name": "stdout",
     "output_type": "stream",
     "text": [
      "e\n",
      "i\n",
      "n\n",
      "a\n",
      "20\n"
     ]
    },
    {
     "ename": "TypeError",
     "evalue": "list indices must be integers or slices, not float",
     "output_type": "error",
     "traceback": [
      "\u001b[1;31m---------------------------------------------------------------------------\u001b[0m",
      "\u001b[1;31mTypeError\u001b[0m                                 Traceback (most recent call last)",
      "Cell \u001b[1;32mIn[38], line 23\u001b[0m\n\u001b[0;32m     20\u001b[0m \u001b[38;5;28mprint\u001b[39m(n_l[\u001b[38;5;241m1\u001b[39m][\u001b[38;5;241m3\u001b[39m])\n\u001b[0;32m     22\u001b[0m \u001b[38;5;66;03m#error! only integer can be used for indexing\u001b[39;00m\n\u001b[1;32m---> 23\u001b[0m \u001b[38;5;28mprint\u001b[39m(\u001b[43ml_3\u001b[49m\u001b[43m[\u001b[49m\u001b[38;5;241;43m4.0\u001b[39;49m\u001b[43m]\u001b[49m)\n",
      "\u001b[1;31mTypeError\u001b[0m: list indices must be integers or slices, not float"
     ]
    }
   ],
   "source": [
    "#list_index\n",
    "#we can use index operator[] to access an item in a list. In python, indices start at 0.\n",
    "l_3=['e','d','w','i','n']\n",
    "\n",
    "#first item\n",
    "print(l_3[0])\n",
    "\n",
    "#third item\n",
    "print(l_3[-2])\n",
    "\n",
    "#fourth item\n",
    "print(l_3[4])\n",
    "\n",
    "#nested list\n",
    "n_l=[\"Sad\",[4,5,1,20,8]]\n",
    "\n",
    "#nested indexing\n",
    "print(n_l[0][1])\n",
    "\n",
    "print(n_l[1][3])\n",
    "\n",
    "#error! only integer can be used for indexing\n",
    "print(l_3[4.0])"
   ]
  },
  {
   "cell_type": "code",
   "execution_count": 40,
   "id": "6cfcded8-44dc-4b02-be17-a3053784de1a",
   "metadata": {},
   "outputs": [
    {
     "name": "stdout",
     "output_type": "stream",
     "text": [
      "['o', 'g', 'r']\n",
      "['a', 'm', 'i', 'z']\n",
      "['p', 'r', 'o', 'g', 'r', 'a', 'm', 'i', 'z']\n"
     ]
    }
   ],
   "source": [
    "#list slicing in python\n",
    "l_3=['p','r','o','g','r','a','m','i','z']\n",
    "\n",
    "#elements from index 2 to index 4\n",
    "print(l_3[2:5])\n",
    "\n",
    "#element from index 5 to end\n",
    "print(l_3[5:])\n",
    "\n",
    "#element from beginnning to end\n",
    "print(l_3[:])"
   ]
  },
  {
   "cell_type": "code",
   "execution_count": 42,
   "id": "68597322-85a2-4e5c-887f-92b2e9964338",
   "metadata": {},
   "outputs": [
    {
     "name": "stdout",
     "output_type": "stream",
     "text": [
      "[10, 4, 6, 8]\n"
     ]
    }
   ],
   "source": [
    "#adding or changing the elements of a list\n",
    "odd = [2,4,6,8]\n",
    "\n",
    "#change the 1st item\n",
    "odd[0] = 10\n",
    "print(odd)"
   ]
  },
  {
   "cell_type": "code",
   "execution_count": 51,
   "id": "5792c67e-5366-4d40-bbb3-0e18242fad56",
   "metadata": {},
   "outputs": [
    {
     "name": "stdout",
     "output_type": "stream",
     "text": [
      "[10, 3, 5, 7, 9, 9, 9, 9, 9, 9, 9]\n"
     ]
    }
   ],
   "source": [
    "#change 2nd to 4th items\n",
    "odd[1:4:1] = [3,5,7,9]\n",
    "print(odd)"
   ]
  },
  {
   "cell_type": "code",
   "execution_count": 52,
   "id": "6388af18-6a43-40c5-af98-0d1d4ec619f7",
   "metadata": {},
   "outputs": [
    {
     "name": "stdout",
     "output_type": "stream",
     "text": [
      "[1, 3, 5, 7]\n",
      "[1, 3, 5, 7, 9, 11, 13]\n"
     ]
    }
   ],
   "source": [
    "#appending and extending list in python\n",
    "#we can add one item to a list using the append() method or add several items using the extend() method\n",
    "\n",
    "odd=[1,3,5]\n",
    "odd.append(7)\n",
    "print(odd)\n",
    "\n",
    "odd.extend([9,11,13])\n",
    "print(odd)"
   ]
  },
  {
   "cell_type": "code",
   "execution_count": 54,
   "id": "97240757-e455-4be3-8ed2-21ba6540f74a",
   "metadata": {},
   "outputs": [
    {
     "name": "stdout",
     "output_type": "stream",
     "text": [
      "[1, 3, 5, 7, 9, 11, 13, 9, 11, 13, 9, 11, 13]\n"
     ]
    }
   ],
   "source": [
    "odd.extend([9,11,13])\n",
    "print(odd)"
   ]
  },
  {
   "cell_type": "code",
   "execution_count": 56,
   "id": "431ceddc-8875-4d80-9638-641f1d07e4da",
   "metadata": {},
   "outputs": [
    {
     "name": "stdout",
     "output_type": "stream",
     "text": [
      "[1, 3, 5, 7, 9, 11, 13, 9, 11, 13, 9, 11, 13, [9, 11, 13], [9, 11, 13]]\n"
     ]
    }
   ],
   "source": [
    "odd.append([9,11,13])\n",
    "print(odd)"
   ]
  },
  {
   "cell_type": "code",
   "execution_count": null,
   "id": "c9d6651a-ac9d-4dc0-8f0f-0f674b65d0aa",
   "metadata": {},
   "outputs": [],
   "source": []
  }
 ],
 "metadata": {
  "kernelspec": {
   "display_name": "Python 3 (ipykernel)",
   "language": "python",
   "name": "python3"
  },
  "language_info": {
   "codemirror_mode": {
    "name": "ipython",
    "version": 3
   },
   "file_extension": ".py",
   "mimetype": "text/x-python",
   "name": "python",
   "nbconvert_exporter": "python",
   "pygments_lexer": "ipython3",
   "version": "3.11.5"
  }
 },
 "nbformat": 4,
 "nbformat_minor": 5
}
