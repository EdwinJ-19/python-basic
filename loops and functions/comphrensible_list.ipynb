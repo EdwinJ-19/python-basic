{
 "cells": [
  {
   "cell_type": "code",
   "execution_count": 2,
   "id": "8b0988d7-e673-4f4c-b218-fc78c00052b9",
   "metadata": {},
   "outputs": [
    {
     "data": {
      "text/plain": [
       "[2, 4, 6, 8, 10, 12, 14, 16, 18, 20]"
      ]
     },
     "execution_count": 2,
     "metadata": {},
     "output_type": "execute_result"
    }
   ],
   "source": [
    "ls = [i*2 for i in range(1,11)]    #ls = [expression for value in iterable]\n",
    "ls"
   ]
  },
  {
   "cell_type": "code",
   "execution_count": 6,
   "id": "8c4f5b91-a986-4fe5-bf94-983ea322e65f",
   "metadata": {},
   "outputs": [
    {
     "data": {
      "text/plain": [
       "[0, 2, 4, 6, 8]"
      ]
     },
     "execution_count": 6,
     "metadata": {},
     "output_type": "execute_result"
    }
   ],
   "source": [
    "even = [x for x in range(0,10) if x%2==0]\n",
    "even"
   ]
  },
  {
   "cell_type": "code",
   "execution_count": 11,
   "id": "ec24431f-97a5-426f-90f1-e7e0694b0fb9",
   "metadata": {},
   "outputs": [
    {
     "data": {
      "text/plain": [
       "[0, 2, 4, 6, 8]"
      ]
     },
     "execution_count": 11,
     "metadata": {},
     "output_type": "execute_result"
    }
   ],
   "source": [
    "even = [x for x in range(0,10) if x%2==0]\n",
    "even"
   ]
  },
  {
   "cell_type": "code",
   "execution_count": 19,
   "id": "825118b7-65d2-499c-b460-81f4326d6322",
   "metadata": {},
   "outputs": [
    {
     "name": "stdout",
     "output_type": "stream",
     "text": [
      "[2, 3, 4, 5, 6, 7, 8, 9]\n",
      "[0, 1, 2, 3, 4, 5, 6, 7, 8, 9]\n"
     ]
    }
   ],
   "source": [
    "#wap to find out the number is greater\n",
    "g = [x for x in range(0,10,1) if x>1]\n",
    "\n",
    "#wap to find out the number is lesser\n",
    "y = [x for x in range(0,10,1) if x<10]\n",
    "\n",
    "print(g)\n",
    "print(y)"
   ]
  },
  {
   "cell_type": "code",
   "execution_count": 22,
   "id": "67997579-6948-4a08-a484-3a31c69cb168",
   "metadata": {},
   "outputs": [
    {
     "name": "stdout",
     "output_type": "stream",
     "text": [
      "<built-in method append of list object at 0x000001ECCD27DA40>\n"
     ]
    },
    {
     "data": {
      "text/plain": [
       "['G', 'o', 'o', 'd', ' ', 'M', 'o', 'r', 'n', 'i', 'n', 'g']"
      ]
     },
     "execution_count": 22,
     "metadata": {},
     "output_type": "execute_result"
    }
   ],
   "source": [
    "a = []\n",
    "\n",
    "for i in \"Good Morning\":\n",
    "    a.append(i)\n",
    "print(a.append)\n",
    "a"
   ]
  },
  {
   "cell_type": "code",
   "execution_count": 35,
   "id": "efc49688-f339-4d1b-9a71-b296a5e6b521",
   "metadata": {},
   "outputs": [
    {
     "name": "stdout",
     "output_type": "stream",
     "text": [
      "39\n"
     ]
    }
   ],
   "source": [
    "#wap to sum all items in a list\n",
    "\n",
    "a = [1,2,3,4,5,7,8,9]\n",
    "sum=0\n",
    "for i in a:\n",
    "    sum = sum + i\n",
    "print(sum)\n",
    "    "
   ]
  },
  {
   "cell_type": "code",
   "execution_count": 2,
   "id": "d983d9c9-dbcf-4f9b-b2ec-c027b792817f",
   "metadata": {},
   "outputs": [
    {
     "name": "stdout",
     "output_type": "stream",
     "text": [
      "Maximum 35\n"
     ]
    }
   ],
   "source": [
    "#wap to find the maximum values\n",
    "s=[1,12,4,5,20,35,15]\n",
    "max = s[0]     #location to point out the list\n",
    "for a in s:\n",
    "    if a>max:\n",
    "        max=a\n",
    "print(\"Maximum\",max)"
   ]
  },
  {
   "cell_type": "code",
   "execution_count": 7,
   "id": "aaac8198-97e3-4025-b842-ff1686da5de3",
   "metadata": {},
   "outputs": [
    {
     "name": "stdout",
     "output_type": "stream",
     "text": [
      "{1, 2, 3, 4, 5}\n"
     ]
    }
   ],
   "source": [
    "#wap to remove duplicate from a list\n",
    "s=[1,2,1,3,4,4,5]\n",
    "dup=set()\n",
    "un=[]\n",
    "for a in s:\n",
    "    un.append(a)\n",
    "    dup.add(a)\n",
    "print(dup)"
   ]
  },
  {
   "cell_type": "code",
   "execution_count": 12,
   "id": "ef7fa1e4-7273-4c63-a7bc-24d27f5e45ec",
   "metadata": {},
   "outputs": [
    {
     "data": {
      "text/plain": [
       "['green', 'white', 'black']"
      ]
     },
     "execution_count": 12,
     "metadata": {},
     "output_type": "execute_result"
    }
   ],
   "source": [
    "#wap to print a specified list after removing the 1,4 and 5 elements\n",
    "s = ['red','green','white','black','pink','yellow']\n",
    "s = [x for (i,x) in enumerate(s) if i not in (0,4,5)]\n",
    "s"
   ]
  },
  {
   "cell_type": "code",
   "execution_count": 12,
   "id": "a85be143-ae2f-4ca4-bd2f-3d1b57acf19e",
   "metadata": {},
   "outputs": [
    {
     "data": {
      "text/plain": [
       "['green', 'white', 'black']"
      ]
     },
     "execution_count": 12,
     "metadata": {},
     "output_type": "execute_result"
    }
   ],
   "source": [
    "#wap to print a specified list after removing the 1,4 and 5 elements\n",
    "s = ['red','green','white','black','pink','yellow']\n"
   ]
  },
  {
   "cell_type": "code",
   "execution_count": 13,
   "id": "6bcefd93-a864-421c-883c-bd873037ba78",
   "metadata": {},
   "outputs": [
    {
     "name": "stdout",
     "output_type": "stream",
     "text": [
      "0 red\n",
      "1 green\n",
      "2 white\n",
      "3 black\n",
      "4 pink\n",
      "5 yellow\n"
     ]
    }
   ],
   "source": [
    "#wap to access the index of a list\n",
    "s = ['red','green','white','black','pink','yellow']\n",
    "for i,x in enumerate(s):\n",
    "    print(i,x)"
   ]
  },
  {
   "cell_type": "code",
   "execution_count": 14,
   "id": "ea91c32b-86e2-4241-94fa-0ba81d26e0f5",
   "metadata": {},
   "outputs": [
    {
     "name": "stdout",
     "output_type": "stream",
     "text": [
      "[1, 2, 3, 4, 5, ['ye', 'hota', 'hai', 'python']]\n"
     ]
    }
   ],
   "source": [
    "#wap to append the list to the second list\n",
    "s = [1,2,3,4,5]\n",
    "a = [\"ye\",\"hota\",\"hai\",\"python\"]\n",
    "\n",
    "s.append(a)\n",
    "print(s)"
   ]
  },
  {
   "cell_type": "code",
   "execution_count": null,
   "id": "a3530f6d-8ac1-4e50-a2c1-c89cc91056f5",
   "metadata": {},
   "outputs": [],
   "source": []
  }
 ],
 "metadata": {
  "kernelspec": {
   "display_name": "Python 3 (ipykernel)",
   "language": "python",
   "name": "python3"
  },
  "language_info": {
   "codemirror_mode": {
    "name": "ipython",
    "version": 3
   },
   "file_extension": ".py",
   "mimetype": "text/x-python",
   "name": "python",
   "nbconvert_exporter": "python",
   "pygments_lexer": "ipython3",
   "version": "3.11.5"
  }
 },
 "nbformat": 4,
 "nbformat_minor": 5
}
