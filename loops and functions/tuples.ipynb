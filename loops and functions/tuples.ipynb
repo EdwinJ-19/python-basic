{
 "cells": [
  {
   "cell_type": "code",
   "execution_count": 1,
   "id": "5d9baefc-bab4-436d-96c2-10447a45b45e",
   "metadata": {},
   "outputs": [
    {
     "name": "stdout",
     "output_type": "stream",
     "text": [
      "(1, 2)\n"
     ]
    }
   ],
   "source": [
    "dict1 = {1:'one',2:'two'}\n",
    "print(tuple(dict1))"
   ]
  },
  {
   "cell_type": "code",
   "execution_count": 2,
   "id": "d57d87a1-e188-4aa1-af8f-80a133d4d3fa",
   "metadata": {},
   "outputs": [
    {
     "name": "stdout",
     "output_type": "stream",
     "text": [
      "('T', 'u', 'p', 'l', 'e', ' ', 'E', 'x', 'a', 'm', 'p', 'l', 'e')\n"
     ]
    }
   ],
   "source": [
    "word = 'Tuple Example'\n",
    "tuple = tuple(word)\n",
    "print(tuple)"
   ]
  },
  {
   "cell_type": "code",
   "execution_count": 3,
   "id": "444d5cda-d25c-49d5-9435-901516c68792",
   "metadata": {},
   "outputs": [
    {
     "name": "stdout",
     "output_type": "stream",
     "text": [
      "3\n",
      "<class 'tuple'>\n"
     ]
    }
   ],
   "source": [
    "thistuple = (\"apple\", \"banana\", \"cherry\")\n",
    "print(len(thistuple))\n",
    "print(type(thistuple))"
   ]
  },
  {
   "cell_type": "code",
   "execution_count": 6,
   "id": "82a78b1a-6530-40ec-a0a2-14a9690b8525",
   "metadata": {},
   "outputs": [
    {
     "ename": "TypeError",
     "evalue": "'tuple' object is not callable",
     "output_type": "error",
     "traceback": [
      "\u001b[1;31m---------------------------------------------------------------------------\u001b[0m",
      "\u001b[1;31mTypeError\u001b[0m                                 Traceback (most recent call last)",
      "Cell \u001b[1;32mIn[6], line 1\u001b[0m\n\u001b[1;32m----> 1\u001b[0m tuple1 \u001b[38;5;241m=\u001b[39m \u001b[38;5;28;43mtuple\u001b[39;49m\u001b[43m(\u001b[49m\u001b[43m(\u001b[49m\u001b[38;5;241;43m1\u001b[39;49m\u001b[43m,\u001b[49m\u001b[38;5;241;43m2\u001b[39;49m\u001b[43m)\u001b[49m\u001b[43m)\u001b[49m\n\u001b[0;32m      2\u001b[0m \u001b[38;5;28mprint\u001b[39m(tuple1)\n",
      "\u001b[1;31mTypeError\u001b[0m: 'tuple' object is not callable"
     ]
    }
   ],
   "source": [
    "tuple1 = tuple((1,2))\n",
    "print(tuple1)"
   ]
  },
  {
   "cell_type": "code",
   "execution_count": 7,
   "id": "2f28919e-e6d8-4901-9df4-15df527a3e9c",
   "metadata": {},
   "outputs": [
    {
     "name": "stdout",
     "output_type": "stream",
     "text": [
      "<class 'tuple'>\n",
      "<class 'str'>\n"
     ]
    }
   ],
   "source": [
    "thistuple = (\"apple\",)    #its a tuple\n",
    "print(type(thistuple))\n",
    "\n",
    "thistuple = (\"apple\")     #not a tuple\n",
    "print(type(thistuple))"
   ]
  },
  {
   "cell_type": "code",
   "execution_count": 9,
   "id": "2db93077-0a4c-4fb8-b230-0d31aae6b475",
   "metadata": {},
   "outputs": [
    {
     "name": "stdout",
     "output_type": "stream",
     "text": [
      "cherry\n"
     ]
    }
   ],
   "source": [
    "thistuple = (\"apple\",\"banana\",\"cherry\")\n",
    "print(thistuple[2])"
   ]
  },
  {
   "cell_type": "code",
   "execution_count": 13,
   "id": "ecb67af5-ed76-4230-9749-a1b416fd27d2",
   "metadata": {},
   "outputs": [
    {
     "name": "stdout",
     "output_type": "stream",
     "text": [
      "('cherry', 'orange', 'kiwi')\n"
     ]
    }
   ],
   "source": [
    "thistuple = (\"apple\",\"banana\",\"cherry\",\"orange\",\"kiwi\",\"melon\",\"mango\")\n",
    "print(thistuple[2:5])"
   ]
  },
  {
   "cell_type": "code",
   "execution_count": 14,
   "id": "dd54dd88-9e6c-4ba8-95e3-edeff064c58f",
   "metadata": {},
   "outputs": [
    {
     "name": "stdout",
     "output_type": "stream",
     "text": [
      "('mango', 'melon', 'kiwi', 'orange', 'cherry', 'banana', 'apple')\n"
     ]
    }
   ],
   "source": [
    "print(thistuple[::-1])"
   ]
  },
  {
   "cell_type": "code",
   "execution_count": 19,
   "id": "ddd9afae-bd66-43df-a91b-5b8189cc5686",
   "metadata": {},
   "outputs": [
    {
     "name": "stdout",
     "output_type": "stream",
     "text": [
      "('apple', 'banana', 'cherry', 'GORA', 'orange')\n"
     ]
    }
   ],
   "source": [
    "thistuple = (\"apple\",\"banana\",\"cherry\")      #concating tuple\n",
    "y = (\"GORA\",\"orange\",)\n",
    "new_tuple=thistuple+y\n",
    "print(new_tuple)"
   ]
  },
  {
   "cell_type": "code",
   "execution_count": 21,
   "id": "b7f08f3d-5885-4022-9036-2650fd9dfa52",
   "metadata": {},
   "outputs": [
    {
     "name": "stdout",
     "output_type": "stream",
     "text": [
      "apple\n",
      "banana\n",
      "cherry\n"
     ]
    }
   ],
   "source": [
    "#unpacking a tuple\n",
    "#when we create a tuple, we normally assign values to it. This is called \"packing\" a tuple.\n",
    "#but, in python, we are also allowed to extract the values back into variables. this is called \"unpacking\" a tuple.\n",
    "\n",
    "fruits = (\"apple\",\"banana\",\"cherry\")\n",
    "fruits\n",
    "(green,yellow,red) = fruits\n",
    "print(green)\n",
    "print(yellow)\n",
    "print(red)"
   ]
  },
  {
   "cell_type": "code",
   "execution_count": 29,
   "id": "534d3e70-c532-4784-a908-ecc768e12ca0",
   "metadata": {},
   "outputs": [
    {
     "name": "stdout",
     "output_type": "stream",
     "text": [
      "apple\n",
      "['banana', 'cherry', 'orange', 'kiwi']\n",
      "melon\n",
      "mango\n"
     ]
    }
   ],
   "source": [
    "thistuple = (\"apple\",\"banana\",\"cherry\",\"orange\",\"kiwi\",\"melon\",\"mango\")   # * means to pack in one group so that it will be print other group\n",
    "\n",
    "(green,*yellow,red,blue) = thistuple\n",
    "\n",
    "print(green)\n",
    "print(yellow)\n",
    "print(red)\n",
    "print(blue)"
   ]
  },
  {
   "cell_type": "code",
   "execution_count": 37,
   "id": "a47b3ed7-682e-49a9-ba4a-8128e2e28c70",
   "metadata": {},
   "outputs": [
    {
     "data": {
      "text/plain": [
       "3"
      ]
     },
     "execution_count": 37,
     "metadata": {},
     "output_type": "execute_result"
    }
   ],
   "source": [
    "thistuple = (1,3,2,5,6,4,3,7,5,6,8,0,3)\n",
    "thistuple.count(3)"
   ]
  },
  {
   "cell_type": "code",
   "execution_count": 38,
   "id": "ff7ba5e5-5a20-4199-86bf-a65fe8d440f0",
   "metadata": {},
   "outputs": [
    {
     "data": {
      "text/plain": [
       "1"
      ]
     },
     "execution_count": 38,
     "metadata": {},
     "output_type": "execute_result"
    }
   ],
   "source": [
    "thistuple.index(3)"
   ]
  },
  {
   "cell_type": "code",
   "execution_count": null,
   "id": "9dcd18c9-efc4-4686-a8f1-8ee041e039f6",
   "metadata": {},
   "outputs": [],
   "source": []
  }
 ],
 "metadata": {
  "kernelspec": {
   "display_name": "Python 3 (ipykernel)",
   "language": "python",
   "name": "python3"
  },
  "language_info": {
   "codemirror_mode": {
    "name": "ipython",
    "version": 3
   },
   "file_extension": ".py",
   "mimetype": "text/x-python",
   "name": "python",
   "nbconvert_exporter": "python",
   "pygments_lexer": "ipython3",
   "version": "3.11.5"
  }
 },
 "nbformat": 4,
 "nbformat_minor": 5
}
