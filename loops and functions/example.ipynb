{
 "cells": [
  {
   "cell_type": "code",
   "execution_count": 1,
   "id": "e4d800e5-7f1c-4408-af7a-1b74e72e66c6",
   "metadata": {},
   "outputs": [
    {
     "name": "stdin",
     "output_type": "stream",
     "text": [
      "Enter the required length 10\n",
      "Enter the required width 10\n"
     ]
    },
    {
     "name": "stdout",
     "output_type": "stream",
     "text": [
      "100\n"
     ]
    }
   ],
   "source": [
    "l = int(input(\"Enter the required length\"))  #area of rectangle\n",
    "w = int(input(\"Enter the required width\"))\n",
    "area= l*w\n",
    "print(area)"
   ]
  },
  {
   "cell_type": "code",
   "execution_count": 2,
   "id": "3983cd9e-591f-4407-a0ee-cd4218f6a0e9",
   "metadata": {},
   "outputs": [
    {
     "name": "stdin",
     "output_type": "stream",
     "text": [
      "Enter the Required boiling point 150\n",
      "Enter the Required freezing point 50\n"
     ]
    },
    {
     "name": "stdout",
     "output_type": "stream",
     "text": [
      "302.0\n",
      "122.0\n"
     ]
    }
   ],
   "source": [
    "#conversion of celsius to fahrenheit\n",
    "#water boils at 100 C and water freezes at 0 C\n",
    "b = int(input(\"Enter the Required boiling point\"))\n",
    "f = int(input(\"Enter the Required freezing point\"))\n",
    "boiling = b * (9/5) +32\n",
    "print(boiling)\n",
    "freezing = f * (9/5) +32\n",
    "print(freezing)"
   ]
  },
  {
   "cell_type": "code",
   "execution_count": null,
   "id": "9137e3b2-7b81-41b9-9800-2a9a7a32075e",
   "metadata": {},
   "outputs": [],
   "source": []
  }
 ],
 "metadata": {
  "kernelspec": {
   "display_name": "Python 3 (ipykernel)",
   "language": "python",
   "name": "python3"
  },
  "language_info": {
   "codemirror_mode": {
    "name": "ipython",
    "version": 3
   },
   "file_extension": ".py",
   "mimetype": "text/x-python",
   "name": "python",
   "nbconvert_exporter": "python",
   "pygments_lexer": "ipython3",
   "version": "3.11.5"
  }
 },
 "nbformat": 4,
 "nbformat_minor": 5
}
