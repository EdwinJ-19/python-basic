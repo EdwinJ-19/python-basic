{
 "cells": [
  {
   "cell_type": "code",
   "execution_count": 5,
   "id": "55a37b84-aaea-4a9e-9b05-8509560a2024",
   "metadata": {},
   "outputs": [
    {
     "name": "stdin",
     "output_type": "stream",
     "text": [
      "Enter the value of Age:- 20\n"
     ]
    },
    {
     "name": "stdout",
     "output_type": "stream",
     "text": [
      "You are eligible for vote!\n"
     ]
    }
   ],
   "source": [
    "#conditional statement (if, else and nested if else)\n",
    "#if condition\n",
    "a = int(input(\"Enter the value of Age:-\"))\n",
    "if(a>=18):\n",
    "    print(\"You are eligible for vote!\")\n",
    "else:\n",
    "    print(\"You are not eligible for vote!\")"
   ]
  },
  {
   "cell_type": "code",
   "execution_count": 9,
   "id": "506c410a-8bd2-4a0a-820c-94995b77db2e",
   "metadata": {},
   "outputs": [
    {
     "name": "stdin",
     "output_type": "stream",
     "text": [
      "Enter the value of point (in degrees):  150\n"
     ]
    },
    {
     "name": "stdout",
     "output_type": "stream",
     "text": [
      "302.0\n"
     ]
    }
   ],
   "source": [
    "#to check whether the value is in freezing point or boiling point\n",
    "b = int(input(\"Enter the value of point (in degrees): \"))\n",
    "if(b>100):\n",
    "    boiling = b * (9/5) + 32\n",
    "    print(boiling)\n",
    "else:\n",
    "    freezing = b * (9/5) + 32\n",
    "    print(freezing)"
   ]
  },
  {
   "cell_type": "code",
   "execution_count": 14,
   "id": "ed9f256f-c05a-4cdb-8e5c-7c0747a117ef",
   "metadata": {},
   "outputs": [
    {
     "name": "stdin",
     "output_type": "stream",
     "text": [
      "Enter the Value of A 9\n",
      "Enter the Value of B 1\n",
      "Enter the Value of C 2\n"
     ]
    },
    {
     "name": "stdout",
     "output_type": "stream",
     "text": [
      "A is greater\n"
     ]
    }
   ],
   "source": [
    "#maximum of three number\n",
    "a=int(input(\"Enter the Value of A\"))\n",
    "b=int(input(\"Enter the Value of B\"))\n",
    "c=int(input(\"Enter the Value of C\"))\n",
    "if(a>b and a>c):\n",
    "    print(\"A is greater\")\n",
    "elif(b>a and b>c):\n",
    "    print(\"B is greater\")\n",
    "elif(c>a and c>b):\n",
    "    print(\"C is greater\")\n",
    "else:\n",
    "    print(\"Number does not exist in Greater value!\")"
   ]
  },
  {
   "cell_type": "code",
   "execution_count": null,
   "id": "97e63d48-6340-4e39-9c1f-4739ad158fa5",
   "metadata": {},
   "outputs": [],
   "source": [
    "a = int(input(\"Enter the unit of apple:\"))\n",
    "o = int(input(\"Enter the unit of orange:\"))\n",
    "s = int(input(\"Enter the unit of strawberry:\"))\n",
    "if(a>10 or o<10):\n",
    "    print(\"Here you go, I have packed your apple\")\n",
    "elif(o>10 or a<10):\n",
    "    print(\"Here you go, I have packed your orange\")\n",
    "elif(s>10):\n",
    "    print(\"Here you go, I have packed your strawberry\")\n",
    "else:\n",
    "    print(\"We are out of order\")"
   ]
  },
  {
   "cell_type": "code",
   "execution_count": 19,
   "id": "ada89cf7-c6ee-431f-b183-3fedd8f87fe2",
   "metadata": {},
   "outputs": [
    {
     "name": "stdin",
     "output_type": "stream",
     "text": [
      "Enter the value: 12\n"
     ]
    },
    {
     "name": "stdout",
     "output_type": "stream",
     "text": [
      "number is even\n"
     ]
    }
   ],
   "source": [
    "even = int(input(\"Enter the value:\"))\n",
    "if(even%2)==0:\n",
    "    print(\"number is even\")\n",
    "else:\n",
    "    print(\"number is odd\")"
   ]
  },
  {
   "cell_type": "code",
   "execution_count": 34,
   "id": "72e4b90b-b20b-4835-8b1c-95fa2f219385",
   "metadata": {},
   "outputs": [
    {
     "name": "stdin",
     "output_type": "stream",
     "text": [
      "Enter the value: 22\n"
     ]
    },
    {
     "name": "stdout",
     "output_type": "stream",
     "text": [
      "Not Divisible by 7\n"
     ]
    }
   ],
   "source": [
    "#WAP to check whether divisible by 7 or not\n",
    "num = int(input(\"Enter the value:\"))\n",
    "if(num%7)==0:\n",
    "    print(\"Divisible by 7\")\n",
    "else:\n",
    "    print(\"Not Divisible by 7\")"
   ]
  },
  {
   "cell_type": "code",
   "execution_count": 38,
   "id": "b508e87e-4726-4230-8fbd-63bab335185b",
   "metadata": {},
   "outputs": [
    {
     "name": "stdin",
     "output_type": "stream",
     "text": [
      "Enter the value: 23\n"
     ]
    },
    {
     "name": "stdout",
     "output_type": "stream",
     "text": [
      "Last digit is:  3\n"
     ]
    }
   ],
   "source": [
    "#write a number to display the last digit of the number\n",
    "#hint: any number mod 10 will return the last digit\n",
    "num = int(input(\"Enter the value:\"))\n",
    "c = num%10\n",
    "if(num % 10):\n",
    "    print(\"Last digit is: \",c)\n",
    "else:\n",
    "    print(\"Can't find!\")"
   ]
  },
  {
   "cell_type": "code",
   "execution_count": 43,
   "id": "883db660-1513-46a0-adc2-b9510cd39482",
   "metadata": {},
   "outputs": [
    {
     "name": "stdin",
     "output_type": "stream",
     "text": [
      "Enter the marks: 65\n"
     ]
    },
    {
     "name": "stdout",
     "output_type": "stream",
     "text": [
      "C grade\n"
     ]
    }
   ],
   "source": [
    "#wap to accept the percentage \n",
    "marks = int(input(\"Enter the marks:\"))\n",
    "if(marks>90):\n",
    "    print(\"A Grade\")\n",
    "elif(marks>80 and marks<=90):\n",
    "    print(\"B grade\")\n",
    "elif(marks>=60 and marks<=80):\n",
    "    print(\"C grade\")\n",
    "elif(marks<60):\n",
    "    print(\"D grade\")\n",
    "else:\n",
    "    print(\"Good luck next time!\")"
   ]
  },
  {
   "cell_type": "code",
   "execution_count": 13,
   "id": "51f7fb99-3a06-412c-b58c-eb47ee758cee",
   "metadata": {},
   "outputs": [
    {
     "name": "stdin",
     "output_type": "stream",
     "text": [
      "Enter your marks: 70\n"
     ]
    },
    {
     "name": "stdout",
     "output_type": "stream",
     "text": [
      "C Grade\n",
      "Sorry, its actuall B grade\n"
     ]
    }
   ],
   "source": [
    "marks = int(input(\"Enter your marks:\"))\n",
    "if(marks>60):\n",
    "    print(\"C Grade\")\n",
    "    if(marks<50):\n",
    "        print(\"Maximized Marks\")\n",
    "    else:\n",
    "        print(\"Sorry, its actually B grade\")"
   ]
  },
  {
   "cell_type": "code",
   "execution_count": null,
   "id": "eb9af8f6-7a8b-4069-8902-8b71c598f556",
   "metadata": {},
   "outputs": [],
   "source": [
    "#accept the following from user and calculate the percentage of class attendance\n",
    "#total number of working days \n",
    "#total number of days for absent\n",
    "#after calculating percentage, show that if the percentage is less than 75 then students will not be able to sit in exam.\n",
    "\n",
    "#wap to accept the two numbers and mathematical operation and perform the operation conditional(calculator using if condition)"
   ]
  }
 ],
 "metadata": {
  "kernelspec": {
   "display_name": "Python 3 (ipykernel)",
   "language": "python",
   "name": "python3"
  },
  "language_info": {
   "codemirror_mode": {
    "name": "ipython",
    "version": 3
   },
   "file_extension": ".py",
   "mimetype": "text/x-python",
   "name": "python",
   "nbconvert_exporter": "python",
   "pygments_lexer": "ipython3",
   "version": "3.11.5"
  }
 },
 "nbformat": 4,
 "nbformat_minor": 5
}
