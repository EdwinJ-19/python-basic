{
 "cells": [
  {
   "cell_type": "code",
   "execution_count": 3,
   "id": "dae56e76-115e-447a-8cb7-9a323dd907a6",
   "metadata": {},
   "outputs": [
    {
     "name": "stdout",
     "output_type": "stream",
     "text": [
      "Say Good Afternoon!\n"
     ]
    }
   ],
   "source": [
    "def speak():    #method declaration\n",
    "    print(\"Say Good Afternoon!\")   #functions statement created\n",
    "speak()   #method call"
   ]
  },
  {
   "cell_type": "code",
   "execution_count": 5,
   "id": "4393fc36-ffb9-46cf-bbc4-13c80652bc7c",
   "metadata": {},
   "outputs": [
    {
     "name": "stdin",
     "output_type": "stream",
     "text": [
      "Enter the value to add with: 5\n",
      "Enter the value to add with: 5\n"
     ]
    },
    {
     "name": "stdout",
     "output_type": "stream",
     "text": [
      "Addition of two number is:  10\n"
     ]
    }
   ],
   "source": [
    "#no parameter no return values\n",
    "def add():\n",
    "    a = int(input(\"Enter the value to add with:\"))\n",
    "    b = int(input(\"Enter the value to add with:\"))\n",
    "    c = a+b\n",
    "    print(\"Addition of two number is: \", c)\n",
    "add()"
   ]
  },
  {
   "cell_type": "code",
   "execution_count": 11,
   "id": "930852d2-b520-43ba-97e1-41def4de88a4",
   "metadata": {},
   "outputs": [
    {
     "name": "stdin",
     "output_type": "stream",
     "text": [
      "Enter the value to reverse it:  1234\n"
     ]
    },
    {
     "name": "stdout",
     "output_type": "stream",
     "text": [
      "4321\n"
     ]
    }
   ],
   "source": [
    "def rev():\n",
    "    num = int(input(\"Enter the value to reverse it: \"))\n",
    "    rev = 0\n",
    "    while(num!=0):\n",
    "        r = num%10\n",
    "        rev = rev*10+r\n",
    "        num = num//10\n",
    "    print(rev)\n",
    "rev()"
   ]
  },
  {
   "cell_type": "code",
   "execution_count": 22,
   "id": "bbe817c7-006e-4f06-ab00-c719917cd9ae",
   "metadata": {},
   "outputs": [
    {
     "name": "stdout",
     "output_type": "stream",
     "text": [
      "\n",
      "*\n",
      "**\n",
      "***\n",
      "****\n",
      "*****\n",
      "******\n",
      "*******\n",
      "********\n",
      "*********\n"
     ]
    }
   ],
   "source": [
    "def star():\n",
    "    for i in range(0,10,1):\n",
    "        for j in range(0,i,1):\n",
    "            print(end=\"*\")\n",
    "        print()\n",
    "star()"
   ]
  },
  {
   "cell_type": "code",
   "execution_count": 44,
   "id": "5eeb8cfb-b7d9-491e-9246-eab2dccffe78",
   "metadata": {},
   "outputs": [
    {
     "name": "stdin",
     "output_type": "stream",
     "text": [
      "Enter the value: 12345\n"
     ]
    },
    {
     "name": "stdout",
     "output_type": "stream",
     "text": [
      "5\n",
      "54\n",
      "543\n",
      "5432\n",
      "54321\n",
      "Not a Palindrome\n"
     ]
    }
   ],
   "source": [
    "def palindrome():\n",
    "    num = int(input(\"Enter the value:\"))\n",
    "    rev = 0\n",
    "    prnum = num\n",
    "    while(num!=0):\n",
    "        r = num % 10\n",
    "        rev = rev*10 + r\n",
    "        num = num // 10\n",
    "        print(rev)\n",
    "    if prnum == rev:\n",
    "        print(\"Palindrome\")\n",
    "    else:\n",
    "        print(\"Not a Palindrome\")\n",
    "palindrome()"
   ]
  },
  {
   "cell_type": "code",
   "execution_count": 28,
   "id": "8d91cac6-15c9-4484-94ff-1738105d594c",
   "metadata": {},
   "outputs": [
    {
     "name": "stdout",
     "output_type": "stream",
     "text": [
      "15\n"
     ]
    }
   ],
   "source": [
    "#parameter but no return values\n",
    "def add(a,b):\n",
    "    c = a+b\n",
    "    print(c)\n",
    "add(5,10)"
   ]
  },
  {
   "cell_type": "code",
   "execution_count": 30,
   "id": "3e2ab668-e1cf-4330-99b6-9ce00a08c781",
   "metadata": {},
   "outputs": [
    {
     "data": {
      "text/plain": [
       "30"
      ]
     },
     "execution_count": 30,
     "metadata": {},
     "output_type": "execute_result"
    }
   ],
   "source": [
    "#parameter but return values\n",
    "def add(a,b):\n",
    "    c = a + b \n",
    "    return c     #it is a last statement of values and it will execute only on this given block of statement.\n",
    "add(10,20)"
   ]
  },
  {
   "cell_type": "code",
   "execution_count": 38,
   "id": "b2e13635-b1c0-4479-8c8f-451c231c1c90",
   "metadata": {},
   "outputs": [
    {
     "name": "stdin",
     "output_type": "stream",
     "text": [
      "Enter the values:  30\n",
      "Enter the values:  20\n"
     ]
    },
    {
     "name": "stdout",
     "output_type": "stream",
     "text": [
      "Addition: 50\n"
     ]
    },
    {
     "data": {
      "text/plain": [
       "10"
      ]
     },
     "execution_count": 38,
     "metadata": {},
     "output_type": "execute_result"
    }
   ],
   "source": [
    "#no parameter but return values\n",
    "def add():\n",
    "    a = int(input(\"Enter the values: \"))    #local variable\n",
    "    b = int(input(\"Enter the values: \"))\n",
    "    c = a+b\n",
    "    print(\"Addition:\",c)\n",
    "    d = a-b\n",
    "    return d\n",
    "add()"
   ]
  },
  {
   "cell_type": "code",
   "execution_count": 45,
   "id": "f8ad289a-1ee4-4af9-ade6-4e10fdf4f7b2",
   "metadata": {},
   "outputs": [
    {
     "name": "stdout",
     "output_type": "stream",
     "text": [
      "Power: 100\n"
     ]
    }
   ],
   "source": [
    "def power(a):\n",
    "    c = a ** 2\n",
    "    print(\"Power:\",c)\n",
    "power(10)"
   ]
  },
  {
   "cell_type": "code",
   "execution_count": 58,
   "id": "432b4d24-93de-4708-bf17-9cd6ab2e67c6",
   "metadata": {},
   "outputs": [
    {
     "name": "stdout",
     "output_type": "stream",
     "text": [
      "*********\n",
      "********\n",
      "*******\n",
      "******\n",
      "*****\n",
      "****\n",
      "***\n",
      "**\n",
      "*\n"
     ]
    }
   ],
   "source": [
    "def star():\n",
    "    for i in range(10,1,-1):\n",
    "        for j in range(i,1,-1):\n",
    "            print(end=\"*\")\n",
    "        print()\n",
    "star()"
   ]
  },
  {
   "cell_type": "code",
   "execution_count": null,
   "id": "068dfbd0-154a-4bf5-ba3b-bad7dfe39a91",
   "metadata": {},
   "outputs": [],
   "source": [
    "def even():\n",
    "    a = int(input(\"enter the values: \"))\n",
    "    while(a<6):\n",
    "        if(a%2==0):\n",
    "            print(\"Even Number is: \", a)\n",
    "        else:\n",
    "            print(\"Odd Number\")\n",
    "even()"
   ]
  },
  {
   "cell_type": "code",
   "execution_count": 17,
   "id": "a318ffe5-9c4b-4e1a-997c-3587c9ea9bf4",
   "metadata": {},
   "outputs": [
    {
     "name": "stdout",
     "output_type": "stream",
     "text": [
      "<class 'tuple'>\n"
     ]
    }
   ],
   "source": [
    "def display():    #returning a list\n",
    "    return 1,2,3,4\n",
    "display()\n",
    "print(type(display()))"
   ]
  },
  {
   "cell_type": "code",
   "execution_count": 2,
   "id": "38d0b224-cc05-4b9f-9ce2-60f629806998",
   "metadata": {},
   "outputs": [
    {
     "name": "stdout",
     "output_type": "stream",
     "text": [
      "(1, 2, 3, 4)\n"
     ]
    }
   ],
   "source": [
    "def display():    #returning a list\n",
    "    return 1,2,3,4\n",
    "data1=display()\n",
    "print(data1)"
   ]
  },
  {
   "cell_type": "code",
   "execution_count": 16,
   "id": "4f44418c-b50f-44c5-8ae4-6eb093c42739",
   "metadata": {},
   "outputs": [
    {
     "name": "stdout",
     "output_type": "stream",
     "text": [
      "<class 'list'>\n"
     ]
    }
   ],
   "source": [
    "def display():     #returning a list\n",
    "    str=\"Hello World\"\n",
    "    x=20\n",
    "    return [str,x]\n",
    "display()\n",
    "print(type(display()))"
   ]
  },
  {
   "cell_type": "code",
   "execution_count": 5,
   "id": "61c55509-ee00-453c-bdc7-87abe1cccf08",
   "metadata": {},
   "outputs": [
    {
     "name": "stdout",
     "output_type": "stream",
     "text": [
      "{1: 'Hola mi Quesa', 2: 25}\n"
     ]
    }
   ],
   "source": [
    "def display():\n",
    "    demo = dict()\n",
    "    demo[1] = \"Hola mi Quesa\"\n",
    "    demo[2] = 25\n",
    "    return demo\n",
    "data1=display()\n",
    "print(data1)"
   ]
  },
  {
   "cell_type": "code",
   "execution_count": 11,
   "id": "63ffcba7-d329-4ae7-a53f-e50941a7a150",
   "metadata": {},
   "outputs": [
    {
     "name": "stdout",
     "output_type": "stream",
     "text": [
      "{1: 'Edwin', 'Last Name': 'John'}\n"
     ]
    }
   ],
   "source": [
    "def dis():\n",
    "    demo = {1:'Edwin','Last Name':'John'}\n",
    "    return demo\n",
    "demo=dis()\n",
    "print(demo)"
   ]
  },
  {
   "cell_type": "code",
   "execution_count": 13,
   "id": "096a2296-3de7-4395-ab05-d38b025635b9",
   "metadata": {},
   "outputs": [
    {
     "data": {
      "text/plain": [
       "{'First Name': 'Edwin', 'Last Name': 'John'}"
      ]
     },
     "execution_count": 13,
     "metadata": {},
     "output_type": "execute_result"
    }
   ],
   "source": [
    "def dey():\n",
    "    demo = {'First Name':'Edwin','Last Name':'John'}\n",
    "    return demo\n",
    "dey()"
   ]
  },
  {
   "cell_type": "code",
   "execution_count": 15,
   "id": "2dce6007-0a5b-4d9c-a87b-037f3dea6076",
   "metadata": {},
   "outputs": [
    {
     "name": "stdout",
     "output_type": "stream",
     "text": [
      "<class 'dict'>\n"
     ]
    }
   ],
   "source": [
    "print(type(dey()))"
   ]
  },
  {
   "cell_type": "code",
   "execution_count": 18,
   "id": "cac52241-1483-4461-a54b-471f8c0cdb99",
   "metadata": {},
   "outputs": [
    {
     "name": "stdout",
     "output_type": "stream",
     "text": [
      "200\n"
     ]
    }
   ],
   "source": [
    "#reuired argumenst\n",
    "def mul(a,b):\n",
    "    c=a*b\n",
    "    print(c)\n",
    "mul(10,20)"
   ]
  },
  {
   "cell_type": "code",
   "execution_count": 21,
   "id": "8d854628-c388-4e41-ac8f-27efa0432541",
   "metadata": {},
   "outputs": [
    {
     "data": {
      "text/plain": [
       "625"
      ]
     },
     "execution_count": 21,
     "metadata": {},
     "output_type": "execute_result"
    }
   ],
   "source": [
    "#default argument\n",
    "def sq(n=25):\n",
    "    return n**2\n",
    "sq()"
   ]
  },
  {
   "cell_type": "code",
   "execution_count": 37,
   "id": "2cdde0b2-f416-47e6-9f7b-664e51ecd5ef",
   "metadata": {},
   "outputs": [
    {
     "name": "stdout",
     "output_type": "stream",
     "text": [
      "1\n",
      "10\n",
      "102\n",
      "1020\n",
      "10201\n",
      "It is a Palindrome\n"
     ]
    }
   ],
   "source": [
    "def reverse(n=10201):\n",
    "    rev=0\n",
    "    pr=n\n",
    "    while(n!=0):\n",
    "        r = n%10\n",
    "        rev = rev*10 + r\n",
    "        n = n//10\n",
    "        print(rev)\n",
    "    if(pr == rev):\n",
    "        print(\"It is a Palindrome\")\n",
    "    else:\n",
    "        print(\"NOt a palindrome\")\n",
    "reverse()"
   ]
  },
  {
   "cell_type": "code",
   "execution_count": 62,
   "id": "570df0c1-c9f2-4031-bd35-c809fc956ac6",
   "metadata": {},
   "outputs": [
    {
     "name": "stdout",
     "output_type": "stream",
     "text": [
      "64\n"
     ]
    }
   ],
   "source": [
    "def arm(n=4):\n",
    "    sum=0\n",
    "    temp=n\n",
    "    if(n!=0):\n",
    "        d = temp % 10\n",
    "        sum = sum + d**3\n",
    "        temp = temp/10\n",
    "    print(sum)\n",
    "        if()\n",
    "arm()"
   ]
  },
  {
   "cell_type": "code",
   "execution_count": 42,
   "id": "4fc35161-bd55-49a1-a22d-f8880ea55b85",
   "metadata": {},
   "outputs": [
    {
     "name": "stdout",
     "output_type": "stream",
     "text": [
      "radius is 10\n",
      "height is 5\n",
      "1570.0\n",
      "Sequence changed\n",
      "radius is 10\n",
      "height is 5\n",
      "1570.0\n"
     ]
    }
   ],
   "source": [
    "#Keyword\n",
    "def volume(r,h):\n",
    "    print(\"radius is\", r)\n",
    "    print(\"height is\",h)\n",
    "    vol=3.14*r*r*h\n",
    "    print(vol)\n",
    "volume(r=10,h=5)\n",
    "print(\"Sequence changed\")\n",
    "volume(h=5,r=10)"
   ]
  },
  {
   "cell_type": "code",
   "execution_count": 44,
   "id": "8de3c17f-9396-4f80-a0fe-67e5890ba17c",
   "metadata": {},
   "outputs": [
    {
     "name": "stdout",
     "output_type": "stream",
     "text": [
      "<class 'tuple'>\n"
     ]
    }
   ],
   "source": [
    "def tuple():\n",
    "    m = 1,2,3,4,5\n",
    "    return m\n",
    "tuple()\n",
    "print(type(tuple()))"
   ]
  },
  {
   "cell_type": "code",
   "execution_count": 45,
   "id": "35c2b4ca-e0bb-4ae4-8ac8-aeddad7e4b24",
   "metadata": {},
   "outputs": [
    {
     "name": "stdout",
     "output_type": "stream",
     "text": [
      "(1, 5, 6, 7, 9, 10)\n",
      "<class 'tuple'>\n",
      "Addition 38\n"
     ]
    }
   ],
   "source": [
    "#variable length\n",
    "def add(*x):    # * means it is a tuple of variable length of the values that you can put\n",
    "    print(x)\n",
    "    print(type(x))\n",
    "    sum=0\n",
    "    for i in x:\n",
    "        sum=sum+i\n",
    "    print(\"Addition\",sum)\n",
    "add(1,5,6,7,9,10)"
   ]
  },
  {
   "cell_type": "code",
   "execution_count": 52,
   "id": "94d09901-f369-48ea-a6ee-c3304977544c",
   "metadata": {},
   "outputs": [
    {
     "name": "stdout",
     "output_type": "stream",
     "text": [
      "{'fi': 1, 's': 2, 't': 3, 'fr': 5, 'f': 6}\n",
      "<class 'dict'>\n",
      "Addition 17\n"
     ]
    }
   ],
   "source": [
    "def add(**x):   # ** means it is a dictionary of variable length of the values that ou can put\n",
    "    print(x)\n",
    "    print(type(x))\n",
    "    sum=0\n",
    "    for i in x:\n",
    "        sum = sum + x[i]\n",
    "    print(\"Addition\", sum)\n",
    "add(fi=1,s=2,t=3,fr=5,f=6)"
   ]
  },
  {
   "cell_type": "code",
   "execution_count": 53,
   "id": "434c32d3-7d4c-4828-8a0d-fefce71d5629",
   "metadata": {},
   "outputs": [
    {
     "name": "stdout",
     "output_type": "stream",
     "text": [
      "15\n",
      "Global inside the statement 10\n",
      "local 5\n",
      "Global outside the statement 10\n"
     ]
    }
   ],
   "source": [
    "#scope of the variable\n",
    "a = 10 #global variable\n",
    "def add():\n",
    "    b = 5  #local variable\n",
    "    c = a+b\n",
    "    print(c)\n",
    "    print(\"Global inside the statement\",a)\n",
    "    print(\"local\",b)\n",
    "add()\n",
    "print(\"Global outside the statement\",a)  #but local variable cannot be executed outside the parameter"
   ]
  },
  {
   "cell_type": "code",
   "execution_count": 64,
   "id": "9c694e4d-27ef-4c61-a026-82c093a34b68",
   "metadata": {},
   "outputs": [
    {
     "name": "stdout",
     "output_type": "stream",
     "text": [
      "30\n",
      "<class 'int'>\n"
     ]
    }
   ],
   "source": [
    "#if we need to define the global varible inside the statement as \"global a\"\n",
    "a=30\n",
    "def fun():\n",
    "    b=9\n",
    "    global a \n",
    "    print(a)\n",
    "    print(type(a))\n",
    "fun()"
   ]
  },
  {
   "cell_type": "code",
   "execution_count": 1,
   "id": "5d3d7be0-8e4d-46b7-9f85-49aa1ec68056",
   "metadata": {},
   "outputs": [
    {
     "name": "stdout",
     "output_type": "stream",
     "text": [
      "10\n"
     ]
    }
   ],
   "source": [
    "#anonymous function\n",
    "f=lambda a,b : a+b\n",
    "print(f(8,2))"
   ]
  },
  {
   "cell_type": "code",
   "execution_count": 5,
   "id": "62ab4be6-f231-4c7e-bd43-805e811ab70b",
   "metadata": {},
   "outputs": [
    {
     "name": "stdout",
     "output_type": "stream",
     "text": [
      "6\n"
     ]
    }
   ],
   "source": [
    "f = lambda a=4,b=2 : a+b\n",
    "print(f())"
   ]
  },
  {
   "cell_type": "code",
   "execution_count": 8,
   "id": "a4643933-54b1-441e-aa5f-4f8f0054c4eb",
   "metadata": {},
   "outputs": [
    {
     "name": "stdout",
     "output_type": "stream",
     "text": [
      "16\n"
     ]
    }
   ],
   "source": [
    "def ha():\n",
    "    return lambda a=9,b=7 : a+b\n",
    "new=ha()\n",
    "print(new())"
   ]
  },
  {
   "cell_type": "code",
   "execution_count": 9,
   "id": "c6eaf86b-d203-4cf8-9759-ec4f111a323d",
   "metadata": {},
   "outputs": [
    {
     "name": "stdout",
     "output_type": "stream",
     "text": [
      "10\n"
     ]
    }
   ],
   "source": [
    "def ga(n):\n",
    "    return lambda a:a*n\n",
    "new=ga(2)\n",
    "print(new(5))"
   ]
  },
  {
   "cell_type": "code",
   "execution_count": 43,
   "id": "c6de862e-57ef-40c4-87df-54268cbdd54b",
   "metadata": {},
   "outputs": [
    {
     "name": "stdout",
     "output_type": "stream",
     "text": [
      "8\n"
     ]
    }
   ],
   "source": [
    "def ga(): \n",
    "    return lambda x,y: x if x>y else y\n",
    "new=ga()\n",
    "print(new(7,8))"
   ]
  },
  {
   "cell_type": "code",
   "execution_count": 66,
   "id": "b2b20533-b8aa-47f1-96db-8f1528598b6d",
   "metadata": {},
   "outputs": [
    {
     "name": "stdout",
     "output_type": "stream",
     "text": [
      "Even\n"
     ]
    }
   ],
   "source": [
    "def even(n):\n",
    "    for i in range(0,10,1):\n",
    "        if(n%2==0):\n",
    "            return lambda e:\"Even\"\n",
    "        else:\n",
    "            return lambda e:\"Odd\"\n",
    "new=even(6)\n",
    "print(new(0))"
   ]
  },
  {
   "cell_type": "code",
   "execution_count": 49,
   "id": "b18f82bf-5f04-4f12-bd86-230f09564de0",
   "metadata": {},
   "outputs": [
    {
     "data": {
      "text/plain": [
       "[9, 16, 25, 36, 49]"
      ]
     },
     "execution_count": 49,
     "metadata": {},
     "output_type": "execute_result"
    }
   ],
   "source": [
    "#use of map function\n",
    "list1=[3,4,5,6,7]\n",
    "square1=list(map(lambda x:x**2,list1))\n",
    "square1"
   ]
  },
  {
   "cell_type": "code",
   "execution_count": 78,
   "id": "b0d8be2b-6176-40a7-a7bf-27cac71b2599",
   "metadata": {},
   "outputs": [
    {
     "name": "stdout",
     "output_type": "stream",
     "text": [
      "[0, True, 2, True, 4, True, 6, True, 8, True]\n"
     ]
    }
   ],
   "source": [
    "even=list(map(lambda x:x if(x%2==0) else (x%2!=0),range(0,10)))\n",
    "print(even)"
   ]
  },
  {
   "cell_type": "code",
   "execution_count": 76,
   "id": "898a0668-8071-4c16-adce-698ca1437fd1",
   "metadata": {},
   "outputs": [
    {
     "data": {
      "text/plain": [
       "[3, 5, 4]"
      ]
     },
     "execution_count": 76,
     "metadata": {},
     "output_type": "execute_result"
    }
   ],
   "source": [
    "list1=['hey','Edwin','here']\n",
    "a=list(map(len,list1))\n",
    "a"
   ]
  },
  {
   "cell_type": "code",
   "execution_count": 79,
   "id": "3f3acd17-f899-41c7-b88c-be3de9b65f54",
   "metadata": {},
   "outputs": [
    {
     "data": {
      "text/plain": [
       "[1, 8, 27, 64, 125, 216, 343, 512, 729]"
      ]
     },
     "execution_count": 79,
     "metadata": {},
     "output_type": "execute_result"
    }
   ],
   "source": [
    "list1=[1,2,3,4,5,6,7,8,9]\n",
    "cubed = list(map(lambda x:pow(x,3), list1))\n",
    "cubed"
   ]
  },
  {
   "cell_type": "code",
   "execution_count": 81,
   "id": "82d1d268-bc73-4b8b-b7f1-23d9dead2ae0",
   "metadata": {},
   "outputs": [
    {
     "data": {
      "text/plain": [
       "[3, 5, 7, 6]"
      ]
     },
     "execution_count": 81,
     "metadata": {},
     "output_type": "execute_result"
    }
   ],
   "source": [
    "circle = [3.2,4.57, 6.78,5.976]\n",
    "result = list(map(round,circle))\n",
    "result"
   ]
  },
  {
   "cell_type": "code",
   "execution_count": 83,
   "id": "66c4e52b-f1ba-41f5-b3c5-4c159292fb31",
   "metadata": {},
   "outputs": [
    {
     "data": {
      "text/plain": [
       "[3, 5, 7, 6]"
      ]
     },
     "execution_count": 83,
     "metadata": {},
     "output_type": "execute_result"
    }
   ],
   "source": [
    "circle = [3.2,4.57, 6.78,5.976]\n",
    "result = list(map(lambda x:round(x) ,circle))\n",
    "result"
   ]
  },
  {
   "cell_type": "code",
   "execution_count": 85,
   "id": "af4f4e68-34d6-4357-b4c9-ef400dbe007f",
   "metadata": {},
   "outputs": [
    {
     "name": "stdout",
     "output_type": "stream",
     "text": [
      "[89, 76]\n"
     ]
    }
   ],
   "source": [
    "#use of filter function\n",
    "def checkgrade(marks):     \n",
    "    return marks>75\n",
    "listscore=[58,89,76,56,34,23]\n",
    "grade=list(filter(checkgrade,listscore))\n",
    "print(grade)"
   ]
  },
  {
   "cell_type": "code",
   "execution_count": 3,
   "id": "57df8014-0a0c-4203-8682-5713747e1a5d",
   "metadata": {},
   "outputs": [
    {
     "data": {
      "text/plain": [
       "['aba', '12321']"
      ]
     },
     "execution_count": 3,
     "metadata": {},
     "output_type": "execute_result"
    }
   ],
   "source": [
    "words=['abc','aba','12321']\n",
    "palin=list(filter(lambda x:x==x[::-1],words))\n",
    "palin\n"
   ]
  },
  {
   "cell_type": "code",
   "execution_count": 8,
   "id": "4bee949f-769e-4125-ad08-09389c0a1df2",
   "metadata": {},
   "outputs": [
    {
     "data": {
      "text/plain": [
       "[1, 2, 3, 4, 5, 6, 7, 8, 9, 10]"
      ]
     },
     "execution_count": 8,
     "metadata": {},
     "output_type": "execute_result"
    }
   ],
   "source": [
    "num=[0,1,2,3,4,5,6,7,8,9,10]\n",
    "even=list(filter(lambda x:x if x%2==0 else \"odd\",num))\n",
    "even"
   ]
  },
  {
   "cell_type": "code",
   "execution_count": 12,
   "id": "20ef28b1-2484-4027-a9a9-51e9e08f49c4",
   "metadata": {},
   "outputs": [
    {
     "name": "stdout",
     "output_type": "stream",
     "text": [
      "[]\n",
      "{(2, 'two'), (1, 'one'), (3, 'three')}\n",
      "[(1, 'one'), (2, 'two'), (3, 'three')]\n"
     ]
    }
   ],
   "source": [
    "n=[1,2,3]\n",
    "s=['one','two','three']\n",
    "\n",
    "#no iterables are passed\n",
    "result = zip()    #zip function\n",
    "r_list=list(result)\n",
    "print(r_list)\n",
    "\n",
    "result = zip(n,s)\n",
    "r = set(result)\n",
    "print(r)\n",
    "\n",
    "result = zip(n,s)\n",
    "r = list(result)\n",
    "print(r)"
   ]
  },
  {
   "cell_type": "code",
   "execution_count": 18,
   "id": "071afccd-d8b0-4146-ac50-341d762a1404",
   "metadata": {},
   "outputs": [
    {
     "name": "stdout",
     "output_type": "stream",
     "text": [
      "(('John', 'Jenny'), ('Charles', 'Christy'), ('Mike', 'Monica'))\n"
     ]
    }
   ],
   "source": [
    "a = (\"John\",\"Charles\",\"Mike\")\n",
    "b = (\"Jenny\", \"Christy\",\"Monica\",\"Vicky\")\n",
    "\n",
    "r=zip(a,b)\n",
    "r_1 = tuple(r)\n",
    "print(r_1)"
   ]
  },
  {
   "cell_type": "code",
   "execution_count": 19,
   "id": "ef3cf62d-feff-4987-b0f1-759536918fc4",
   "metadata": {},
   "outputs": [
    {
     "data": {
      "text/plain": [
       "15"
      ]
     },
     "execution_count": 19,
     "metadata": {},
     "output_type": "execute_result"
    }
   ],
   "source": [
    "from functools import reduce\n",
    "\n",
    "#reduce(function, iterable[, initializer])\n",
    "\n",
    "number=[1,2,3,4,5]\n",
    "sum=reduce((lambda x,y:x+y),number)\n",
    "sum"
   ]
  },
  {
   "cell_type": "code",
   "execution_count": 7,
   "id": "035597b5-6efd-4b8a-b757-ed49eb4cb2b2",
   "metadata": {},
   "outputs": [
    {
     "data": {
      "text/plain": [
       "[0, 'Odd', 2, 'Odd', 4, 'Odd', 6, 'Odd', 8]"
      ]
     },
     "execution_count": 7,
     "metadata": {},
     "output_type": "execute_result"
    }
   ],
   "source": [
    "num=[0,1,2,3,4,5,6,7,8]\n",
    "even=list(map(lambda x:x if x%2==0 else \"Odd\",num))\n",
    "even"
   ]
  },
  {
   "cell_type": "code",
   "execution_count": 21,
   "id": "c67c6860-d46a-422f-9ea9-220f32bde2c0",
   "metadata": {},
   "outputs": [
    {
     "name": "stdout",
     "output_type": "stream",
     "text": [
      "720\n"
     ]
    }
   ],
   "source": [
    "num=[1,2,3,4,5,6]\n",
    "def product(x,y):\n",
    "    return x*y\n",
    "prod=reduce(product,num)\n",
    "print(prod)"
   ]
  },
  {
   "cell_type": "code",
   "execution_count": 1,
   "id": "5ce54238-240b-4326-b826-ced8a3f5d6db",
   "metadata": {},
   "outputs": [
    {
     "data": {
      "text/plain": [
       "[0, 2, 4, 6, 8]"
      ]
     },
     "execution_count": 1,
     "metadata": {},
     "output_type": "execute_result"
    }
   ],
   "source": [
    "num=[0,1,2,3,4,5,6,7,8]\n",
    "even=list(filter(lambda x: (x%2==0),num))\n",
    "even"
   ]
  },
  {
   "cell_type": "code",
   "execution_count": 4,
   "id": "d213f403-ab8a-4528-bc1b-0f080a3a6171",
   "metadata": {},
   "outputs": [
    {
     "name": "stdout",
     "output_type": "stream",
     "text": [
      "[1, 3, 5, 7, 9]\n"
     ]
    }
   ],
   "source": [
    "num=[0,1,2,3,4,5,6,7,8,9,10]\n",
    "x=list(filter(lambda a: (a%2!=0),num))\n",
    "print(x)"
   ]
  },
  {
   "cell_type": "code",
   "execution_count": 16,
   "id": "efd3b46c-72ae-4404-b1c1-afcdd7cc8eb5",
   "metadata": {},
   "outputs": [
    {
     "name": "stdout",
     "output_type": "stream",
     "text": [
      "[1, 4, 1225, 49, 81, 81]\n"
     ]
    }
   ],
   "source": [
    "def sq(n):\n",
    "    return n*n\n",
    "x=(1,2,35,7,9,9)\n",
    "r=map(sq,x)\n",
    "print(list(r))"
   ]
  },
  {
   "cell_type": "code",
   "execution_count": 22,
   "id": "40504617-79f6-497c-9e35-f728026b583c",
   "metadata": {},
   "outputs": [
    {
     "data": {
      "text/plain": [
       "[1, 4, 1225, 49, 81]"
      ]
     },
     "execution_count": 22,
     "metadata": {},
     "output_type": "execute_result"
    }
   ],
   "source": [
    "x={1,2,35,7,9,9}\n",
    "re=list(map(lambda n:n*n,x))\n",
    "re"
   ]
  },
  {
   "cell_type": "code",
   "execution_count": 26,
   "id": "e1c65337-24d3-4bd4-bbd2-ed23c098eaab",
   "metadata": {},
   "outputs": [
    {
     "name": "stdout",
     "output_type": "stream",
     "text": [
      "252\n"
     ]
    }
   ],
   "source": [
    "from functools import reduce\n",
    "num=[210,15,12,15]\n",
    "sum=(reduce(lambda x,y:x+y,num))\n",
    "print(sum)"
   ]
  },
  {
   "cell_type": "code",
   "execution_count": 38,
   "id": "cfd4ad64-304e-407e-9ed6-a86896ea2f0c",
   "metadata": {},
   "outputs": [
    {
     "name": "stdout",
     "output_type": "stream",
     "text": [
      "8475\n"
     ]
    }
   ],
   "source": [
    "# Write a Python program to create a lambda function that adds 15 to a given number passed in as an argument, also create a lambda function that multiplies argument x with argument y and prints the result.\n",
    "from functools import reduce\n",
    "num=[1,2,3,4,5,6]\n",
    "sum=(reduce(lambda x,y:(x*y)+15,num))\n",
    "print(sum)"
   ]
  },
  {
   "cell_type": "code",
   "execution_count": 37,
   "id": "5389797a-bf38-4cc1-855a-f3963b1e7cdf",
   "metadata": {},
   "outputs": [
    {
     "name": "stdout",
     "output_type": "stream",
     "text": [
      "[20, 100, 20, 50]\n"
     ]
    }
   ],
   "source": [
    "#Write a Python program to create a function that takes one argument, and that argument will be multiplied with an unknown given number.\n",
    "from functools import reduce\n",
    "num=[2,10,2,5]\n",
    "add=list(map(lambda x: x * 10,num))\n",
    "print(add)"
   ]
  },
  {
   "cell_type": "code",
   "execution_count": 54,
   "id": "dc275aa1-cfcc-483a-adaf-bfab57c7d6b4",
   "metadata": {},
   "outputs": [
    {
     "name": "stdout",
     "output_type": "stream",
     "text": [
      "[None, None, None, None, None, None]\n",
      "[1, 1, 2, 3, 5, 8]\n"
     ]
    }
   ],
   "source": [
    "num=[5,3,2,1,8,1]\n",
    "# n=num.sort()\n",
    "# print(num)\n",
    "s= list(map(lambda x: num.sort(),num))\n",
    "print(s)\n",
    "print(num)"
   ]
  },
  {
   "cell_type": "code",
   "execution_count": 59,
   "id": "4c013422-06f7-4df0-a57c-36c213902c85",
   "metadata": {},
   "outputs": [
    {
     "ename": "TypeError",
     "evalue": "cannot convert dictionary update sequence element #0 to a sequence",
     "output_type": "error",
     "traceback": [
      "\u001b[1;31m---------------------------------------------------------------------------\u001b[0m",
      "\u001b[1;31mTypeError\u001b[0m                                 Traceback (most recent call last)",
      "Cell \u001b[1;32mIn[59], line 2\u001b[0m\n\u001b[0;32m      1\u001b[0m models \u001b[38;5;241m=\u001b[39m [{\u001b[38;5;124m'\u001b[39m\u001b[38;5;124mmake\u001b[39m\u001b[38;5;124m'\u001b[39m:\u001b[38;5;124m'\u001b[39m\u001b[38;5;124mNokia\u001b[39m\u001b[38;5;124m'\u001b[39m, \u001b[38;5;124m'\u001b[39m\u001b[38;5;124mmodel\u001b[39m\u001b[38;5;124m'\u001b[39m:\u001b[38;5;241m216\u001b[39m, \u001b[38;5;124m'\u001b[39m\u001b[38;5;124mcolor\u001b[39m\u001b[38;5;124m'\u001b[39m:\u001b[38;5;124m'\u001b[39m\u001b[38;5;124mBlack\u001b[39m\u001b[38;5;124m'\u001b[39m}, {\u001b[38;5;124m'\u001b[39m\u001b[38;5;124mmake\u001b[39m\u001b[38;5;124m'\u001b[39m:\u001b[38;5;124m'\u001b[39m\u001b[38;5;124mMi Max\u001b[39m\u001b[38;5;124m'\u001b[39m, \u001b[38;5;124m'\u001b[39m\u001b[38;5;124mmodel\u001b[39m\u001b[38;5;124m'\u001b[39m:\u001b[38;5;124m'\u001b[39m\u001b[38;5;124m2\u001b[39m\u001b[38;5;124m'\u001b[39m, \u001b[38;5;124m'\u001b[39m\u001b[38;5;124mcolor\u001b[39m\u001b[38;5;124m'\u001b[39m:\u001b[38;5;124m'\u001b[39m\u001b[38;5;124mGold\u001b[39m\u001b[38;5;124m'\u001b[39m}, {\u001b[38;5;124m'\u001b[39m\u001b[38;5;124mmake\u001b[39m\u001b[38;5;124m'\u001b[39m:\u001b[38;5;124m'\u001b[39m\u001b[38;5;124mSamsung\u001b[39m\u001b[38;5;124m'\u001b[39m, \u001b[38;5;124m'\u001b[39m\u001b[38;5;124mmodel\u001b[39m\u001b[38;5;124m'\u001b[39m: \u001b[38;5;241m7\u001b[39m, \u001b[38;5;124m'\u001b[39m\u001b[38;5;124mcolor\u001b[39m\u001b[38;5;124m'\u001b[39m:\u001b[38;5;124m'\u001b[39m\u001b[38;5;124mBlue\u001b[39m\u001b[38;5;124m'\u001b[39m}]\n\u001b[1;32m----> 2\u001b[0m s \u001b[38;5;241m=\u001b[39m \u001b[38;5;28;43mdict\u001b[39;49m\u001b[43m(\u001b[49m\u001b[38;5;28;43mmap\u001b[39;49m\u001b[43m(\u001b[49m\u001b[38;5;28;43;01mlambda\u001b[39;49;00m\u001b[43m \u001b[49m\u001b[43mx\u001b[49m\u001b[43m:\u001b[49m\u001b[43mnum\u001b[49m\u001b[38;5;241;43m.\u001b[39;49m\u001b[43msort\u001b[49m\u001b[43m(\u001b[49m\u001b[43m)\u001b[49m\u001b[43m,\u001b[49m\u001b[43mnum\u001b[49m\u001b[43m)\u001b[49m\u001b[43m)\u001b[49m\n\u001b[0;32m      3\u001b[0m \u001b[38;5;28mprint\u001b[39m(s)\n\u001b[0;32m      4\u001b[0m \u001b[38;5;28mprint\u001b[39m(models)\n",
      "\u001b[1;31mTypeError\u001b[0m: cannot convert dictionary update sequence element #0 to a sequence"
     ]
    }
   ],
   "source": [
    "models = [{'make':'Nokia', 'model':216, 'color':'Black'}, {'make':'Mi Max', 'model':'2', 'color':'Gold'}, {'make':'Samsung', 'model': 7, 'color':'Blue'}]\n",
    "s = dict(map(lambda x:models.sort(),models))\n",
    "print(s)\n",
    "print(models)"
   ]
  },
  {
   "cell_type": "code",
   "execution_count": 32,
   "id": "92664bf8-0fa0-4b9c-8637-8e986282df37",
   "metadata": {},
   "outputs": [
    {
     "name": "stdout",
     "output_type": "stream",
     "text": [
      "12\n",
      "None\n"
     ]
    }
   ],
   "source": [
    "def rev(x):\n",
    "    if x==1:\n",
    "        return \"This is not a reverse number\"\n",
    "    else:\n",
    "        r_1=0\n",
    "        r = x%10\n",
    "        r_1 = r_1*10+r\n",
    "        x = x//10\n",
    "        print(x)\n",
    "        \n",
    "x = 121\n",
    "print(rev(x))\n",
    "# print(\"The reverse number of\",x,\"is\",rev(x))"
   ]
  },
  {
   "cell_type": "code",
   "execution_count": 2,
   "id": "eb779dc8-1721-4923-89ee-1c7a4150bde1",
   "metadata": {},
   "outputs": [
    {
     "name": "stdin",
     "output_type": "stream",
     "text": [
      "Enter the Values: 7\n"
     ]
    },
    {
     "name": "stdout",
     "output_type": "stream",
     "text": [
      "1\n",
      "2\n",
      "6\n",
      "24\n",
      "120\n",
      "720\n",
      "5040\n"
     ]
    }
   ],
   "source": [
    "#num=int(input(\"Enter the number to factorial\")) #factorial\n",
    "num = int(input(\"Enter the Values:\"))\n",
    "f=1\n",
    "for i in range(1,num+1):\n",
    "    f=f*i\n",
    "    print(f)"
   ]
  },
  {
   "cell_type": "code",
   "execution_count": 4,
   "id": "cc235a9b-8442-434f-8544-4050a307d2ab",
   "metadata": {},
   "outputs": [
    {
     "data": {
      "text/plain": [
       "5040"
      ]
     },
     "execution_count": 4,
     "metadata": {},
     "output_type": "execute_result"
    }
   ],
   "source": [
    "def fact(n):\n",
    "    if n==1:\n",
    "        return 1\n",
    "    else:\n",
    "        return n*fact(n-1)\n",
    "\n",
    "fact(7)"
   ]
  },
  {
   "cell_type": "code",
   "execution_count": 10,
   "id": "73f64678-4d7d-4d7e-9fe7-9d3ec004096f",
   "metadata": {},
   "outputs": [
    {
     "name": "stdin",
     "output_type": "stream",
     "text": [
      "Enter the values of b:  10\n"
     ]
    },
    {
     "name": "stdout",
     "output_type": "stream",
     "text": [
      "0 1 1 2 3 5 8 13 21 34 "
     ]
    }
   ],
   "source": [
    "def fib(n):\n",
    "    if n==0:\n",
    "        return 0\n",
    "    elif n==1:\n",
    "        return 1\n",
    "    else:\n",
    "        return fib(n-1)+fib(n-2)\n",
    "        \n",
    "count=int(input(\"Enter the values of b: \"))\n",
    "if count<=0:\n",
    "    print(\"Nuber is greater than\")\n",
    "else:\n",
    "    for i in range(count):\n",
    "        print(fib(i),end=\" \")"
   ]
  },
  {
   "cell_type": "code",
   "execution_count": 9,
   "id": "e3f1e5ca-dd1f-41c4-917f-d5892f086dc3",
   "metadata": {},
   "outputs": [
    {
     "name": "stdin",
     "output_type": "stream",
     "text": [
      "Enter the value: 10\n"
     ]
    }
   ],
   "source": [
    "fib=int(input(\"Enter the value:\"))\n",
    "for i in range(0,fib):\n",
    "    if(fib<=1):\n",
    "        n = fib(n-1)+fib(n-2)\n",
    "        print(n)"
   ]
  },
  {
   "cell_type": "code",
   "execution_count": null,
   "id": "c0c9c71b-a5e7-4062-af41-c5ee50e849a7",
   "metadata": {},
   "outputs": [],
   "source": []
  },
  {
   "cell_type": "code",
   "execution_count": null,
   "id": "04739bc0-cbd8-4ca1-be37-74d6ff39200e",
   "metadata": {},
   "outputs": [],
   "source": []
  }
 ],
 "metadata": {
  "kernelspec": {
   "display_name": "Python 3 (ipykernel)",
   "language": "python",
   "name": "python3"
  },
  "language_info": {
   "codemirror_mode": {
    "name": "ipython",
    "version": 3
   },
   "file_extension": ".py",
   "mimetype": "text/x-python",
   "name": "python",
   "nbconvert_exporter": "python",
   "pygments_lexer": "ipython3",
   "version": "3.11.5"
  }
 },
 "nbformat": 4,
 "nbformat_minor": 5
}
