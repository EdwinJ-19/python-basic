{
 "cells": [
  {
   "cell_type": "code",
   "execution_count": 7,
   "id": "3eea3a14-efad-4998-aa35-4cd4c968f138",
   "metadata": {},
   "outputs": [
    {
     "name": "stdout",
     "output_type": "stream",
     "text": [
      "10\n",
      "8\n",
      "6\n",
      "4\n",
      "2\n",
      "0\n",
      "-2\n",
      "-4\n",
      "-6\n",
      "-8\n"
     ]
    }
   ],
   "source": [
    "#iterative statement (loop[for loop and while loop] and bitwise)\n",
    "#range() is a function generates a sequence of numbers into specified range-> range(lowerlimit,upperlimit,stepvalue), range(start,stop,step)\n",
    "#inn range, it will produce the list having a value starting from l,l+1,l+2....(u-1)\n",
    "for i in range(10,-10,-2):\n",
    "    print(i)"
   ]
  },
  {
   "cell_type": "code",
   "execution_count": 9,
   "id": "b4b33f74-2f78-462d-a578-81345cd8f534",
   "metadata": {},
   "outputs": [
    {
     "name": "stdout",
     "output_type": "stream",
     "text": [
      "G\n",
      "o\n",
      "o\n",
      "d\n",
      " \n",
      "A\n",
      "f\n",
      "t\n",
      "e\n",
      "r\n",
      "n\n",
      "o\n",
      "o\n",
      "n\n"
     ]
    }
   ],
   "source": [
    "s=\"Good Afternoon\"\n",
    "#le=len(s)\n",
    "#print(le)\n",
    "\n",
    "for i in s:\n",
    "    print(i)"
   ]
  },
  {
   "cell_type": "code",
   "execution_count": null,
   "id": "d5a5bdd7-311d-4c95-b788-ffa227570e91",
   "metadata": {},
   "outputs": [],
   "source": []
  }
 ],
 "metadata": {
  "kernelspec": {
   "display_name": "Python 3 (ipykernel)",
   "language": "python",
   "name": "python3"
  },
  "language_info": {
   "codemirror_mode": {
    "name": "ipython",
    "version": 3
   },
   "file_extension": ".py",
   "mimetype": "text/x-python",
   "name": "python",
   "nbconvert_exporter": "python",
   "pygments_lexer": "ipython3",
   "version": "3.11.5"
  }
 },
 "nbformat": 4,
 "nbformat_minor": 5
}
