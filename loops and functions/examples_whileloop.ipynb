{
 "cells": [
  {
   "cell_type": "code",
   "execution_count": 6,
   "id": "5d9c6a64-2e65-46dd-a560-e419df7c5821",
   "metadata": {},
   "outputs": [
    {
     "name": "stdin",
     "output_type": "stream",
     "text": [
      "Enter the value to accept the number: 5678\n"
     ]
    },
    {
     "name": "stdout",
     "output_type": "stream",
     "text": [
      "Sum- 8\n",
      "Sum- 15\n",
      "Sum- 21\n",
      "Sum- 26\n"
     ]
    }
   ],
   "source": [
    "#wap to find sum of digits of a number accepted from user\n",
    "num = int(input(\"Enter the value to accept the number:\"))  #while loop\n",
    "s=0\n",
    "while(num):\n",
    "    r=num%10\n",
    "    s=s+r\n",
    "    num=num//10\n",
    "    print(\"Sum-\",s)"
   ]
  },
  {
   "cell_type": "code",
   "execution_count": 4,
   "id": "9bc57883-a627-4d10-9fdb-73b6d41bf2ee",
   "metadata": {},
   "outputs": [
    {
     "name": "stdin",
     "output_type": "stream",
     "text": [
      "Enter the value to accept the number: 5678\n"
     ]
    },
    {
     "name": "stdout",
     "output_type": "stream",
     "text": [
      "Sum- 78\n",
      "Sum- 145\n",
      "Sum- 201\n",
      "Sum- 206\n"
     ]
    }
   ],
   "source": [
    "#wap to find sum of double digits of a number accepted from user\n",
    "num = int(input(\"Enter the value to accept the number:\"))  #while loop\n",
    "s=0\n",
    "while(num):\n",
    "    r=num%100\n",
    "    s=s+r\n",
    "    num=num//10\n",
    "    print(\"Sum-\",s)"
   ]
  },
  {
   "cell_type": "code",
   "execution_count": 7,
   "id": "980b4acc-079e-46fc-a9ea-306b0fc38d27",
   "metadata": {},
   "outputs": [
    {
     "name": "stdin",
     "output_type": "stream",
     "text": [
      "Enter the value of prime number: 7\n"
     ]
    },
    {
     "name": "stdout",
     "output_type": "stream",
     "text": [
      "prime\n"
     ]
    }
   ],
   "source": [
    "num = int(input(\"Enter the value of prime number:\")) #prime number\n",
    "f=0\n",
    "if num==1 or num==0:\n",
    "    f=1\n",
    "for i in range(2,num):\n",
    "    if num%i==0:\n",
    "        f=1\n",
    "if f==1:\n",
    "    print(\"not a prime number\")\n",
    "else:\n",
    "    print(\"prime\")"
   ]
  },
  {
   "cell_type": "code",
   "execution_count": 8,
   "id": "3c9312a2-41d1-45cd-877c-659e6bc98fdd",
   "metadata": {},
   "outputs": [
    {
     "name": "stdout",
     "output_type": "stream",
     "text": [
      "2\n",
      "10\n",
      "2\n"
     ]
    }
   ],
   "source": [
    "for i in (2,10,2):\n",
    "    print(i)"
   ]
  },
  {
   "cell_type": "code",
   "execution_count": 9,
   "id": "232221d9-e90c-425b-bc62-53627066d99e",
   "metadata": {},
   "outputs": [
    {
     "name": "stdout",
     "output_type": "stream",
     "text": [
      "25\n",
      "64\n",
      "121\n",
      "196\n"
     ]
    }
   ],
   "source": [
    "x =5\n",
    "while(x<15):\n",
    "    print(x**2)\n",
    "    x+=3"
   ]
  },
  {
   "cell_type": "code",
   "execution_count": 10,
   "id": "88ec76b5-bac4-460d-8cf4-7dd45c81e77f",
   "metadata": {},
   "outputs": [
    {
     "name": "stdout",
     "output_type": "stream",
     "text": [
      "H\n",
      "H\n",
      "H\n",
      "H\n"
     ]
    }
   ],
   "source": [
    "b=5\n",
    "while(b<9):\n",
    "    print(\"H\")\n",
    "    b+=1"
   ]
  },
  {
   "cell_type": "code",
   "execution_count": 11,
   "id": "b0b9742a-3909-46c7-9638-958497334ebd",
   "metadata": {},
   "outputs": [
    {
     "name": "stdout",
     "output_type": "stream",
     "text": [
      "Hello\n",
      "Hello\n",
      "Hello\n"
     ]
    }
   ],
   "source": [
    "b=15\n",
    "while(b>9):\n",
    "    print(\"Hello\")\n",
    "    b=b-2"
   ]
  },
  {
   "cell_type": "code",
   "execution_count": null,
   "id": "c859cdef-deb3-43fa-996e-e462f30987dc",
   "metadata": {},
   "outputs": [],
   "source": []
  }
 ],
 "metadata": {
  "kernelspec": {
   "display_name": "Python 3 (ipykernel)",
   "language": "python",
   "name": "python3"
  },
  "language_info": {
   "codemirror_mode": {
    "name": "ipython",
    "version": 3
   },
   "file_extension": ".py",
   "mimetype": "text/x-python",
   "name": "python",
   "nbconvert_exporter": "python",
   "pygments_lexer": "ipython3",
   "version": "3.11.5"
  }
 },
 "nbformat": 4,
 "nbformat_minor": 5
}
