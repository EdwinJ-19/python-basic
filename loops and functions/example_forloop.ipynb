{
 "cells": [
  {
   "cell_type": "code",
   "execution_count": 7,
   "id": "4f6d6878-d173-4a8d-a359-09e41467c4f5",
   "metadata": {},
   "outputs": [
    {
     "name": "stdout",
     "output_type": "stream",
     "text": [
      "80\n",
      "84\n",
      "88\n",
      "92\n",
      "96\n"
     ]
    }
   ],
   "source": [
    "#for loop\n",
    "for i in range(80,100,4):\n",
    "    print(i)"
   ]
  },
  {
   "cell_type": "code",
   "execution_count": 9,
   "id": "a8d147b8-6d22-4966-80c2-6ca3d8203caa",
   "metadata": {},
   "outputs": [
    {
     "name": "stdout",
     "output_type": "stream",
     "text": [
      "G /\n",
      "u /\n",
      "t /\n",
      "e /\n",
      "n /\n",
      "  /\n",
      "M /\n",
      "o /\n",
      "r /\n",
      "n /\n",
      "e /\n",
      "g /\n"
     ]
    }
   ],
   "source": [
    "for i in \"Guten Morneg\":\n",
    "    print(i,\"/\")"
   ]
  },
  {
   "cell_type": "code",
   "execution_count": 26,
   "id": "93c0ae2c-548f-4b8d-acdd-62c50a77b285",
   "metadata": {},
   "outputs": [
    {
     "name": "stdout",
     "output_type": "stream",
     "text": [
      "1\n",
      "3\n",
      "5\n",
      "7\n",
      "9\n"
     ]
    }
   ],
   "source": [
    "for i in range(0,10,1):    #odd number\n",
    "    if(i%2!=0):\n",
    "        print(i)"
   ]
  },
  {
   "cell_type": "code",
   "execution_count": 12,
   "id": "1d553234-9ae5-4690-9da1-b1f816fb53dd",
   "metadata": {},
   "outputs": [
    {
     "name": "stdout",
     "output_type": "stream",
     "text": [
      "0\n",
      "2\n",
      "4\n",
      "6\n",
      "8\n"
     ]
    }
   ],
   "source": [
    "for i in range(0,10,1):    #even number\n",
    "    if(i%2==0):\n",
    "        print(i)"
   ]
  },
  {
   "cell_type": "code",
   "execution_count": 27,
   "id": "87efb971-11dc-40f6-9452-1dc6fa38ffc4",
   "metadata": {},
   "outputs": [
    {
     "name": "stdout",
     "output_type": "stream",
     "text": [
      "1\n",
      "3\n",
      "5\n",
      "7\n",
      "9\n"
     ]
    }
   ],
   "source": [
    "for i in range(0,10,1):    #even number\n",
    "    if(i%2):\n",
    "        print(i)"
   ]
  },
  {
   "cell_type": "code",
   "execution_count": 31,
   "id": "2ae74c98-837c-45f9-a4b6-1cd23290ff4e",
   "metadata": {},
   "outputs": [
    {
     "name": "stdout",
     "output_type": "stream",
     "text": [
      "G u t e n   M o r n e g "
     ]
    }
   ],
   "source": [
    "s=\"Guten Morneg\"\n",
    "for i in s:\n",
    "    print(i,end=\" \")"
   ]
  },
  {
   "cell_type": "code",
   "execution_count": 37,
   "id": "0195185a-f37f-4dc5-8d40-81d797d1122a",
   "metadata": {},
   "outputs": [
    {
     "name": "stdout",
     "output_type": "stream",
     "text": [
      "20 19 18 17 16 15 14 13 12 11 "
     ]
    }
   ],
   "source": [
    "#revese number\n",
    "for i in range(20,10,-1):\n",
    "    print(i,end=\" \")"
   ]
  },
  {
   "cell_type": "code",
   "execution_count": 45,
   "id": "1646b7c8-24cf-4d42-82b6-e0576e7ee8bd",
   "metadata": {},
   "outputs": [
    {
     "name": "stdout",
     "output_type": "stream",
     "text": [
      "2\n",
      "4\n",
      "6\n",
      "8\n",
      "10\n",
      "12\n",
      "14\n",
      "16\n",
      "18\n",
      "20\n"
     ]
    }
   ],
   "source": [
    "#print a table of 2\n",
    "for i in range(0,21,2):\n",
    "    if(i*2):\n",
    "        print(i)"
   ]
  },
  {
   "cell_type": "code",
   "execution_count": 61,
   "id": "c5a91c57-f29b-4ab4-a6b2-e99cc3be6878",
   "metadata": {},
   "outputs": [
    {
     "name": "stdin",
     "output_type": "stream",
     "text": [
      "Enter the number to multiply with: 2\n"
     ]
    },
    {
     "name": "stdout",
     "output_type": "stream",
     "text": [
      "2 = 2 * 1\n",
      "4 = 2 * 2\n",
      "6 = 2 * 3\n",
      "8 = 2 * 4\n",
      "10 = 2 * 5\n",
      "12 = 2 * 6\n",
      "14 = 2 * 7\n",
      "16 = 2 * 8\n",
      "18 = 2 * 9\n"
     ]
    }
   ],
   "source": [
    "#user input\n",
    "num=int(input(\"Enter the number to multiply with:\"))\n",
    "for i in range(1,10,1):\n",
    "    m=num*i\n",
    "    print(m,\"=\",num,\"*\",i)"
   ]
  },
  {
   "cell_type": "code",
   "execution_count": 76,
   "id": "f05c35e6-3d08-4a0c-a69e-49243d8a3b72",
   "metadata": {},
   "outputs": [
    {
     "name": "stdin",
     "output_type": "stream",
     "text": [
      "Enter the number to factorial 5\n"
     ]
    },
    {
     "name": "stdout",
     "output_type": "stream",
     "text": [
      "1\n",
      "2\n",
      "6\n",
      "24\n",
      "120\n"
     ]
    }
   ],
   "source": [
    "num=int(input(\"Enter the number to factorial\")) #factorial\n",
    "f=1\n",
    "for i in range(1,num+1):\n",
    "    f=f*i\n",
    "    print(f)"
   ]
  },
  {
   "cell_type": "code",
   "execution_count": 1,
   "id": "910c2596-f6e1-4ebb-8da8-f59880db1f45",
   "metadata": {},
   "outputs": [
    {
     "name": "stdin",
     "output_type": "stream",
     "text": [
      "Enter the number to factorial 5\n"
     ]
    },
    {
     "name": "stdout",
     "output_type": "stream",
     "text": [
      "120\n"
     ]
    }
   ],
   "source": [
    "num=int(input(\"Enter the number to factorial\")) #factorial\n",
    "f=1\n",
    "for i in range(num,0,-1):\n",
    "    f=f*i\n",
    "print(f)"
   ]
  },
  {
   "cell_type": "code",
   "execution_count": 85,
   "id": "104dec7e-b394-4726-8607-aeba9753ccdb",
   "metadata": {},
   "outputs": [
    {
     "name": "stdin",
     "output_type": "stream",
     "text": [
      "Enter the value to accept the number: 598\n"
     ]
    },
    {
     "name": "stdout",
     "output_type": "stream",
     "text": [
      "Sum- 8\n",
      "Sum- 17\n",
      "Sum- 22\n"
     ]
    }
   ],
   "source": [
    "#wap to find sum of digits of a number accepted from user\n",
    "num = int(input(\"Enter the value to accept the number:\"))  #while loop\n",
    "s=0\n",
    "while(num):\n",
    "    r=num%10\n",
    "    s=s+r\n",
    "    num=num//10\n",
    "    print(\"Sum-\",s)"
   ]
  },
  {
   "cell_type": "markdown",
   "id": "e172c252-53d0-4aca-9b40-c9d13298ab42",
   "metadata": {},
   "source": []
  },
  {
   "cell_type": "code",
   "execution_count": null,
   "id": "951a9699-cfa3-4465-ab93-d74f3f6b6277",
   "metadata": {},
   "outputs": [],
   "source": []
  }
 ],
 "metadata": {
  "kernelspec": {
   "display_name": "Python 3 (ipykernel)",
   "language": "python",
   "name": "python3"
  },
  "language_info": {
   "codemirror_mode": {
    "name": "ipython",
    "version": 3
   },
   "file_extension": ".py",
   "mimetype": "text/x-python",
   "name": "python",
   "nbconvert_exporter": "python",
   "pygments_lexer": "ipython3",
   "version": "3.11.5"
  }
 },
 "nbformat": 4,
 "nbformat_minor": 5
}
