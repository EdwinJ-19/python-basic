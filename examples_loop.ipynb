{
 "cells": [
  {
   "cell_type": "code",
   "execution_count": 1,
   "id": "5e7b401f-5f14-4e1d-87b6-ed9f2b721bda",
   "metadata": {},
   "outputs": [
    {
     "name": "stdout",
     "output_type": "stream",
     "text": [
      "1 2 3 4 \n",
      "1 2 3 4 \n",
      "1 2 3 4 \n",
      "1 2 3 4 \n"
     ]
    }
   ],
   "source": [
    "for i in range(1,5,1):\n",
    "    for j in range(1,5,1):\n",
    "        print(j,end=\" \")\n",
    "    print()"
   ]
  },
  {
   "cell_type": "code",
   "execution_count": 3,
   "id": "b452e318-9036-4627-aa8b-30805a4442c4",
   "metadata": {},
   "outputs": [
    {
     "name": "stdout",
     "output_type": "stream",
     "text": [
      "1 \n",
      "2 2 \n",
      "3 3 3 \n",
      "4 4 4 4 \n"
     ]
    }
   ],
   "source": [
    "for i in range(1,5,1):\n",
    "    for j in range(0,i,1):\n",
    "        print(i,end=\" \")\n",
    "    print()"
   ]
  },
  {
   "cell_type": "code",
   "execution_count": 15,
   "id": "bc9d1425-a7e0-4be0-8e57-54af51d980b4",
   "metadata": {},
   "outputs": [
    {
     "name": "stdout",
     "output_type": "stream",
     "text": [
      "5 5 5 5 5 1\n",
      "4 4 4 4 1\n",
      "3 3 3 1\n",
      "2 2 1\n",
      "1 1\n",
      "1\n"
     ]
    }
   ],
   "source": [
    "for i in range(5,-1,-1):\n",
    "    for j in range(i,0,-1):\n",
    "        print(i,end=\" \")\n",
    "    print(j)"
   ]
  },
  {
   "cell_type": "code",
   "execution_count": 26,
   "id": "968f4119-63ce-4931-9b6d-23c9a64f4f3d",
   "metadata": {},
   "outputs": [
    {
     "name": "stdout",
     "output_type": "stream",
     "text": [
      "*****\n",
      "****\n",
      "***\n",
      "**\n",
      "*\n"
     ]
    }
   ],
   "source": [
    "for i in range(5,0,-1):\n",
    "    for j in range(i,0,-1):\n",
    "        print(end=\"*\")\n",
    "    print()"
   ]
  },
  {
   "cell_type": "code",
   "execution_count": 2,
   "id": "66840db4-0e3d-44a7-b715-3dbae7bff96c",
   "metadata": {},
   "outputs": [
    {
     "name": "stdin",
     "output_type": "stream",
     "text": [
      "Enter the Number 1\n",
      "Enter the Number 2\n",
      "Enter the Number 10\n",
      "Enter the Number 2\n",
      "Enter the Number 4\n",
      "Enter the Number 6\n",
      "Enter the Number 71\n",
      "Enter the Number 12\n",
      "Enter the Number 12\n",
      "Enter the Number 5\n"
     ]
    },
    {
     "name": "stdout",
     "output_type": "stream",
     "text": [
      "0.5\n"
     ]
    }
   ],
   "source": [
    "#accept 10 number from user and find out the average\n",
    "sum=0\n",
    "for i in range(0,10,1):\n",
    "    num=int(input(\"Enter the Number\"))\n",
    "sum=sum+num\n",
    "avg=sum/10\n",
    "print(avg)"
   ]
  },
  {
   "cell_type": "code",
   "execution_count": 56,
   "id": "69998d32-5002-4655-9d82-f807368a6cd3",
   "metadata": {},
   "outputs": [
    {
     "name": "stdout",
     "output_type": "stream",
     "text": [
      "Number is even:  0 Number is odd: 1\n",
      "Number is even:  2 Number is odd: 3\n",
      "Number is even:  4 Number is odd: 5\n",
      "Number is even:  6 Number is odd: 7\n",
      "Number is even:  8 Number is odd: 9\n"
     ]
    }
   ],
   "source": [
    "# i = int(input(\"Enter the number to find out the number is even or odd\"))\n",
    "for i in range(0,10,1):\n",
    "    if(i%2==0):\n",
    "        print(\"Number is even: \",i,end=\" \")\n",
    "    if(i%2!=0):\n",
    "        print(\"Number is odd:\",i)"
   ]
  },
  {
   "cell_type": "code",
   "execution_count": 45,
   "id": "f7827714-8758-436b-b3c7-5872d50158c5",
   "metadata": {},
   "outputs": [
    {
     "name": "stdin",
     "output_type": "stream",
     "text": [
      "Enter the number to be reversed: 12345\n"
     ]
    },
    {
     "name": "stdout",
     "output_type": "stream",
     "text": [
      "Reversed Number is:  54321\n"
     ]
    }
   ],
   "source": [
    "num = int(input(\"Enter the number to be reversed:\"))  #reversed number\n",
    "rev_num = 0\n",
    "\n",
    "while(num!=0):\n",
    "    r = num%10 #remainder value\n",
    "    rev_num = rev_num*10+r  #placed value\n",
    "    num=num//10\n",
    "print(\"Reversed Number is: \",rev_num)"
   ]
  },
  {
   "cell_type": "code",
   "execution_count": 51,
   "id": "1fe6ceea-08a5-49f7-8f56-552c18497e41",
   "metadata": {},
   "outputs": [
    {
     "name": "stdin",
     "output_type": "stream",
     "text": [
      "Enter the number to get palindrome: 15651\n"
     ]
    },
    {
     "name": "stdout",
     "output_type": "stream",
     "text": [
      "1\n",
      "15\n",
      "156\n",
      "1565\n",
      "15651\n",
      "Number is palidrome\n"
     ]
    }
   ],
   "source": [
    "num = int(input(\"Enter the number to get palindrome:\"))  #number is plaindrome or not\n",
    "prnum = num\n",
    "p = 0\n",
    "while(num!=0):\n",
    "    i = num%10\n",
    "    p = p*10+i\n",
    "    num=num//10\n",
    "    print(p)\n",
    "if prnum == p:\n",
    "    print(\"Number is palidrome\")\n",
    "else:\n",
    "    print(\"Number is not palindrome\")"
   ]
  },
  {
   "cell_type": "code",
   "execution_count": 64,
   "id": "7b8e57d8-235d-4378-938f-5c213b8be97c",
   "metadata": {},
   "outputs": [
    {
     "name": "stdout",
     "output_type": "stream",
     "text": [
      "1\n",
      "2\n",
      "6\n",
      "24\n",
      "120\n"
     ]
    }
   ],
   "source": [
    "# 1+x/1!+x^2/2!+.....x^n/n! #series\n",
    "f=1\n",
    "for i in range(1,6,1):\n",
    "    f=f*i\n",
    "print(f)"
   ]
  },
  {
   "cell_type": "code",
   "execution_count": null,
   "id": "ab937b26-f773-4963-af53-cb3b6526f171",
   "metadata": {},
   "outputs": [],
   "source": []
  }
 ],
 "metadata": {
  "kernelspec": {
   "display_name": "Python 3 (ipykernel)",
   "language": "python",
   "name": "python3"
  },
  "language_info": {
   "codemirror_mode": {
    "name": "ipython",
    "version": 3
   },
   "file_extension": ".py",
   "mimetype": "text/x-python",
   "name": "python",
   "nbconvert_exporter": "python",
   "pygments_lexer": "ipython3",
   "version": "3.11.5"
  }
 },
 "nbformat": 4,
 "nbformat_minor": 5
}
